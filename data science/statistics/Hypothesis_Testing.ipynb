{
 "cells": [
  {
   "cell_type": "markdown",
   "metadata": {},
   "source": [
    "## Chi-Square Test\n",
    "The chi-square test is a statistical method used to determine if there is a significant association between two categorical variables."
   ]
  },
  {
   "cell_type": "code",
   "execution_count": 1,
   "metadata": {},
   "outputs": [],
   "source": [
    "# Importing the scipy.stats module from the SciPy library\n",
    "import scipy.stats as stats"
   ]
  },
  {
   "cell_type": "code",
   "execution_count": 2,
   "metadata": {},
   "outputs": [],
   "source": [
    "import seaborn as sns\n",
    "import pandas as pd\n",
    "import numpy as np"
   ]
  },
  {
   "cell_type": "code",
   "execution_count": 3,
   "metadata": {},
   "outputs": [],
   "source": [
    "# Load the 'tips' dataset from the seaborn library\n",
    "dataset = sns.load_dataset('tips')"
   ]
  },
  {
   "cell_type": "code",
   "execution_count": 4,
   "metadata": {},
   "outputs": [
    {
     "data": {
      "text/html": [
       "<div>\n",
       "<style scoped>\n",
       "    .dataframe tbody tr th:only-of-type {\n",
       "        vertical-align: middle;\n",
       "    }\n",
       "\n",
       "    .dataframe tbody tr th {\n",
       "        vertical-align: top;\n",
       "    }\n",
       "\n",
       "    .dataframe thead th {\n",
       "        text-align: right;\n",
       "    }\n",
       "</style>\n",
       "<table border=\"1\" class=\"dataframe\">\n",
       "  <thead>\n",
       "    <tr style=\"text-align: right;\">\n",
       "      <th></th>\n",
       "      <th>total_bill</th>\n",
       "      <th>tip</th>\n",
       "      <th>sex</th>\n",
       "      <th>smoker</th>\n",
       "      <th>day</th>\n",
       "      <th>time</th>\n",
       "      <th>size</th>\n",
       "    </tr>\n",
       "  </thead>\n",
       "  <tbody>\n",
       "    <tr>\n",
       "      <th>0</th>\n",
       "      <td>16.99</td>\n",
       "      <td>1.01</td>\n",
       "      <td>Female</td>\n",
       "      <td>No</td>\n",
       "      <td>Sun</td>\n",
       "      <td>Dinner</td>\n",
       "      <td>2</td>\n",
       "    </tr>\n",
       "    <tr>\n",
       "      <th>1</th>\n",
       "      <td>10.34</td>\n",
       "      <td>1.66</td>\n",
       "      <td>Male</td>\n",
       "      <td>No</td>\n",
       "      <td>Sun</td>\n",
       "      <td>Dinner</td>\n",
       "      <td>3</td>\n",
       "    </tr>\n",
       "    <tr>\n",
       "      <th>2</th>\n",
       "      <td>21.01</td>\n",
       "      <td>3.50</td>\n",
       "      <td>Male</td>\n",
       "      <td>No</td>\n",
       "      <td>Sun</td>\n",
       "      <td>Dinner</td>\n",
       "      <td>3</td>\n",
       "    </tr>\n",
       "    <tr>\n",
       "      <th>3</th>\n",
       "      <td>23.68</td>\n",
       "      <td>3.31</td>\n",
       "      <td>Male</td>\n",
       "      <td>No</td>\n",
       "      <td>Sun</td>\n",
       "      <td>Dinner</td>\n",
       "      <td>2</td>\n",
       "    </tr>\n",
       "    <tr>\n",
       "      <th>4</th>\n",
       "      <td>24.59</td>\n",
       "      <td>3.61</td>\n",
       "      <td>Female</td>\n",
       "      <td>No</td>\n",
       "      <td>Sun</td>\n",
       "      <td>Dinner</td>\n",
       "      <td>4</td>\n",
       "    </tr>\n",
       "  </tbody>\n",
       "</table>\n",
       "</div>"
      ],
      "text/plain": [
       "   total_bill   tip     sex smoker  day    time  size\n",
       "0       16.99  1.01  Female     No  Sun  Dinner     2\n",
       "1       10.34  1.66    Male     No  Sun  Dinner     3\n",
       "2       21.01  3.50    Male     No  Sun  Dinner     3\n",
       "3       23.68  3.31    Male     No  Sun  Dinner     2\n",
       "4       24.59  3.61  Female     No  Sun  Dinner     4"
      ]
     },
     "execution_count": 4,
     "metadata": {},
     "output_type": "execute_result"
    }
   ],
   "source": [
    "dataset.head()"
   ]
  },
  {
   "cell_type": "code",
   "execution_count": 5,
   "metadata": {},
   "outputs": [
    {
     "data": {
      "text/html": [
       "<div>\n",
       "<style scoped>\n",
       "    .dataframe tbody tr th:only-of-type {\n",
       "        vertical-align: middle;\n",
       "    }\n",
       "\n",
       "    .dataframe tbody tr th {\n",
       "        vertical-align: top;\n",
       "    }\n",
       "\n",
       "    .dataframe thead th {\n",
       "        text-align: right;\n",
       "    }\n",
       "</style>\n",
       "<table border=\"1\" class=\"dataframe\">\n",
       "  <thead>\n",
       "    <tr style=\"text-align: right;\">\n",
       "      <th>smoker</th>\n",
       "      <th>Yes</th>\n",
       "      <th>No</th>\n",
       "    </tr>\n",
       "    <tr>\n",
       "      <th>sex</th>\n",
       "      <th></th>\n",
       "      <th></th>\n",
       "    </tr>\n",
       "  </thead>\n",
       "  <tbody>\n",
       "    <tr>\n",
       "      <th>Male</th>\n",
       "      <td>60</td>\n",
       "      <td>97</td>\n",
       "    </tr>\n",
       "    <tr>\n",
       "      <th>Female</th>\n",
       "      <td>33</td>\n",
       "      <td>54</td>\n",
       "    </tr>\n",
       "  </tbody>\n",
       "</table>\n",
       "</div>"
      ],
      "text/plain": [
       "smoker  Yes  No\n",
       "sex            \n",
       "Male     60  97\n",
       "Female   33  54"
      ]
     },
     "execution_count": 5,
     "metadata": {},
     "output_type": "execute_result"
    }
   ],
   "source": [
    "# Create a crosstab (contingency table) to show the frequency distribution of 'sex' and 'smoker' columns\n",
    "dataset_table = pd.crosstab(dataset['sex'], dataset['smoker'])\n",
    "dataset_table"
   ]
  },
  {
   "cell_type": "code",
   "execution_count": 6,
   "metadata": {},
   "outputs": [
    {
     "data": {
      "text/plain": [
       "array([[60, 97],\n",
       "       [33, 54]], dtype=int64)"
      ]
     },
     "execution_count": 6,
     "metadata": {},
     "output_type": "execute_result"
    }
   ],
   "source": [
    "# get values in array\n",
    "dataset_table.values"
   ]
  },
  {
   "cell_type": "code",
   "execution_count": 7,
   "metadata": {},
   "outputs": [
    {
     "name": "stdout",
     "output_type": "stream",
     "text": [
      "observed values : \n",
      " [[60 97]\n",
      " [33 54]]\n"
     ]
    }
   ],
   "source": [
    "observed_value = dataset_table.values\n",
    "print(\"observed values : \\n\", observed_value)"
   ]
  },
  {
   "cell_type": "code",
   "execution_count": 8,
   "metadata": {},
   "outputs": [
    {
     "data": {
      "text/plain": [
       "Chi2ContingencyResult(statistic=0.0, pvalue=1.0, dof=1, expected_freq=array([[59.84016393, 97.15983607],\n",
       "       [33.15983607, 53.84016393]]))"
      ]
     },
     "execution_count": 8,
     "metadata": {},
     "output_type": "execute_result"
    }
   ],
   "source": [
    "# Perform the chi-square test for independence\n",
    "# The chi2_contingency function returns several values, we will store them in the variable 'value'\n",
    "value = stats.chi2_contingency(dataset_table)\n",
    "value"
   ]
  },
  {
   "cell_type": "code",
   "execution_count": 9,
   "metadata": {},
   "outputs": [
    {
     "data": {
      "text/plain": [
       "array([[59.84016393, 97.15983607],\n",
       "       [33.15983607, 53.84016393]])"
      ]
     },
     "execution_count": 9,
     "metadata": {},
     "output_type": "execute_result"
    }
   ],
   "source": [
    "value[3]  # expected value"
   ]
  },
  {
   "cell_type": "code",
   "execution_count": 10,
   "metadata": {},
   "outputs": [
    {
     "data": {
      "text/plain": [
       "(array([[59.84016393, 97.15983607],\n",
       "        [33.15983607, 53.84016393]]),\n",
       " array([[60, 97],\n",
       "        [33, 54]], dtype=int64))"
      ]
     },
     "execution_count": 10,
     "metadata": {},
     "output_type": "execute_result"
    }
   ],
   "source": [
    "# Extract the expected values from the result\n",
    "expected_value = value[3]\n",
    "expected_value, observed_value"
   ]
  },
  {
   "cell_type": "code",
   "execution_count": 11,
   "metadata": {},
   "outputs": [],
   "source": [
    "# Determine the number of rows in the crosstab table\n",
    "# We use the length of the index of the dataset_table to find the number of rows\n",
    "no_of_rows = len(dataset_table.iloc[0:len(dataset_table.index), 0])\n",
    "\n",
    "# We use the length of the columns of the dataset_table to find the number of columns\n",
    "no_of_columns = len(dataset_table.iloc[0, 0:len(dataset_table.columns)])\n"
   ]
  },
  {
   "cell_type": "code",
   "execution_count": 12,
   "metadata": {},
   "outputs": [
    {
     "data": {
      "text/plain": [
       "1"
      ]
     },
     "execution_count": 12,
     "metadata": {},
     "output_type": "execute_result"
    }
   ],
   "source": [
    "# Calculate the degrees of freedom for the chi-square test\n",
    "# The formula for degrees of freedom in a contingency table is (number of rows - 1) * (number of columns - 1)\n",
    "dof = (no_of_rows - 1) * (no_of_columns - 1)\n",
    "dof"
   ]
  },
  {
   "cell_type": "code",
   "execution_count": 13,
   "metadata": {},
   "outputs": [],
   "source": [
    "# Define the significance level (alpha)\n",
    "# This is typically set to 0.05 for a 95% confidence level\n",
    "alpha = 0.05"
   ]
  },
  {
   "cell_type": "code",
   "execution_count": 14,
   "metadata": {},
   "outputs": [],
   "source": [
    "from scipy.stats import chi2"
   ]
  },
  {
   "cell_type": "code",
   "execution_count": 15,
   "metadata": {},
   "outputs": [
    {
     "data": {
      "text/plain": [
       "array([0.00119737, 0.00073745])"
      ]
     },
     "execution_count": 15,
     "metadata": {},
     "output_type": "execute_result"
    }
   ],
   "source": [
    "# # Calculate the chi-square statistic\n",
    "\n",
    "# sum([(o - e)2.0 / e for o, e in zip(observed_values, expected_values)]):\n",
    "\n",
    "# Iterates over pairs of observed and expected values using zip.\n",
    "# For each pair, it calculates the squared difference divided by the expected value: \n",
    "\n",
    "# Sums these values to get the chi-square statistic.\n",
    "\n",
    "chi_square = sum([(o-e)**2.0/e for o,e in zip(observed_value,expected_value)])\n",
    "chi_square"
   ]
  },
  {
   "cell_type": "code",
   "execution_count": 16,
   "metadata": {},
   "outputs": [
    {
     "data": {
      "text/plain": [
       "0.001934818536627623"
      ]
     },
     "execution_count": 16,
     "metadata": {},
     "output_type": "execute_result"
    }
   ],
   "source": [
    "# Combine the first two elements of the chi_square array to compute the chi-square statistic\n",
    "# Typically, chi_square would be an array of chi-square contributions from different groups or sources.\n",
    "# In this context, we're summing the first and second elements of this array.\n",
    "chi_square_statistic = chi_square[0] + chi_square[1]\n",
    "chi_square_statistic"
   ]
  },
  {
   "cell_type": "code",
   "execution_count": 17,
   "metadata": {},
   "outputs": [
    {
     "data": {
      "text/plain": [
       "3.841458820694124"
      ]
     },
     "execution_count": 17,
     "metadata": {},
     "output_type": "execute_result"
    }
   ],
   "source": [
    "# Calculate the critical value for the chi-square distribution using the percent point function (PPF)\n",
    "# chi2.ppf(q, df) computes the value of the chi-square distribution with the specified degrees of freedom (df)\n",
    "# that corresponds to a cumulative probability equal to q.\n",
    "# Here, we want the critical value such that the area to the right of this value under the chi-square distribution\n",
    "# with the given degrees of freedom is equal to alpha (i.e., the tail probability).\n",
    "critical_value = chi2.ppf(q=1-alpha, df=dof)\n",
    "critical_value"
   ]
  },
  {
   "cell_type": "code",
   "execution_count": 18,
   "metadata": {},
   "outputs": [
    {
     "data": {
      "text/plain": [
       "0.964915107315732"
      ]
     },
     "execution_count": 18,
     "metadata": {},
     "output_type": "execute_result"
    }
   ],
   "source": [
    "# Calculate the p-value for the chi-square statistic\n",
    "# chi2.cdf(x, df) computes the cumulative distribution function (CDF) for the chi-square distribution\n",
    "# with the specified degrees of freedom (df). The CDF gives the probability that a chi-square random variable\n",
    "# with the specified degrees of freedom will be less than or equal to x.\n",
    "# To find the p-value, which is the probability of obtaining a test statistic at least as extreme as the one observed,\n",
    "# we subtract the CDF value from 1.\n",
    "# This gives the area in the tail to the right of the chi-square statistic.\n",
    "p_value = 1 - chi2.cdf(x=chi_square_statistic,df=dof)\n",
    "p_value"
   ]
  },
  {
   "cell_type": "code",
   "execution_count": 19,
   "metadata": {},
   "outputs": [
    {
     "name": "stdout",
     "output_type": "stream",
     "text": [
      "significant value alpha: 0.05\n",
      "degree of freedom: 1\n",
      "critical value: 3.841458820694124\n",
      "p_value: 0.964915107315732\n"
     ]
    }
   ],
   "source": [
    "print('significant value alpha:', alpha)\n",
    "print('degree of freedom:', dof)\n",
    "print('critical value:', critical_value)\n",
    "print('p_value:', p_value )"
   ]
  },
  {
   "cell_type": "code",
   "execution_count": 20,
   "metadata": {},
   "outputs": [
    {
     "name": "stdout",
     "output_type": "stream",
     "text": [
      "Retain H0, there is no relationship between the two categorical variables\n"
     ]
    }
   ],
   "source": [
    "# Check if the chi-square statistic is greater than or equal to the critical value\n",
    "# This comparison determines whether to reject or retain the null hypothesis (H0)\n",
    "# H0: There is no relationship between the two categorical variables (independence)\n",
    "# If the chi-square statistic is greater than or equal to the critical value, it means that\n",
    "# the observed difference is statistically significant, and we reject the null hypothesis.\n",
    "if chi_square_statistic >= critical_value:\n",
    "    # Print the conclusion of the test indicating rejection of the null hypothesis\n",
    "    print(\"Reject H0, There is a relationship between the two categorical variables\")\n",
    "else:\n",
    "    # Print the conclusion of the test indicating failure to reject the null hypothesis\n",
    "    print(\"Retain H0, there is no relationship between the two categorical variables\")\n"
   ]
  },
  {
   "cell_type": "code",
   "execution_count": 21,
   "metadata": {},
   "outputs": [
    {
     "name": "stdout",
     "output_type": "stream",
     "text": [
      "Retain H0, there is no relationship between the two categorical variables\n"
     ]
    }
   ],
   "source": [
    "# Check if the p-value is less than or equal to the significance level (alpha)\n",
    "# This comparison determines whether to reject or retain the null hypothesis (H0)\n",
    "# H0: There is no relationship between the two categorical variables (independence)\n",
    "# If the p-value is less than or equal to alpha, it means that the observed difference is statistically significant,\n",
    "# and we reject the null hypothesis.\n",
    "if p_value <= alpha:\n",
    "    # Print the conclusion of the test indicating rejection of the null hypothesis\n",
    "    print(\"Reject H0, There is a relationship between the two categorical variables\")\n",
    "else:\n",
    "    # Print the conclusion of the test indicating failure to reject the null hypothesis\n",
    "    print(\"Retain H0, there is no relationship between the two categorical variables\")\n"
   ]
  },
  {
   "cell_type": "code",
   "execution_count": null,
   "metadata": {},
   "outputs": [],
   "source": []
  }
 ],
 "metadata": {
  "kernelspec": {
   "display_name": "Python 3",
   "language": "python",
   "name": "python3"
  },
  "language_info": {
   "codemirror_mode": {
    "name": "ipython",
    "version": 3
   },
   "file_extension": ".py",
   "mimetype": "text/x-python",
   "name": "python",
   "nbconvert_exporter": "python",
   "pygments_lexer": "ipython3",
   "version": "3.12.1"
  }
 },
 "nbformat": 4,
 "nbformat_minor": 2
}
