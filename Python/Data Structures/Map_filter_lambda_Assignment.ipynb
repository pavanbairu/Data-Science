{
 "cells": [
  {
   "cell_type": "markdown",
   "metadata": {},
   "source": [
    "#### Pavan Bairu"
   ]
  },
  {
   "cell_type": "markdown",
   "metadata": {},
   "source": [
    "#### Lambda, Map, Filter Assignments"
   ]
  },
  {
   "cell_type": "markdown",
   "metadata": {},
   "source": [
    "#### Question 1: Implementing a Function to Square Numbers in a List using Map"
   ]
  },
  {
   "cell_type": "code",
   "execution_count": 1,
   "metadata": {},
   "outputs": [],
   "source": [
    "def square_numbers(numbers):\n",
    "\n",
    "    return list(map(lambda number : number * number, numbers))"
   ]
  },
  {
   "cell_type": "code",
   "execution_count": 2,
   "metadata": {},
   "outputs": [],
   "source": [
    "assert square_numbers([1, 2, 3, 4, 5]) == [1, 4, 9, 16, 25]"
   ]
  },
  {
   "cell_type": "code",
   "execution_count": 3,
   "metadata": {},
   "outputs": [],
   "source": [
    "assert square_numbers([0.5, 1.5, 2.5, 3.5]) == [0.25, 2.25, 6.25, 12.25]"
   ]
  },
  {
   "cell_type": "markdown",
   "metadata": {},
   "source": [
    "#### Question 2: Implementing a Function to Filter Prime Numbers from a List using Filter"
   ]
  },
  {
   "cell_type": "code",
   "execution_count": 4,
   "metadata": {},
   "outputs": [],
   "source": [
    "def prime_numbers(number):\n",
    "\n",
    "    flag = 0\n",
    "\n",
    "    if number <= 1:\n",
    "        return None\n",
    "    elif number == 2:\n",
    "        return True\n",
    "    else:\n",
    "        for i in range(1, number+1):\n",
    "            if number % i == 0 :\n",
    "                flag += 1\n",
    "\n",
    "    if flag == 2:\n",
    "        return True\n",
    "\n",
    "def filter_prime_numbers(numbers):\n",
    "\n",
    "    return list(filter(prime_numbers, numbers))"
   ]
  },
  {
   "cell_type": "code",
   "execution_count": 5,
   "metadata": {},
   "outputs": [
    {
     "data": {
      "text/plain": [
       "[2, 3, 5, 7]"
      ]
     },
     "execution_count": 5,
     "metadata": {},
     "output_type": "execute_result"
    }
   ],
   "source": [
    "filter_prime_numbers([1, 2, 3, 4, 5, 6, 7, 8, 9, 10])"
   ]
  },
  {
   "cell_type": "code",
   "execution_count": 6,
   "metadata": {},
   "outputs": [],
   "source": [
    "assert filter_prime_numbers([1, 2, 3, 4, 5, 6, 7, 8, 9, 10]) == [2, 3, 5, 7]"
   ]
  },
  {
   "cell_type": "code",
   "execution_count": 7,
   "metadata": {},
   "outputs": [],
   "source": [
    "assert filter_prime_numbers([11, 12, 13, 14, 15, 16, 17, 18, 19, 20]) == [11, 13, 17, 19]"
   ]
  },
  {
   "cell_type": "markdown",
   "metadata": {},
   "source": [
    "#### Question 3: Implementing a Function to Find Squares of Prime Numbers using Map and Filter"
   ]
  },
  {
   "cell_type": "code",
   "execution_count": 8,
   "metadata": {},
   "outputs": [],
   "source": [
    "\n",
    "def prime_square(num):\n",
    "    flag = 0\n",
    "    if num <=1 :\n",
    "        return None\n",
    "    elif num == 2:\n",
    "        return num * num\n",
    "    else:\n",
    "        for i in range(1, num+1):\n",
    "            if num%i == 0:\n",
    "                flag += 1\n",
    "\n",
    "    if flag <=2:\n",
    "        return num*num\n",
    "\n",
    "def square_prime_numbers(numbers):\n",
    "\n",
    "    return list(filter(lambda x:x is not None, map(prime_square, numbers)))\n",
    "\n"
   ]
  },
  {
   "cell_type": "code",
   "execution_count": 9,
   "metadata": {},
   "outputs": [
    {
     "data": {
      "text/plain": [
       "[4, 9, 25, 49]"
      ]
     },
     "execution_count": 9,
     "metadata": {},
     "output_type": "execute_result"
    }
   ],
   "source": [
    "square_prime_numbers([1, 2, 3, 4, 5, 6, 7, 8, 9, 10])"
   ]
  },
  {
   "cell_type": "code",
   "execution_count": 10,
   "metadata": {},
   "outputs": [],
   "source": [
    "assert square_prime_numbers([1, 2, 3, 4, 5, 6, 7, 8, 9, 10]) == [4, 9, 25, 49]"
   ]
  },
  {
   "cell_type": "code",
   "execution_count": 11,
   "metadata": {},
   "outputs": [],
   "source": [
    "assert square_prime_numbers([11, 12, 13, 14, 15, 16, 17, 18, 19, 20]) == [121, 169, 289, 361]"
   ]
  },
  {
   "cell_type": "markdown",
   "metadata": {},
   "source": [
    "#### Question 4: Implementing a Function to Find Palindrome Numbers using Lambda and Filter"
   ]
  },
  {
   "cell_type": "code",
   "execution_count": 12,
   "metadata": {},
   "outputs": [],
   "source": [
    "def find_palindrome_numbers(numbers):\n",
    "\n",
    "    return list(filter(lambda num : str(num) == str(num)[::-1], numbers))\n",
    "        "
   ]
  },
  {
   "cell_type": "code",
   "execution_count": 13,
   "metadata": {},
   "outputs": [],
   "source": [
    "assert find_palindrome_numbers([121, 123, 1331, 222, 333, 456, 78987]) == [121, 1331, 222, 333, 78987]"
   ]
  },
  {
   "cell_type": "code",
   "execution_count": 14,
   "metadata": {},
   "outputs": [],
   "source": [
    "assert find_palindrome_numbers([123, 456, 789, 1010, 202, 303, 404]) == [202, 303, 404]"
   ]
  },
  {
   "cell_type": "markdown",
   "metadata": {},
   "source": [
    "#### Question 5: Implementing a Function to Calculate Factorial of Numbers using Map and Lambda\n"
   ]
  },
  {
   "cell_type": "code",
   "execution_count": 15,
   "metadata": {},
   "outputs": [
    {
     "data": {
      "text/plain": [
       "120"
      ]
     },
     "execution_count": 15,
     "metadata": {},
     "output_type": "execute_result"
    }
   ],
   "source": [
    "factorial_lambda = lambda num: 1 if num == 0 else num * factorial_lambda(num - 1)\n",
    "factorial_lambda(5)\n"
   ]
  },
  {
   "cell_type": "code",
   "execution_count": 16,
   "metadata": {},
   "outputs": [],
   "source": [
    "from functools import reduce\n",
    "\n",
    "def calculate_factorial(numbers):\n",
    "\n",
    "    factorial_lambda = lambda num: 1 if num == 0 else num * factorial_lambda(num - 1)\n",
    "    \n",
    "    return list(map(factorial_lambda, numbers))"
   ]
  },
  {
   "cell_type": "code",
   "execution_count": 17,
   "metadata": {},
   "outputs": [],
   "source": [
    "assert calculate_factorial([5, 6, 7, 8, 9, 10]) == [120, 720, 5040, 40320, 362880, 3628800]"
   ]
  },
  {
   "cell_type": "code",
   "execution_count": 18,
   "metadata": {},
   "outputs": [],
   "source": [
    "assert calculate_factorial([1, 2, 3, 4, 5]) == [1, 2, 6, 24, 120]"
   ]
  },
  {
   "cell_type": "markdown",
   "metadata": {},
   "source": [
    "#### Question 6: Implementing a Function to Find Square Roots of Numbers using Map and Lambda"
   ]
  },
  {
   "cell_type": "code",
   "execution_count": 19,
   "metadata": {},
   "outputs": [],
   "source": [
    "from math import sqrt\n",
    "def find_square_roots(numbers):\n",
    "\n",
    "    return list(map(lambda num : sqrt(num), numbers))"
   ]
  },
  {
   "cell_type": "code",
   "execution_count": 20,
   "metadata": {},
   "outputs": [],
   "source": [
    "assert find_square_roots([4, 9, 16, 25, 36]) == [2.0, 3.0, 4.0, 5.0, 6.0]"
   ]
  },
  {
   "cell_type": "code",
   "execution_count": 21,
   "metadata": {},
   "outputs": [],
   "source": [
    "assert find_square_roots([0.25, 0.64, 1.21, 1.44]) == [0.5, 0.8, 1.1, 1.2]"
   ]
  },
  {
   "cell_type": "markdown",
   "metadata": {},
   "source": [
    "#### Question 7: Implementing a Function to Filter Odd Numbers and Square Even Numbers using Filter and Lambda"
   ]
  },
  {
   "cell_type": "code",
   "execution_count": 22,
   "metadata": {},
   "outputs": [],
   "source": [
    "def filter_odd_square_even(numbers):\n",
    "\n",
    "    lambda_square = lambda num : num * num if num % 2 == 0 else None \n",
    "\n",
    "    return list(filter(lambda x:x is not None, map(lambda_square, numbers)))"
   ]
  },
  {
   "cell_type": "code",
   "execution_count": 23,
   "metadata": {},
   "outputs": [
    {
     "data": {
      "text/plain": [
       "[4, 16, 36, 64, 100]"
      ]
     },
     "execution_count": 23,
     "metadata": {},
     "output_type": "execute_result"
    }
   ],
   "source": [
    "filter_odd_square_even([1, 2, 3, 4, 5, 6, 7, 8, 9, 10])"
   ]
  },
  {
   "cell_type": "code",
   "execution_count": 24,
   "metadata": {},
   "outputs": [],
   "source": [
    "assert filter_odd_square_even([1, 2, 3, 4, 5, 6, 7, 8, 9, 10]) == [4, 16, 36, 64, 100]"
   ]
  },
  {
   "cell_type": "code",
   "execution_count": null,
   "metadata": {},
   "outputs": [],
   "source": []
  }
 ],
 "metadata": {
  "kernelspec": {
   "display_name": "Python 3",
   "language": "python",
   "name": "python3"
  },
  "language_info": {
   "codemirror_mode": {
    "name": "ipython",
    "version": 3
   },
   "file_extension": ".py",
   "mimetype": "text/x-python",
   "name": "python",
   "nbconvert_exporter": "python",
   "pygments_lexer": "ipython3",
   "version": "3.12.1"
  }
 },
 "nbformat": 4,
 "nbformat_minor": 2
}
