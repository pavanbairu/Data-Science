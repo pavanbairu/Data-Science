{
 "cells": [
  {
   "cell_type": "markdown",
   "metadata": {},
   "source": [
    "#### Question 1: Implementing a Function to Calculate the Sum of Numbers in a List"
   ]
  },
  {
   "cell_type": "code",
   "execution_count": 1,
   "metadata": {},
   "outputs": [],
   "source": [
    "def calculate_sum(numbers):\n",
    "    sum = 0\n",
    "    for num in numbers:\n",
    "        sum += num\n",
    "    return sum"
   ]
  },
  {
   "cell_type": "code",
   "execution_count": 2,
   "metadata": {},
   "outputs": [],
   "source": [
    "assert calculate_sum([1, 2, 3, 4, 5]) == 15"
   ]
  },
  {
   "cell_type": "code",
   "execution_count": 3,
   "metadata": {},
   "outputs": [],
   "source": [
    "assert calculate_sum([0.5, 1.5, 2.5, 3.5]) == 8.0"
   ]
  },
  {
   "cell_type": "markdown",
   "metadata": {},
   "source": [
    "#### Question 2: Implementing a Function to Calculate the Factorial of a Number"
   ]
  },
  {
   "cell_type": "code",
   "execution_count": 4,
   "metadata": {},
   "outputs": [],
   "source": [
    "def calculate_factorial(n):\n",
    "    fact = 1\n",
    "    for i in range(1,n+1):\n",
    "        fact = fact * i\n",
    "\n",
    "    return fact"
   ]
  },
  {
   "cell_type": "code",
   "execution_count": 5,
   "metadata": {},
   "outputs": [],
   "source": [
    "assert calculate_factorial(5) == 120"
   ]
  },
  {
   "cell_type": "code",
   "execution_count": 6,
   "metadata": {},
   "outputs": [],
   "source": [
    "assert calculate_factorial(10) == 3628800"
   ]
  },
  {
   "cell_type": "markdown",
   "metadata": {},
   "source": [
    "#### Question 3: Implementing a Function to Convert Celsius to Fahrenheit and Vice Versa\n",
    "F = (9/5 × °C) + 32\n",
    "\n",
    "C = (°F - 32) × 5/9"
   ]
  },
  {
   "cell_type": "code",
   "execution_count": 12,
   "metadata": {},
   "outputs": [],
   "source": [
    "def convert_temperature(value, from_unit=\"C\", to_unit=\"F\"):\n",
    "\n",
    "    if from_unit == 'C' and to_unit == 'F':\n",
    "        return ((9/5 * value) + 32)\n",
    "    else:\n",
    "        return ((value - 32) * (5/9))"
   ]
  },
  {
   "cell_type": "code",
   "execution_count": 13,
   "metadata": {},
   "outputs": [],
   "source": [
    "assert convert_temperature(0) == 32.0"
   ]
  },
  {
   "cell_type": "code",
   "execution_count": 14,
   "metadata": {},
   "outputs": [],
   "source": [
    "assert convert_temperature(32, \"F\", \"C\") == 0.0"
   ]
  },
  {
   "cell_type": "code",
   "execution_count": 15,
   "metadata": {},
   "outputs": [],
   "source": [
    "assert convert_temperature(100, \"C\", \"F\") == 212.0"
   ]
  },
  {
   "cell_type": "code",
   "execution_count": 16,
   "metadata": {},
   "outputs": [
    {
     "ename": "AssertionError",
     "evalue": "",
     "output_type": "error",
     "traceback": [
      "\u001b[1;31m---------------------------------------------------------------------------\u001b[0m",
      "\u001b[1;31mAssertionError\u001b[0m                            Traceback (most recent call last)",
      "Cell \u001b[1;32mIn[16], line 1\u001b[0m\n\u001b[1;32m----> 1\u001b[0m \u001b[38;5;28;01massert\u001b[39;00m convert_temperature(\u001b[38;5;241m212\u001b[39m) \u001b[38;5;241m==\u001b[39m \u001b[38;5;241m100.0\u001b[39m\n",
      "\u001b[1;31mAssertionError\u001b[0m: "
     ]
    }
   ],
   "source": [
    "assert convert_temperature(212) == 100.0"
   ]
  },
  {
   "cell_type": "markdown",
   "metadata": {},
   "source": [
    "#### Question 4: Implementing a Function to Calculate Simple Interest"
   ]
  },
  {
   "cell_type": "code",
   "execution_count": 18,
   "metadata": {},
   "outputs": [],
   "source": [
    "def calculate_simple_interest(principal, rate, time):\n",
    "\n",
    "    return (principal * rate * time)/100"
   ]
  },
  {
   "cell_type": "code",
   "execution_count": 19,
   "metadata": {},
   "outputs": [],
   "source": [
    "assert calculate_simple_interest(1000, 5, 2) == 100.0"
   ]
  },
  {
   "cell_type": "code",
   "execution_count": 20,
   "metadata": {},
   "outputs": [],
   "source": [
    "assert calculate_simple_interest(2000, 3.5, 3.5) == 245.0"
   ]
  },
  {
   "cell_type": "markdown",
   "metadata": {},
   "source": [
    "#### Question 5: Implementing a Function to Check Prime Numbers in a Range"
   ]
  },
  {
   "cell_type": "code",
   "execution_count": 41,
   "metadata": {},
   "outputs": [],
   "source": [
    "def is_prime(number):\n",
    "    flag = 0\n",
    "    if number == 1 or number == 2:\n",
    "        return True\n",
    "    \n",
    "    else:\n",
    "        for i in range(1, number):\n",
    "            if number % i == 0:\n",
    "                flag += 1\n",
    "\n",
    "    if flag <=2:\n",
    "        return True\n",
    "    else:\n",
    "        return False\n"
   ]
  },
  {
   "cell_type": "code",
   "execution_count": 51,
   "metadata": {},
   "outputs": [],
   "source": [
    "assert is_prime(7) == True"
   ]
  },
  {
   "cell_type": "code",
   "execution_count": 52,
   "metadata": {},
   "outputs": [],
   "source": [
    "assert is_prime(10) == False"
   ]
  },
  {
   "cell_type": "code",
   "execution_count": 53,
   "metadata": {},
   "outputs": [],
   "source": [
    "assert is_prime(9) == False"
   ]
  },
  {
   "cell_type": "markdown",
   "metadata": {},
   "source": [
    "#### Question 6: Implementing a Function to Calculate Compound Interest\n",
    "\n",
    "A = P (1 + r/n)nt\n",
    "\n"
   ]
  },
  {
   "cell_type": "code",
   "execution_count": 84,
   "metadata": {},
   "outputs": [],
   "source": [
    "def calculate_compound_interest(principal, rate, time, frequency=1):\n",
    "    compound_amount = principal * (1 + rate / (100 * frequency)) ** (frequency * time)\n",
    "    return compound_amount - principal\n"
   ]
  },
  {
   "cell_type": "code",
   "execution_count": 85,
   "metadata": {},
   "outputs": [],
   "source": [
    "\n",
    "assert calculate_compound_interest(1000, 5, 2, 1) == 102.5"
   ]
  },
  {
   "cell_type": "code",
   "execution_count": 93,
   "metadata": {},
   "outputs": [
    {
     "ename": "AssertionError",
     "evalue": "",
     "output_type": "error",
     "traceback": [
      "\u001b[1;31m---------------------------------------------------------------------------\u001b[0m",
      "\u001b[1;31mAssertionError\u001b[0m                            Traceback (most recent call last)",
      "Cell \u001b[1;32mIn[93], line 1\u001b[0m\n\u001b[1;32m----> 1\u001b[0m \u001b[38;5;28;01massert\u001b[39;00m calculate_compound_interest(\u001b[38;5;241m2000\u001b[39m, \u001b[38;5;241m3.5\u001b[39m, \u001b[38;5;241m3.5\u001b[39m, \u001b[38;5;241m2\u001b[39m)  \u001b[38;5;241m==\u001b[39m \u001b[38;5;241m267.47623338672085\u001b[39m\n",
      "\u001b[1;31mAssertionError\u001b[0m: "
     ]
    }
   ],
   "source": [
    "assert calculate_compound_interest(2000, 3.5, 3.5, 2)  == 267.47623338672085"
   ]
  },
  {
   "cell_type": "code",
   "execution_count": 94,
   "metadata": {},
   "outputs": [
    {
     "data": {
      "text/plain": [
       "258.244290822463"
      ]
     },
     "execution_count": 94,
     "metadata": {},
     "output_type": "execute_result"
    }
   ],
   "source": [
    "calculate_compound_interest(2000, 3.5, 3.5, 2) # == 267.47623338672085"
   ]
  },
  {
   "cell_type": "markdown",
   "metadata": {},
   "source": [
    "#### Question 7: Implementing a Function to Find the Largest Number in a List"
   ]
  },
  {
   "cell_type": "code",
   "execution_count": 97,
   "metadata": {},
   "outputs": [],
   "source": [
    "def find_largest_number(numbers):\n",
    "\n",
    "    large_num = numbers[0]\n",
    "\n",
    "    for num in (numbers):\n",
    "\n",
    "        if num > large_num:\n",
    "            large_num = num\n",
    "\n",
    "    return large_num\n"
   ]
  },
  {
   "cell_type": "code",
   "execution_count": 98,
   "metadata": {},
   "outputs": [],
   "source": [
    "assert find_largest_number([1, 3, 5, 7, 9]) == 9"
   ]
  },
  {
   "cell_type": "code",
   "execution_count": 99,
   "metadata": {},
   "outputs": [],
   "source": [
    "assert find_largest_number([0.5, 1.5, 2.5, 3.5]) == 3.5"
   ]
  },
  {
   "cell_type": "markdown",
   "metadata": {},
   "source": [
    "#### Question 8: Implementing a Function to Find the Smallest Number in a List"
   ]
  },
  {
   "cell_type": "code",
   "execution_count": 101,
   "metadata": {},
   "outputs": [],
   "source": [
    "def find_smallest_number(numbers):\n",
    "\n",
    "    small_num = numbers[0]\n",
    "\n",
    "    for num in (numbers):\n",
    "\n",
    "        if num < small_num:\n",
    "            small_num = num\n",
    "\n",
    "    return small_num\n"
   ]
  },
  {
   "cell_type": "code",
   "execution_count": 102,
   "metadata": {},
   "outputs": [],
   "source": [
    "assert find_smallest_number([1, 3, 5, 7, 9]) == 1"
   ]
  },
  {
   "cell_type": "code",
   "execution_count": 103,
   "metadata": {},
   "outputs": [],
   "source": [
    "assert find_smallest_number([0.5, 1.5, 2.5, 3.5]) == 0.5"
   ]
  },
  {
   "cell_type": "markdown",
   "metadata": {},
   "source": [
    "#### # Question 9: Implementing a Function to Sort a List of Numbers"
   ]
  },
  {
   "cell_type": "code",
   "execution_count": 106,
   "metadata": {},
   "outputs": [],
   "source": [
    "def sort_numbers(numbers):\n",
    "\n",
    "    for i in range(len(numbers)):\n",
    "\n",
    "        for j in range(i+1, len(numbers)):\n",
    "\n",
    "            if numbers[i] > numbers[j]:\n",
    "\n",
    "                temp = numbers[j]\n",
    "                numbers[j] = numbers[i]\n",
    "                numbers[i] = temp\n",
    "\n",
    "    return numbers \n",
    "        "
   ]
  },
  {
   "cell_type": "code",
   "execution_count": 108,
   "metadata": {},
   "outputs": [],
   "source": [
    "assert sort_numbers([3, 1, 4, 1, 5, 9, 2, 6, 5]) == [1, 1, 2, 3, 4, 5, 5, 6, 9]"
   ]
  },
  {
   "cell_type": "code",
   "execution_count": 109,
   "metadata": {},
   "outputs": [],
   "source": [
    "assert sort_numbers([0.5, 1.5, 0.1, 2.5, 3.5]) == [0.1, 0.5, 1.5, 2.5, 3.5]"
   ]
  },
  {
   "cell_type": "markdown",
   "metadata": {},
   "source": [
    "#### Question 10: Implementing a Function to Find the Median of a List of Numbers"
   ]
  },
  {
   "cell_type": "code",
   "execution_count": 110,
   "metadata": {},
   "outputs": [],
   "source": [
    "def find_median(numbers):\n",
    "    sum = 0\n",
    "    for num in numbers:\n",
    "\n",
    "        sum += num\n",
    "\n",
    "    return sum/len(numbers)"
   ]
  },
  {
   "cell_type": "code",
   "execution_count": 111,
   "metadata": {},
   "outputs": [],
   "source": [
    "assert find_median([1, 2, 3, 4, 5]) == 3"
   ]
  },
  {
   "cell_type": "code",
   "execution_count": 112,
   "metadata": {},
   "outputs": [],
   "source": [
    "assert find_median([1, 2, 3, 4, 5, 6]) == 3.5"
   ]
  },
  {
   "cell_type": "code",
   "execution_count": null,
   "metadata": {},
   "outputs": [],
   "source": []
  }
 ],
 "metadata": {
  "kernelspec": {
   "display_name": "Python 3",
   "language": "python",
   "name": "python3"
  },
  "language_info": {
   "codemirror_mode": {
    "name": "ipython",
    "version": 3
   },
   "file_extension": ".py",
   "mimetype": "text/x-python",
   "name": "python",
   "nbconvert_exporter": "python",
   "pygments_lexer": "ipython3",
   "version": "3.12.1"
  }
 },
 "nbformat": 4,
 "nbformat_minor": 2
}
