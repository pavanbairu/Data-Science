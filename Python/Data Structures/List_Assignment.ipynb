{
 "cells": [
  {
   "cell_type": "markdown",
   "metadata": {},
   "source": [
    "## Pavan Bairu"
   ]
  },
  {
   "cell_type": "markdown",
   "metadata": {},
   "source": [
    "### Assignemnt On Lists"
   ]
  },
  {
   "cell_type": "markdown",
   "metadata": {},
   "source": [
    "##### 1. Write a  Python program to sum all the items in a list."
   ]
  },
  {
   "cell_type": "code",
   "execution_count": 1,
   "metadata": {},
   "outputs": [
    {
     "data": {
      "text/plain": [
       "[6, 2, 7, 12, 15, 4]"
      ]
     },
     "execution_count": 1,
     "metadata": {},
     "output_type": "execute_result"
    }
   ],
   "source": [
    "number_list = [6, 2, 7, 12, 15, 4]\n",
    "number_list"
   ]
  },
  {
   "cell_type": "code",
   "execution_count": 2,
   "metadata": {},
   "outputs": [
    {
     "name": "stdout",
     "output_type": "stream",
     "text": [
      "46\n",
      "the total sum of list of number is : 46\n"
     ]
    }
   ],
   "source": [
    "\n",
    "\n",
    "print(sum(number_list))\n",
    "\n",
    "# or\n",
    "\n",
    "sum_of_list = 0\n",
    "for num in number_list:\n",
    "    sum_of_list += num\n",
    "\n",
    "print(\"the total sum of list of number is :\", sum_of_list)\n"
   ]
  },
  {
   "cell_type": "markdown",
   "metadata": {},
   "source": [
    "##### 2. Write a Python program to get the largest number from a list."
   ]
  },
  {
   "cell_type": "code",
   "execution_count": 3,
   "metadata": {},
   "outputs": [
    {
     "data": {
      "text/plain": [
       "[6, 2, 7, 12, 15, 4]"
      ]
     },
     "execution_count": 3,
     "metadata": {},
     "output_type": "execute_result"
    }
   ],
   "source": [
    "number_list = [6, 2, 7, 12, 15, 4]\n",
    "number_list"
   ]
  },
  {
   "cell_type": "code",
   "execution_count": 4,
   "metadata": {},
   "outputs": [
    {
     "name": "stdout",
     "output_type": "stream",
     "text": [
      "the largest number in list is : 15\n"
     ]
    },
    {
     "data": {
      "text/plain": [
       "15"
      ]
     },
     "execution_count": 4,
     "metadata": {},
     "output_type": "execute_result"
    }
   ],
   "source": [
    "largest_num = number_list[0]\n",
    "\n",
    "for num in number_list:\n",
    "\n",
    "    if num > largest_num:\n",
    "\n",
    "        largest_num = num\n",
    "\n",
    "print(\"the largest number in list is :\", largest_num)\n",
    "\n",
    "# or\n",
    "\n",
    "max(number_list)"
   ]
  },
  {
   "cell_type": "markdown",
   "metadata": {},
   "source": [
    "##### 3. Write a Python program to clone or copy item in a list."
   ]
  },
  {
   "cell_type": "code",
   "execution_count": 5,
   "metadata": {},
   "outputs": [
    {
     "data": {
      "text/plain": [
       "[6, 2, 7, 12, 15, 4]"
      ]
     },
     "execution_count": 5,
     "metadata": {},
     "output_type": "execute_result"
    }
   ],
   "source": [
    "number_list"
   ]
  },
  {
   "cell_type": "code",
   "execution_count": 6,
   "metadata": {},
   "outputs": [
    {
     "name": "stdout",
     "output_type": "stream",
     "text": [
      "cloned list is : [6, 2, 7, 12, 15, 4]\n",
      "the copy list is : [6, 2, 7, 12, 15, 4]\n"
     ]
    }
   ],
   "source": [
    "clone_list = number_list[:]\n",
    "print(\"cloned list is :\", clone_list)\n",
    "\n",
    "# or\n",
    "\n",
    "copy_list = number_list.copy()\n",
    "print(\"the copy list is :\", copy_list)"
   ]
  },
  {
   "cell_type": "markdown",
   "metadata": {},
   "source": [
    "##### 4. Write a Python program to access the index of an element present in a list."
   ]
  },
  {
   "cell_type": "code",
   "execution_count": 7,
   "metadata": {},
   "outputs": [
    {
     "data": {
      "text/plain": [
       "[6, 2, 7, 12, 15, 4]"
      ]
     },
     "execution_count": 7,
     "metadata": {},
     "output_type": "execute_result"
    }
   ],
   "source": [
    "number_list"
   ]
  },
  {
   "cell_type": "code",
   "execution_count": 8,
   "metadata": {},
   "outputs": [
    {
     "name": "stdout",
     "output_type": "stream",
     "text": [
      "the index value of 12 is : 3\n",
      "The index_num of 12 is : 3\n"
     ]
    }
   ],
   "source": [
    "# lets say i want to find index of 12\n",
    "\n",
    "number = 12\n",
    "\n",
    "for index in range(len(number_list)):\n",
    "\n",
    "    if number_list[index] == number:\n",
    "\n",
    "        print(f\"the index value of {number} is :\", index)\n",
    "\n",
    "# or\n",
    "\n",
    "index_num = number_list.index(number)\n",
    "print(f\"The index_num of {number} is :\", index_num)"
   ]
  },
  {
   "cell_type": "code",
   "execution_count": null,
   "metadata": {},
   "outputs": [],
   "source": []
  }
 ],
 "metadata": {
  "kernelspec": {
   "display_name": "Python 3",
   "language": "python",
   "name": "python3"
  },
  "language_info": {
   "codemirror_mode": {
    "name": "ipython",
    "version": 3
   },
   "file_extension": ".py",
   "mimetype": "text/x-python",
   "name": "python",
   "nbconvert_exporter": "python",
   "pygments_lexer": "ipython3",
   "version": "3.12.1"
  }
 },
 "nbformat": 4,
 "nbformat_minor": 2
}
