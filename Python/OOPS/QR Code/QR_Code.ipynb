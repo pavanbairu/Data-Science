{
 "cells": [
  {
   "cell_type": "markdown",
   "metadata": {},
   "source": [
    "### QR Code Generator and Reader in Python\n",
    "\n",
    "This Python script generates a QR code from a specified URL (e.g., a LinkedIn profile) using pyqrcode, saves it as generated_qr_code.png, and then reads and decodes the QR code from the image using opencv-contrib-python. It demonstrates basic QR code generation and reading functionalities in a concise Python script."
   ]
  },
  {
   "cell_type": "code",
   "execution_count": 1,
   "metadata": {},
   "outputs": [
    {
     "name": "stderr",
     "output_type": "stream",
     "text": [
      "\n",
      "[notice] A new release of pip is available: 24.0 -> 24.1\n",
      "[notice] To update, run: python.exe -m pip install --upgrade pip\n",
      "\n",
      "[notice] A new release of pip is available: 24.0 -> 24.1\n",
      "[notice] To update, run: python.exe -m pip install --upgrade pip\n",
      "\n",
      "[notice] A new release of pip is available: 24.0 -> 24.1\n",
      "[notice] To update, run: python.exe -m pip install --upgrade pip\n"
     ]
    }
   ],
   "source": [
    "# Installing the PyQRCode library, which is used for generating QR codes\n",
    "!pip install PyQRCode -q\n",
    "\n",
    "# Installing the pypng library, which is used for creating PNG images\n",
    "!pip install pypng -q\n",
    "\n",
    "# Installing OpenCV with contrib modules, which includes QR code detection capabilities\n",
    "!pip install opencv-contrib-python -q"
   ]
  },
  {
   "cell_type": "code",
   "execution_count": 2,
   "metadata": {},
   "outputs": [],
   "source": [
    "# Importing necessary libraries\n",
    "import pyqrcode  # Library for generating QR codes\n",
    "import png       # Required for PNG image handling\n",
    "import cv2       # OpenCV library for image processing"
   ]
  },
  {
   "cell_type": "code",
   "execution_count": 3,
   "metadata": {},
   "outputs": [],
   "source": [
    "# Function to generate QR code from a given URL\n",
    "def generate_qr_code(url):\n",
    "    qr_code = pyqrcode.create(url)  # Create QR code object\n",
    "    qr_code.png('generated_qr_code.png', scale=6)  # Generate PNG image of the QR code with scaling\n",
    "    return \"QR Code Generated Successfully\""
   ]
  },
  {
   "cell_type": "code",
   "execution_count": 4,
   "metadata": {},
   "outputs": [
    {
     "data": {
      "text/plain": [
       "'QR Code Generated Successfully'"
      ]
     },
     "execution_count": 4,
     "metadata": {},
     "output_type": "execute_result"
    }
   ],
   "source": [
    "linkedin_profile_url = \"https://www.linkedin.com/in/pavan-bairu-b17108173/\"\n",
    "\n",
    "# Generating QR code for the LinkedIn profile URL\n",
    "generate_qr_code(linkedin_profile_url)"
   ]
  },
  {
   "cell_type": "code",
   "execution_count": 5,
   "metadata": {},
   "outputs": [],
   "source": [
    "# Function to read QR code from an image file\n",
    "def read_qr_code(image_file):\n",
    "    image = cv2.imread(image_file)  # Read input image using OpenCV\n",
    "    qr_detector = cv2.QRCodeDetector()  # Create QR code detector object\n",
    "    data, bbox, _ = qr_detector.detectAndDecode(image)  # Detect and decode QR code from image\n",
    "\n",
    "    # Check if decoded data is a URL (starts with http:// or https://)\n",
    "    if data.startswith(\"http://\") or data.startswith(\"https://\"):\n",
    "        # Format URL to display in blue color using ANSI escape sequences\n",
    "        formatted_url = f\"\\033[34;4m{data}\\033[0m\"\n",
    "        return formatted_url  # Return formatted URL\n",
    "    else:\n",
    "        return data  # Return decoded data from QR code (not a URL)\n"
   ]
  },
  {
   "cell_type": "code",
   "execution_count": 6,
   "metadata": {},
   "outputs": [
    {
     "name": "stdout",
     "output_type": "stream",
     "text": [
      "\u001b[34;4mhttps://www.linkedin.com/in/pavan-bairu-b17108173/\u001b[0m\n"
     ]
    }
   ],
   "source": [
    "# Reading QR code from the generated image\n",
    "print(read_qr_code('generated_qr_code.png'))"
   ]
  },
  {
   "cell_type": "code",
   "execution_count": null,
   "metadata": {},
   "outputs": [],
   "source": []
  }
 ],
 "metadata": {
  "kernelspec": {
   "display_name": "Python 3",
   "language": "python",
   "name": "python3"
  },
  "language_info": {
   "codemirror_mode": {
    "name": "ipython",
    "version": 3
   },
   "file_extension": ".py",
   "mimetype": "text/x-python",
   "name": "python",
   "nbconvert_exporter": "python",
   "pygments_lexer": "ipython3",
   "version": "3.12.1"
  }
 },
 "nbformat": 4,
 "nbformat_minor": 2
}
