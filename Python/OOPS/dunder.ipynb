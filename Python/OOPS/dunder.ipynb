{
 "cells": [
  {
   "cell_type": "markdown",
   "metadata": {},
   "source": [
    "#### Dunder\n",
    "Dunder methods, short for \"double underscore\" methods, are special methods in Python that have double underscores at the beginning and end of their names. They are also known as magic methods or special methods. These methods allow classes to define behavior that can be used by built-in Python functions or operators."
   ]
  },
  {
   "cell_type": "code",
   "execution_count": 61,
   "metadata": {},
   "outputs": [],
   "source": [
    "class Fraction:\n",
    "\n",
    "    def __init__(self, num=1, den=1):       # provided default values to constructor args\n",
    "\n",
    "        self.num = num\n",
    "        self.den = den\n",
    "\n",
    "        if den == 0:\n",
    "            print(\"Denominator is equal to zero\")\n",
    "            self.den = 1\n",
    "\n",
    "    def __str__(self):\n",
    "\n",
    "        return \"{}/{}\".format(self.num,self.den)\n",
    "\n"
   ]
  },
  {
   "cell_type": "code",
   "execution_count": 62,
   "metadata": {},
   "outputs": [],
   "source": [
    "f1 = Fraction(3,4)"
   ]
  },
  {
   "cell_type": "code",
   "execution_count": 63,
   "metadata": {},
   "outputs": [],
   "source": [
    "f2 = Fraction(4,5)"
   ]
  },
  {
   "cell_type": "code",
   "execution_count": 64,
   "metadata": {},
   "outputs": [
    {
     "name": "stdout",
     "output_type": "stream",
     "text": [
      "3/4\n"
     ]
    }
   ],
   "source": [
    "print(f1)   # __str__() gets called"
   ]
  },
  {
   "cell_type": "code",
   "execution_count": 65,
   "metadata": {},
   "outputs": [
    {
     "name": "stdout",
     "output_type": "stream",
     "text": [
      "4/5\n"
     ]
    }
   ],
   "source": [
    "print(f2)   # __str__() gets called"
   ]
  },
  {
   "cell_type": "code",
   "execution_count": 66,
   "metadata": {},
   "outputs": [
    {
     "data": {
      "text/plain": [
       "'pavanbairu'"
      ]
     },
     "execution_count": 66,
     "metadata": {},
     "output_type": "execute_result"
    }
   ],
   "source": [
    "\"pavan\" + \"bairu\""
   ]
  },
  {
   "cell_type": "code",
   "execution_count": 67,
   "metadata": {},
   "outputs": [
    {
     "data": {
      "text/plain": [
       "15"
      ]
     },
     "execution_count": 67,
     "metadata": {},
     "output_type": "execute_result"
    }
   ],
   "source": [
    "10 + 5"
   ]
  },
  {
   "cell_type": "code",
   "execution_count": 68,
   "metadata": {},
   "outputs": [
    {
     "data": {
      "text/plain": [
       "[1, 2, 1, 4]"
      ]
     },
     "execution_count": 68,
     "metadata": {},
     "output_type": "execute_result"
    }
   ],
   "source": [
    "[1,2] + [1,4]"
   ]
  },
  {
   "cell_type": "code",
   "execution_count": 69,
   "metadata": {},
   "outputs": [
    {
     "data": {
      "text/plain": [
       "(1, 2, 2, 3)"
      ]
     },
     "execution_count": 69,
     "metadata": {},
     "output_type": "execute_result"
    }
   ],
   "source": [
    "(1,2) + (2,3)"
   ]
  },
  {
   "cell_type": "code",
   "execution_count": 70,
   "metadata": {},
   "outputs": [
    {
     "ename": "TypeError",
     "evalue": "unsupported operand type(s) for +: 'set' and 'set'",
     "output_type": "error",
     "traceback": [
      "\u001b[1;31m---------------------------------------------------------------------------\u001b[0m",
      "\u001b[1;31mTypeError\u001b[0m                                 Traceback (most recent call last)",
      "Cell \u001b[1;32mIn[70], line 1\u001b[0m\n\u001b[1;32m----> 1\u001b[0m \u001b[43m{\u001b[49m\u001b[38;5;241;43m1\u001b[39;49m\u001b[43m,\u001b[49m\u001b[38;5;241;43m3\u001b[39;49m\u001b[43m}\u001b[49m\u001b[43m \u001b[49m\u001b[38;5;241;43m+\u001b[39;49m\u001b[43m \u001b[49m\u001b[43m{\u001b[49m\u001b[38;5;241;43m2\u001b[39;49m\u001b[43m,\u001b[49m\u001b[38;5;241;43m4\u001b[39;49m\u001b[43m}\u001b[49m  \u001b[38;5;66;03m# the + operand is not supported for set\u001b[39;00m\n",
      "\u001b[1;31mTypeError\u001b[0m: unsupported operand type(s) for +: 'set' and 'set'"
     ]
    }
   ],
   "source": [
    "{1,3} + {2,4}  # the + operand is not supported for set"
   ]
  },
  {
   "cell_type": "code",
   "execution_count": 71,
   "metadata": {},
   "outputs": [
    {
     "ename": "TypeError",
     "evalue": "unsupported operand type(s) for +: 'Fraction' and 'Fraction'",
     "output_type": "error",
     "traceback": [
      "\u001b[1;31m---------------------------------------------------------------------------\u001b[0m",
      "\u001b[1;31mTypeError\u001b[0m                                 Traceback (most recent call last)",
      "Cell \u001b[1;32mIn[71], line 1\u001b[0m\n\u001b[1;32m----> 1\u001b[0m \u001b[43mf1\u001b[49m\u001b[43m \u001b[49m\u001b[38;5;241;43m+\u001b[39;49m\u001b[43m \u001b[49m\u001b[43mf2\u001b[49m\n",
      "\u001b[1;31mTypeError\u001b[0m: unsupported operand type(s) for +: 'Fraction' and 'Fraction'"
     ]
    }
   ],
   "source": [
    "f1 + f2         # same as like set the operand is not supported for the fraction"
   ]
  },
  {
   "cell_type": "code",
   "execution_count": 19,
   "metadata": {},
   "outputs": [],
   "source": [
    "class Fraction:\n",
    "\n",
    "    def __init__(self, num=1, den=1):       # provided default values to constructor args\n",
    "\n",
    "        self.num = num\n",
    "        self.den = den\n",
    "\n",
    "        if den == 0:\n",
    "            print(\"Denominator is equal to zero\")\n",
    "            self.den = 1\n",
    "\n",
    "    def __str__(self):\n",
    "\n",
    "        return \"{}/{}\".format(self.num,self.den)\n",
    "\n",
    "\n",
    "    # in dunder the self arg is taking as f1 refernce and second_arg taking as f2 \n",
    "    # __add__(f1,f2)   =>   __add__(3/4, 4/5)\n",
    "    # self.num is the numerator of the first fraction, which is 3.\n",
    "    # self.den is the denominator of the first fraction, which is 4.\n",
    "    # second_arg.num is the numerator of the second fraction, which is 4.\n",
    "    # second_arg.den is the denominator of the second fraction, which is 5.\n",
    "    # __add__() method gets called when two objects added \n",
    "    def __add__(self, second_arg):\n",
    "\n",
    "        self.num = self.num * second_arg.den + second_arg.num * self.den\n",
    "        self.den = self.den * second_arg.den\n",
    "\n",
    "        return \"{}/{}\".format(self.num,self.den)"
   ]
  },
  {
   "cell_type": "code",
   "execution_count": 20,
   "metadata": {},
   "outputs": [],
   "source": [
    "f1 = Fraction(3,4)"
   ]
  },
  {
   "cell_type": "code",
   "execution_count": 21,
   "metadata": {},
   "outputs": [],
   "source": [
    "f2 = Fraction(4,5)"
   ]
  },
  {
   "cell_type": "code",
   "execution_count": 22,
   "metadata": {},
   "outputs": [
    {
     "name": "stdout",
     "output_type": "stream",
     "text": [
      "3/4\n"
     ]
    }
   ],
   "source": [
    "print(f1)"
   ]
  },
  {
   "cell_type": "code",
   "execution_count": 23,
   "metadata": {},
   "outputs": [
    {
     "name": "stdout",
     "output_type": "stream",
     "text": [
      "4/5\n"
     ]
    }
   ],
   "source": [
    "print(f2)"
   ]
  },
  {
   "cell_type": "code",
   "execution_count": 24,
   "metadata": {},
   "outputs": [
    {
     "data": {
      "text/plain": [
       "'31/20'"
      ]
     },
     "execution_count": 24,
     "metadata": {},
     "output_type": "execute_result"
    }
   ],
   "source": [
    "f1 + f2     # when it finds + operators then it calls __add__() method"
   ]
  },
  {
   "cell_type": "code",
   "execution_count": 25,
   "metadata": {},
   "outputs": [
    {
     "ename": "TypeError",
     "evalue": "unsupported operand type(s) for -: 'Fraction' and 'Fraction'",
     "output_type": "error",
     "traceback": [
      "\u001b[1;31m---------------------------------------------------------------------------\u001b[0m",
      "\u001b[1;31mTypeError\u001b[0m                                 Traceback (most recent call last)",
      "Cell \u001b[1;32mIn[25], line 1\u001b[0m\n\u001b[1;32m----> 1\u001b[0m \u001b[43mf1\u001b[49m\u001b[43m \u001b[49m\u001b[38;5;241;43m-\u001b[39;49m\u001b[43m \u001b[49m\u001b[43mf2\u001b[49m\n",
      "\u001b[1;31mTypeError\u001b[0m: unsupported operand type(s) for -: 'Fraction' and 'Fraction'"
     ]
    }
   ],
   "source": [
    "f1 - f2     # we have not defined for operator '-'  . we ahve __sub__()method "
   ]
  },
  {
   "cell_type": "code",
   "execution_count": 65,
   "metadata": {},
   "outputs": [],
   "source": [
    "class Fraction:\n",
    "\n",
    "    def __init__(self, num=1, den=1):       # provided default values to constructor args\n",
    "\n",
    "        self.num = num\n",
    "        self.den = den\n",
    "\n",
    "        if den == 0:\n",
    "            print(\"Denominator is equal to zero\")\n",
    "            self.den = 1\n",
    "\n",
    "    def __str__(self):\n",
    "\n",
    "        return \"{}/{}\".format(self.num,self.den)\n",
    "\n",
    "\n",
    "    # in dunder the self arg is taking as f1 refernce and second_arg taking as f2 \n",
    "    # __add__(f1,f2)   =>   __add__(3/4, 4/5)\n",
    "    # self.num is the numerator of the first fraction, which is 3.\n",
    "    # self.den is the denominator of the first fraction, which is 4.\n",
    "    # second_arg.num is the numerator of the second fraction, which is 4.\n",
    "    # second_arg.den is the denominator of the second fraction, which is 5.\n",
    "    # __add__() method gets called when two objects operated using '+' \n",
    "    def __add__(self, second_arg):\n",
    "\n",
    "        self.num = self.num * second_arg.den + second_arg.num * self.den\n",
    "        self.den = self.den * second_arg.den\n",
    "\n",
    "        return \"{}/{}\".format(self.num,self.den)\n",
    "    \n",
    "    # in dunder the self arg is taking as f1 refernce and second_arg taking as f2 \n",
    "    # __sub__(f1,f2)   =>   __sub__(3/4, 4/5)\n",
    "    # self.num is the numerator of the first fraction, which is 3.\n",
    "    # self.den is the denominator of the first fraction, which is 4.\n",
    "    # second_arg.num is the numerator of the second fraction, which is 4.\n",
    "    # second_arg.den is the denominator of the second fraction, which is 5.\n",
    "    # __sub__() method gets called when two objects operated using '-' \n",
    "    def __sub__(self, second_arg):\n",
    "\n",
    "        self.num = self.num * second_arg.den - second_arg.num * self.den\n",
    "        self.den = self.den * second_arg.den\n",
    "\n",
    "        return \"{}/{}\".format(self.num,self.den)\n",
    "    \n",
    "    # in dunder the self arg is taking as f1 refernce and second_arg taking as f2 \n",
    "    # __mul__(f1,f2)   =>   __mul__(3/4, 4/5)\n",
    "    # self.num is the numerator of the first fraction, which is 3.\n",
    "    # self.den is the denominator of the first fraction, which is 4.\n",
    "    # second_arg.num is the numerator of the second fraction, which is 4.\n",
    "    # second_arg.den is the denominator of the second fraction, which is 5.\n",
    "    # __mul__() method gets called when two objects operated using '*' \n",
    "    def __mul__(self, second_arg):\n",
    "\n",
    "        self.num = self.num * second_arg.num\n",
    "        self.den = self.den * second_arg.den\n",
    "\n",
    "        return \"{}/{}\".format(self.num,self.den)\n",
    "    \n",
    "    # in dunder the self arg is taking as f1 refernce and second_arg taking as f2 \n",
    "    # __truediv__(f1,f2)   =>   __truediv__(3/4, 4/5)\n",
    "    # self.num is the numerator of the first fraction, which is 3.\n",
    "    # self.den is the denominator of the first fraction, which is 4.\n",
    "    # second_arg.num is the numerator of the second fraction, which is 4.\n",
    "    # second_arg.den is the denominator of the second fraction, which is 5.\n",
    "    # __truediv__() method gets called when two objects operated using '*' \n",
    "    def __truediv__(self, second_arg):\n",
    "\n",
    "        self.num = self.num * second_arg.den\n",
    "        self.den = self.den * second_arg.num\n",
    "\n",
    "        return \"{}/{}\".format(self.num,self.den)\n",
    "    \n",
    "    # in dunder the self arg is taking as f1 refernce and second_arg taking as f2 \n",
    "    # __pow__(f1,f2)   =>   __pow__(3/4, 4/5)\n",
    "    # self.num is the numerator of the first fraction, which is 3.\n",
    "    # self.den is the denominator of the first fraction, which is 4.\n",
    "    # second_arg.num is the numerator of the second fraction, which is 4.\n",
    "    # second_arg.den is the denominator of the second fraction, which is 5.\n",
    "    # __pow__() method gets called when two objects operated using '**' \n",
    "    def __pow__(self, second_arg):\n",
    "\n",
    "        return \"{}/{}\".format(self.num,self.den)\n",
    "    \n"
   ]
  },
  {
   "cell_type": "code",
   "execution_count": 66,
   "metadata": {},
   "outputs": [],
   "source": [
    "f1 = Fraction(3,4)"
   ]
  },
  {
   "cell_type": "code",
   "execution_count": 67,
   "metadata": {},
   "outputs": [],
   "source": [
    "f2 = Fraction(4,5)"
   ]
  },
  {
   "cell_type": "code",
   "execution_count": 68,
   "metadata": {},
   "outputs": [
    {
     "name": "stdout",
     "output_type": "stream",
     "text": [
      "3/4\n"
     ]
    }
   ],
   "source": [
    "print(f1)"
   ]
  },
  {
   "cell_type": "code",
   "execution_count": 69,
   "metadata": {},
   "outputs": [
    {
     "name": "stdout",
     "output_type": "stream",
     "text": [
      "4/5\n"
     ]
    }
   ],
   "source": [
    "print(f2)"
   ]
  },
  {
   "cell_type": "code",
   "execution_count": 45,
   "metadata": {},
   "outputs": [
    {
     "data": {
      "text/plain": [
       "'31/20'"
      ]
     },
     "execution_count": 45,
     "metadata": {},
     "output_type": "execute_result"
    }
   ],
   "source": [
    "f1 + f2     # when it finds + operators then it calls __add__() method"
   ]
  },
  {
   "cell_type": "code",
   "execution_count": 52,
   "metadata": {},
   "outputs": [
    {
     "data": {
      "text/plain": [
       "'-1/20'"
      ]
     },
     "execution_count": 52,
     "metadata": {},
     "output_type": "execute_result"
    }
   ],
   "source": [
    "f1 - f2   # __sub__() gets called when it finds operator '-'"
   ]
  },
  {
   "cell_type": "code",
   "execution_count": 64,
   "metadata": {},
   "outputs": [
    {
     "data": {
      "text/plain": [
       "'12/20'"
      ]
     },
     "execution_count": 64,
     "metadata": {},
     "output_type": "execute_result"
    }
   ],
   "source": [
    "f1 * f2   # __mul__() gets called when it finds operator '*'"
   ]
  },
  {
   "cell_type": "code",
   "execution_count": 58,
   "metadata": {},
   "outputs": [
    {
     "data": {
      "text/plain": [
       "'15/16'"
      ]
     },
     "execution_count": 58,
     "metadata": {},
     "output_type": "execute_result"
    }
   ],
   "source": [
    "f1 / f2     # __truediv__() gets called when it finds operator '/'"
   ]
  },
  {
   "cell_type": "code",
   "execution_count": 70,
   "metadata": {},
   "outputs": [
    {
     "data": {
      "text/plain": [
       "'3/4'"
      ]
     },
     "execution_count": 70,
     "metadata": {},
     "output_type": "execute_result"
    }
   ],
   "source": [
    "f1 ** f2     # __pow__() gets called when it finds operator '**'"
   ]
  },
  {
   "cell_type": "code",
   "execution_count": null,
   "metadata": {},
   "outputs": [],
   "source": []
  }
 ],
 "metadata": {
  "kernelspec": {
   "display_name": "Python 3",
   "language": "python",
   "name": "python3"
  },
  "language_info": {
   "codemirror_mode": {
    "name": "ipython",
    "version": 3
   },
   "file_extension": ".py",
   "mimetype": "text/x-python",
   "name": "python",
   "nbconvert_exporter": "python",
   "pygments_lexer": "ipython3",
   "version": "3.12.1"
  }
 },
 "nbformat": 4,
 "nbformat_minor": 2
}
