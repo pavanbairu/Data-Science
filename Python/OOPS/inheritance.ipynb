{
 "cells": [
  {
   "cell_type": "markdown",
   "metadata": {},
   "source": [
    "### Inheritance\n",
    "Inheritance is a fundamental concept in object-oriented programming (OOP) that allows a new class (subclass) to inherit attributes and methods from an existing class (superclass). The subclass can then extend or modify the behavior of the superclass by adding new features or overriding existing methods."
   ]
  },
  {
   "cell_type": "code",
   "execution_count": 53,
   "metadata": {},
   "outputs": [],
   "source": [
    "class price:\n",
    "\n",
    "    def __init__(self, price, currency):\n",
    "        self.price = price\n",
    "        self.currency = currency\n",
    "\n",
    "    def get_price(self):\n",
    "        print(self.price,self.currency)"
   ]
  },
  {
   "cell_type": "code",
   "execution_count": 54,
   "metadata": {},
   "outputs": [],
   "source": [
    "class product:\n",
    "\n",
    "    def __init__(self, name, brand, price):\n",
    "        self.name = name\n",
    "        self.brand = brand\n",
    "        self.price = price  # price is an object\n",
    "\n",
    "    def get_details(iPhone):\n",
    "        print(iPhone.name)\n",
    "        print(iPhone.brand)\n",
    "        iPhone.price.get_price()    # calling the price class get_price() method\n",
    "        #print(iPhone.price.price)\n",
    "        #print(iPhone.price.currency)\n",
    "        # print(iPhone.price)"
   ]
  },
  {
   "cell_type": "code",
   "execution_count": 55,
   "metadata": {},
   "outputs": [
    {
     "name": "stdout",
     "output_type": "stream",
     "text": [
      "100 INR\n"
     ]
    }
   ],
   "source": [
    "price = price(100, \"INR\")\n",
    "price.get_price()       # this price object passing as parameter to product class"
   ]
  },
  {
   "cell_type": "code",
   "execution_count": 56,
   "metadata": {},
   "outputs": [],
   "source": [
    "iPhone = product(\"iPhone\", \"Apple\", price) # price is an object"
   ]
  },
  {
   "cell_type": "code",
   "execution_count": 57,
   "metadata": {},
   "outputs": [
    {
     "name": "stdout",
     "output_type": "stream",
     "text": [
      "iPhone\n",
      "Apple\n",
      "100 INR\n"
     ]
    }
   ],
   "source": [
    "iPhone.get_details()"
   ]
  },
  {
   "cell_type": "markdown",
   "metadata": {},
   "source": [
    "##### example"
   ]
  },
  {
   "cell_type": "code",
   "execution_count": 58,
   "metadata": {},
   "outputs": [],
   "source": [
    "class iNeuron:\n",
    "    pass"
   ]
  },
  {
   "cell_type": "code",
   "execution_count": 59,
   "metadata": {},
   "outputs": [],
   "source": [
    "class Mentor:\n",
    "\n",
    "    def login(self):\n",
    "        print(\"login\")\n",
    "\n",
    "    def logout(self):\n",
    "        print(\"logout\")"
   ]
  },
  {
   "cell_type": "code",
   "execution_count": 60,
   "metadata": {},
   "outputs": [],
   "source": [
    "class Student:\n",
    "\n",
    "    def login(self):\n",
    "        print(\"login\")\n",
    "\n",
    "    def logout(self):\n",
    "        print(\"logout\")"
   ]
  },
  {
   "cell_type": "markdown",
   "metadata": {},
   "source": [
    "##### the login & logout methods are common in student and mentor class"
   ]
  },
  {
   "cell_type": "code",
   "execution_count": 61,
   "metadata": {},
   "outputs": [],
   "source": [
    "student1 = Student()"
   ]
  },
  {
   "cell_type": "code",
   "execution_count": 62,
   "metadata": {},
   "outputs": [
    {
     "name": "stdout",
     "output_type": "stream",
     "text": [
      "login\n"
     ]
    }
   ],
   "source": [
    "student1.login()"
   ]
  },
  {
   "cell_type": "code",
   "execution_count": 63,
   "metadata": {},
   "outputs": [
    {
     "name": "stdout",
     "output_type": "stream",
     "text": [
      "logout\n"
     ]
    }
   ],
   "source": [
    "student1.logout()"
   ]
  },
  {
   "cell_type": "code",
   "execution_count": 64,
   "metadata": {},
   "outputs": [],
   "source": [
    "mentor1 = Mentor()"
   ]
  },
  {
   "cell_type": "code",
   "execution_count": 65,
   "metadata": {},
   "outputs": [
    {
     "name": "stdout",
     "output_type": "stream",
     "text": [
      "login\n"
     ]
    }
   ],
   "source": [
    "mentor1.login()"
   ]
  },
  {
   "cell_type": "code",
   "execution_count": 66,
   "metadata": {},
   "outputs": [
    {
     "name": "stdout",
     "output_type": "stream",
     "text": [
      "logout\n"
     ]
    }
   ],
   "source": [
    "mentor1.logout()"
   ]
  },
  {
   "cell_type": "code",
   "execution_count": 67,
   "metadata": {},
   "outputs": [],
   "source": [
    "class iNeuron:\n",
    "    \n",
    "    # the common methods\n",
    "    def login(self):\n",
    "        print(\"login\")\n",
    "\n",
    "    def logout(self):\n",
    "        print(\"logout\")"
   ]
  },
  {
   "cell_type": "code",
   "execution_count": 69,
   "metadata": {},
   "outputs": [],
   "source": [
    "class Mentor(iNeuron):  # inheriting the iNeuron class\n",
    "    pass"
   ]
  },
  {
   "cell_type": "code",
   "execution_count": 70,
   "metadata": {},
   "outputs": [],
   "source": [
    "class Student(iNeuron):  # inheriting the iNeuron class\n",
    "    pass"
   ]
  },
  {
   "cell_type": "code",
   "execution_count": 71,
   "metadata": {},
   "outputs": [
    {
     "name": "stdout",
     "output_type": "stream",
     "text": [
      "login\n",
      "logout\n"
     ]
    }
   ],
   "source": [
    "student = Student()\n",
    "student.login()     # able to call iNeuron class methods with student object\n",
    "student.logout()"
   ]
  },
  {
   "cell_type": "code",
   "execution_count": 72,
   "metadata": {},
   "outputs": [
    {
     "name": "stdout",
     "output_type": "stream",
     "text": [
      "login\n",
      "logout\n"
     ]
    }
   ],
   "source": [
    "mentor = Mentor()\n",
    "mentor.login()       # able to call iNeuron class methods with mentor object\n",
    "mentor.logout()"
   ]
  },
  {
   "cell_type": "markdown",
   "metadata": {},
   "source": [
    "##### using constructor"
   ]
  },
  {
   "cell_type": "code",
   "execution_count": 73,
   "metadata": {},
   "outputs": [],
   "source": [
    "class iNeuron:\n",
    "    \n",
    "    def __init__(self, name):\n",
    "        self.name = name\n",
    "        print(\"iNeuron class\")\n",
    "        \n",
    "    # the common methods\n",
    "    def login(self):\n",
    "        print(\"login\")\n",
    "\n",
    "    def logout(self):\n",
    "        print(\"logout\")\n"
   ]
  },
  {
   "cell_type": "code",
   "execution_count": 74,
   "metadata": {},
   "outputs": [],
   "source": [
    "class Mentor(iNeuron):  # inheriting the iNeuron class\n",
    "    pass\n"
   ]
  },
  {
   "cell_type": "code",
   "execution_count": 75,
   "metadata": {},
   "outputs": [],
   "source": [
    "class Student(iNeuron):  # inheriting the iNeuron class\n",
    "    pass\n"
   ]
  },
  {
   "cell_type": "code",
   "execution_count": 76,
   "metadata": {},
   "outputs": [
    {
     "name": "stdout",
     "output_type": "stream",
     "text": [
      "iNeuron class\n",
      "login\n",
      "logout\n"
     ]
    }
   ],
   "source": [
    "student = Student(\"pavan\")\n",
    "student.login()     # able to call iNeuron class methods with student object\n",
    "student.logout()\n"
   ]
  },
  {
   "cell_type": "code",
   "execution_count": 78,
   "metadata": {},
   "outputs": [
    {
     "data": {
      "text/plain": [
       "'pavan'"
      ]
     },
     "execution_count": 78,
     "metadata": {},
     "output_type": "execute_result"
    }
   ],
   "source": [
    "student.name        # student name"
   ]
  },
  {
   "cell_type": "code",
   "execution_count": 77,
   "metadata": {},
   "outputs": [
    {
     "name": "stdout",
     "output_type": "stream",
     "text": [
      "iNeuron class\n",
      "login\n",
      "logout\n"
     ]
    }
   ],
   "source": [
    "mentor = Mentor(\"mayank\")\n",
    "mentor.login()       # able to call iNeuron class methods with mentor object\n",
    "mentor.logout()"
   ]
  },
  {
   "cell_type": "code",
   "execution_count": 79,
   "metadata": {},
   "outputs": [
    {
     "data": {
      "text/plain": [
       "'mayank'"
      ]
     },
     "execution_count": 79,
     "metadata": {},
     "output_type": "execute_result"
    }
   ],
   "source": [
    "mentor.name"
   ]
  },
  {
   "cell_type": "markdown",
   "metadata": {},
   "source": [
    "##### using constructor and private members"
   ]
  },
  {
   "cell_type": "code",
   "execution_count": 94,
   "metadata": {},
   "outputs": [],
   "source": [
    "class iNeuron:\n",
    "    \n",
    "    def __init__(self, name):\n",
    "        self.name = name\n",
    "        self.__income = 1000\n",
    "        print(\"iNeuron class\")\n",
    "        \n",
    "    # the common methods\n",
    "    def login(self):\n",
    "        print(\"login\")\n",
    "\n",
    "    def logout(self):\n",
    "        print(\"logout\")\n",
    "\n",
    "    def get_income(self):\n",
    "        print(self.__income)\n"
   ]
  },
  {
   "cell_type": "code",
   "execution_count": 95,
   "metadata": {},
   "outputs": [],
   "source": [
    "class Mentor(iNeuron):  # inheriting the iNeuron class\n",
    "    \n",
    "    def get_detail(self):\n",
    "        print(self.name)\n",
    "        print(self.__income)"
   ]
  },
  {
   "cell_type": "code",
   "execution_count": 83,
   "metadata": {},
   "outputs": [],
   "source": [
    "class Student(iNeuron):  # inheriting the iNeuron class\n",
    "    pass\n"
   ]
  },
  {
   "cell_type": "code",
   "execution_count": 86,
   "metadata": {},
   "outputs": [
    {
     "name": "stdout",
     "output_type": "stream",
     "text": [
      "iNeuron class\n",
      "login\n",
      "logout\n"
     ]
    }
   ],
   "source": [
    "student = Student(\"pavan\")\n",
    "student.login()     # able to call iNeuron class methods with student object\n",
    "student.logout()"
   ]
  },
  {
   "cell_type": "code",
   "execution_count": 96,
   "metadata": {},
   "outputs": [
    {
     "name": "stdout",
     "output_type": "stream",
     "text": [
      "iNeuron class\n",
      "login\n",
      "logout\n",
      "1000\n"
     ]
    }
   ],
   "source": [
    "mentor = Mentor(\"mayank\")\n",
    "mentor.login()       # able to call iNeuron class methods with mentor object\n",
    "mentor.logout()\n",
    "mentor.get_income()  # we can access method which is having private variables in parent class"
   ]
  },
  {
   "cell_type": "code",
   "execution_count": 97,
   "metadata": {},
   "outputs": [
    {
     "name": "stdout",
     "output_type": "stream",
     "text": [
      "mayank\n"
     ]
    },
    {
     "ename": "AttributeError",
     "evalue": "'Mentor' object has no attribute '_Mentor__income'",
     "output_type": "error",
     "traceback": [
      "\u001b[1;31m---------------------------------------------------------------------------\u001b[0m",
      "\u001b[1;31mAttributeError\u001b[0m                            Traceback (most recent call last)",
      "Cell \u001b[1;32mIn[97], line 1\u001b[0m\n\u001b[1;32m----> 1\u001b[0m \u001b[43mmentor\u001b[49m\u001b[38;5;241;43m.\u001b[39;49m\u001b[43mget_detail\u001b[49m\u001b[43m(\u001b[49m\u001b[43m)\u001b[49m\n",
      "Cell \u001b[1;32mIn[95], line 5\u001b[0m, in \u001b[0;36mMentor.get_detail\u001b[1;34m(self)\u001b[0m\n\u001b[0;32m      3\u001b[0m \u001b[38;5;28;01mdef\u001b[39;00m \u001b[38;5;21mget_detail\u001b[39m(\u001b[38;5;28mself\u001b[39m):\n\u001b[0;32m      4\u001b[0m     \u001b[38;5;28mprint\u001b[39m(\u001b[38;5;28mself\u001b[39m\u001b[38;5;241m.\u001b[39mname)\n\u001b[1;32m----> 5\u001b[0m     \u001b[38;5;28mprint\u001b[39m(\u001b[38;5;28;43mself\u001b[39;49m\u001b[38;5;241;43m.\u001b[39;49m\u001b[43m__income\u001b[49m)\n",
      "\u001b[1;31mAttributeError\u001b[0m: 'Mentor' object has no attribute '_Mentor__income'"
     ]
    }
   ],
   "source": [
    "mentor.get_detail() # we cannot access directly the private member from parent class"
   ]
  },
  {
   "cell_type": "markdown",
   "metadata": {},
   "source": [
    "##### method overiding the parent class"
   ]
  },
  {
   "cell_type": "code",
   "execution_count": null,
   "metadata": {},
   "outputs": [],
   "source": [
    "class iNeuron:\n",
    "    \n",
    "    def __init__(self, name):\n",
    "        self.name = name\n",
    "        self.__income = 1000\n",
    "        print(\"iNeuron class\")\n",
    "        \n",
    "    # the common methods\n",
    "    def login(self):\n",
    "        print(\"login\")\n",
    "\n",
    "    def logout(self):\n",
    "        print(\"logout\")"
   ]
  },
  {
   "cell_type": "code",
   "execution_count": 89,
   "metadata": {},
   "outputs": [],
   "source": [
    "class Mentor(iNeuron):  # inheriting the iNeuron class\n",
    "    \n",
    "    def get_income(self):\n",
    "        print(self.name)\n",
    "        print(self.__income)\n",
    "\n",
    "    def login(self):        # this method overides the parent class method\n",
    "        print(\"this is mentor class\")"
   ]
  },
  {
   "cell_type": "code",
   "execution_count": 91,
   "metadata": {},
   "outputs": [
    {
     "name": "stdout",
     "output_type": "stream",
     "text": [
      "iNeuron class\n",
      "this is mentor class\n",
      "logout\n"
     ]
    }
   ],
   "source": [
    "mentor = Mentor(\"mayank\")\n",
    "mentor.login()  # first it will check the method in child class. if not available then only it goes for parent class\n",
    "mentor.logout()"
   ]
  },
  {
   "cell_type": "markdown",
   "metadata": {},
   "source": [
    "##### constructor overriding"
   ]
  },
  {
   "cell_type": "code",
   "execution_count": 108,
   "metadata": {},
   "outputs": [],
   "source": [
    "class iNeuron:\n",
    "    \n",
    "    def __init__(self, name):\n",
    "        self.name = name\n",
    "        print(\"iNeuron constructor\")\n",
    "        self.__income = 1000\n",
    "        print(\"iNeuron class\")\n",
    "        \n",
    "    # the common methods\n",
    "    def login(self):\n",
    "        print(\"login\")\n",
    "\n",
    "    def logout(self):\n",
    "        print(\"logout\")\n",
    "\n",
    "    def getName(self):\n",
    "        print(self.name)"
   ]
  },
  {
   "cell_type": "code",
   "execution_count": 109,
   "metadata": {},
   "outputs": [],
   "source": [
    "class Mentor(iNeuron):  # inheriting the iNeuron class\n",
    "\n",
    "    def __init__(self, speciality, name):   # not using the name anywhere\n",
    "        print(\"mentor constructor\")\n",
    "        self.speciality = speciality\n",
    "    \n",
    "    def get_income(self):\n",
    "        print(self.name)\n",
    "        print(self.__income)\n",
    "\n",
    "    def login(self):        # this method overides the parent class method\n",
    "        print(\"this is mentor class\")"
   ]
  },
  {
   "cell_type": "code",
   "execution_count": 110,
   "metadata": {},
   "outputs": [
    {
     "name": "stdout",
     "output_type": "stream",
     "text": [
      "mentor constructor\n"
     ]
    }
   ],
   "source": [
    "mentor = Mentor(\"DS\", \"mayank\")"
   ]
  },
  {
   "cell_type": "code",
   "execution_count": 111,
   "metadata": {},
   "outputs": [
    {
     "ename": "AttributeError",
     "evalue": "'Mentor' object has no attribute 'name'",
     "output_type": "error",
     "traceback": [
      "\u001b[1;31m---------------------------------------------------------------------------\u001b[0m",
      "\u001b[1;31mAttributeError\u001b[0m                            Traceback (most recent call last)",
      "Cell \u001b[1;32mIn[111], line 1\u001b[0m\n\u001b[1;32m----> 1\u001b[0m \u001b[43mmentor\u001b[49m\u001b[38;5;241;43m.\u001b[39;49m\u001b[43mgetName\u001b[49m\u001b[43m(\u001b[49m\u001b[43m)\u001b[49m\n",
      "Cell \u001b[1;32mIn[108], line 17\u001b[0m, in \u001b[0;36miNeuron.getName\u001b[1;34m(self)\u001b[0m\n\u001b[0;32m     16\u001b[0m \u001b[38;5;28;01mdef\u001b[39;00m \u001b[38;5;21mgetName\u001b[39m(\u001b[38;5;28mself\u001b[39m):\n\u001b[1;32m---> 17\u001b[0m     \u001b[38;5;28mprint\u001b[39m(\u001b[38;5;28;43mself\u001b[39;49m\u001b[38;5;241;43m.\u001b[39;49m\u001b[43mname\u001b[49m)\n",
      "\u001b[1;31mAttributeError\u001b[0m: 'Mentor' object has no attribute 'name'"
     ]
    }
   ],
   "source": [
    "mentor.getName()"
   ]
  },
  {
   "cell_type": "markdown",
   "metadata": {},
   "source": [
    "#### super() - It is used to access properties of parent class"
   ]
  },
  {
   "cell_type": "code",
   "execution_count": 112,
   "metadata": {},
   "outputs": [],
   "source": [
    "class iNeuron:\n",
    "    \n",
    "    def __init__(self):\n",
    "        print(\"iNeuron constructor\")\n",
    "   \n",
    "    # the common methods\n",
    "    def login(self):\n",
    "        print(\"login\")"
   ]
  },
  {
   "cell_type": "code",
   "execution_count": 113,
   "metadata": {},
   "outputs": [],
   "source": [
    "class Mentor(iNeuron):  # inheriting the iNeuron class\n",
    "\n",
    "    def __init__(self, speciality, name):   # not using the name anywhere\n",
    "        print(\"mentor constructor\")\n",
    "        self.speciality = speciality\n",
    "\n",
    "    def login(self):     \n",
    "        super().login()     # calls the parent method\n",
    "        print(\"this is mentor class\")"
   ]
  },
  {
   "cell_type": "code",
   "execution_count": 114,
   "metadata": {},
   "outputs": [
    {
     "name": "stdout",
     "output_type": "stream",
     "text": [
      "mentor constructor\n"
     ]
    }
   ],
   "source": [
    "mentor = Mentor(\"DS\", \"Pavan\")"
   ]
  },
  {
   "cell_type": "code",
   "execution_count": 115,
   "metadata": {},
   "outputs": [
    {
     "name": "stdout",
     "output_type": "stream",
     "text": [
      "login\n",
      "this is mentor class\n"
     ]
    }
   ],
   "source": [
    "mentor.login()"
   ]
  },
  {
   "cell_type": "code",
   "execution_count": 116,
   "metadata": {},
   "outputs": [],
   "source": [
    "class iNeuron:\n",
    "    \n",
    "    def __init__(self):\n",
    "        print(\"iNeuron constructor\")\n",
    "   \n",
    "    # the common methods\n",
    "    def login(self):\n",
    "        print(\"login\")\n",
    "\n",
    "    def __logout(self):\n",
    "        print(\"logout\")"
   ]
  },
  {
   "cell_type": "code",
   "execution_count": 117,
   "metadata": {},
   "outputs": [],
   "source": [
    "class Mentor(iNeuron):  # inheriting the iNeuron class\n",
    "\n",
    "    def __init__(self, speciality, name):   # not using the name anywhere\n",
    "        print(\"mentor constructor\")\n",
    "        self.speciality = speciality\n",
    "\n",
    "    def login(self):     \n",
    "        super().login()     # calls the parent method\n",
    "        print(\"this is mentor class\")\n",
    "\n",
    "    def logout(self):\n",
    "        super().__logout()  # cannot access private method using super\n",
    "        print(\"logout\")"
   ]
  },
  {
   "cell_type": "code",
   "execution_count": 118,
   "metadata": {},
   "outputs": [
    {
     "name": "stdout",
     "output_type": "stream",
     "text": [
      "mentor constructor\n"
     ]
    }
   ],
   "source": [
    "mentor = Mentor(\"DS\", \"Pavan\")"
   ]
  },
  {
   "cell_type": "code",
   "execution_count": 120,
   "metadata": {},
   "outputs": [
    {
     "name": "stdout",
     "output_type": "stream",
     "text": [
      "login\n",
      "this is mentor class\n"
     ]
    },
    {
     "ename": "AttributeError",
     "evalue": "'Mentor' object has no attribute '__logout'",
     "output_type": "error",
     "traceback": [
      "\u001b[1;31m---------------------------------------------------------------------------\u001b[0m",
      "\u001b[1;31mAttributeError\u001b[0m                            Traceback (most recent call last)",
      "Cell \u001b[1;32mIn[120], line 2\u001b[0m\n\u001b[0;32m      1\u001b[0m mentor\u001b[38;5;241m.\u001b[39mlogin()\n\u001b[1;32m----> 2\u001b[0m \u001b[43mmentor\u001b[49m\u001b[38;5;241;43m.\u001b[39;49m\u001b[43m__logout\u001b[49m()\n\u001b[0;32m      3\u001b[0m mentor\u001b[38;5;241m.\u001b[39mlogout()\n",
      "\u001b[1;31mAttributeError\u001b[0m: 'Mentor' object has no attribute '__logout'"
     ]
    }
   ],
   "source": [
    "mentor.login()\n",
    "mentor.__logout()  # cannot access private method"
   ]
  },
  {
   "cell_type": "code",
   "execution_count": 121,
   "metadata": {},
   "outputs": [
    {
     "ename": "AttributeError",
     "evalue": "'super' object has no attribute '_Mentor__logout'",
     "output_type": "error",
     "traceback": [
      "\u001b[1;31m---------------------------------------------------------------------------\u001b[0m",
      "\u001b[1;31mAttributeError\u001b[0m                            Traceback (most recent call last)",
      "Cell \u001b[1;32mIn[121], line 1\u001b[0m\n\u001b[1;32m----> 1\u001b[0m \u001b[43mmentor\u001b[49m\u001b[38;5;241;43m.\u001b[39;49m\u001b[43mlogout\u001b[49m\u001b[43m(\u001b[49m\u001b[43m)\u001b[49m\n",
      "Cell \u001b[1;32mIn[117], line 12\u001b[0m, in \u001b[0;36mMentor.logout\u001b[1;34m(self)\u001b[0m\n\u001b[0;32m     11\u001b[0m \u001b[38;5;28;01mdef\u001b[39;00m \u001b[38;5;21mlogout\u001b[39m(\u001b[38;5;28mself\u001b[39m):\n\u001b[1;32m---> 12\u001b[0m     \u001b[38;5;28;43msuper\u001b[39;49m\u001b[43m(\u001b[49m\u001b[43m)\u001b[49m\u001b[38;5;241;43m.\u001b[39;49m\u001b[43m__logout\u001b[49m()  \u001b[38;5;66;03m# cannot access private method using super\u001b[39;00m\n\u001b[0;32m     13\u001b[0m     \u001b[38;5;28mprint\u001b[39m(\u001b[38;5;124m\"\u001b[39m\u001b[38;5;124mlogout\u001b[39m\u001b[38;5;124m\"\u001b[39m)\n",
      "\u001b[1;31mAttributeError\u001b[0m: 'super' object has no attribute '_Mentor__logout'"
     ]
    }
   ],
   "source": [
    "mentor.logout()  # cannot access private using super"
   ]
  },
  {
   "cell_type": "markdown",
   "metadata": {},
   "source": [
    "#### super() calling constructor"
   ]
  },
  {
   "cell_type": "code",
   "execution_count": 122,
   "metadata": {},
   "outputs": [],
   "source": [
    "class iNeuron:\n",
    "    \n",
    "    def __init__(self, name):\n",
    "        self.name = name\n",
    "        print(\"iNeuron constructor\")\n",
    "        self.__income = 1000\n",
    "        print(\"iNeuron class\")\n",
    "        \n",
    "    # the common methods\n",
    "    def login(self):\n",
    "        print(\"login\")\n",
    "\n",
    "    def logout(self):\n",
    "        print(\"logout\")\n",
    "\n",
    "    def getName(self):\n",
    "        print(self.name)"
   ]
  },
  {
   "cell_type": "code",
   "execution_count": 123,
   "metadata": {},
   "outputs": [],
   "source": [
    "class Mentor(iNeuron):  # inheriting the iNeuron class\n",
    "\n",
    "    def __init__(self, speciality, name):   # not using the name anywhere\n",
    "        print(\"mentor constructor\")\n",
    "        super().__init__(name)          # calling the iNeuron constructor\n",
    "        self.speciality = speciality\n",
    "    \n",
    "    def get_income(self):\n",
    "        print(self.name)\n",
    "        print(self.__income)\n",
    "\n",
    "    def login(self):        # this method overides the parent class method\n",
    "        print(\"this is mentor class\")"
   ]
  },
  {
   "cell_type": "code",
   "execution_count": 125,
   "metadata": {},
   "outputs": [
    {
     "name": "stdout",
     "output_type": "stream",
     "text": [
      "mentor constructor\n",
      "iNeuron constructor\n",
      "iNeuron class\n"
     ]
    }
   ],
   "source": [
    "mentor = Mentor(\"DS\",\"mayank\")"
   ]
  },
  {
   "cell_type": "code",
   "execution_count": 126,
   "metadata": {},
   "outputs": [
    {
     "name": "stdout",
     "output_type": "stream",
     "text": [
      "mayank\n"
     ]
    }
   ],
   "source": [
    "mentor.getName()  # we passed name as input to ineuron constructor from mentor constructor"
   ]
  },
  {
   "cell_type": "markdown",
   "metadata": {},
   "source": [
    "#### 2. Multi-Level Inheritance"
   ]
  },
  {
   "cell_type": "code",
   "execution_count": 127,
   "metadata": {},
   "outputs": [],
   "source": [
    "class company:\n",
    "\n",
    "    def __init__(self, company_name) :\n",
    "        self.company_name = company_name\n",
    "        print(\"company constructor\")\n"
   ]
  },
  {
   "cell_type": "code",
   "execution_count": 132,
   "metadata": {},
   "outputs": [],
   "source": [
    "class iNeuron(company):\n",
    "    \n",
    "    company_name = \"iNeuron\"\n",
    "\n",
    "    def __init__(self, name):\n",
    "        self.name = name\n",
    "        print(\"iNeuron constructor\")\n",
    "        super().__init__(\"iNeuron Intelligence Pvt Ltd\")        # calling company constructor with name\n",
    "        self.__income = 1000\n",
    "\n",
    "        \n",
    "    # the common methods\n",
    "    def login(self):\n",
    "        print(\"login\")\n",
    "\n",
    "    def logout(self):\n",
    "        print(\"logout\")\n",
    "\n",
    "    def getName(self):\n",
    "        print(self.name)"
   ]
  },
  {
   "cell_type": "code",
   "execution_count": 133,
   "metadata": {},
   "outputs": [],
   "source": [
    "class Mentor(iNeuron):  # inheriting the iNeuron class\n",
    "\n",
    "    def __init__(self, speciality, name):   # not using the name anywhere\n",
    "        print(\"mentor constructor\")\n",
    "        super().__init__(name)          # calling the iNeuron constructor\n",
    "        self.speciality = speciality\n",
    "    \n",
    "    def get_income(self):\n",
    "        print(self.name)\n",
    "        print(self.__income)\n",
    "\n",
    "    def login(self):        # this method overides the parent class method\n",
    "        print(\"this is mentor class\")"
   ]
  },
  {
   "cell_type": "code",
   "execution_count": 134,
   "metadata": {},
   "outputs": [
    {
     "name": "stdout",
     "output_type": "stream",
     "text": [
      "mentor constructor\n",
      "iNeuron constructor\n",
      "company constructor\n"
     ]
    }
   ],
   "source": [
    "mentor = Mentor(\"DS\", \"Mayank\")"
   ]
  },
  {
   "cell_type": "code",
   "execution_count": 135,
   "metadata": {},
   "outputs": [
    {
     "data": {
      "text/plain": [
       "'iNeuron Intelligence Pvt Ltd'"
      ]
     },
     "execution_count": 135,
     "metadata": {},
     "output_type": "execute_result"
    }
   ],
   "source": [
    "mentor.company_name  # we have not directly inherited the company class. but indirectly accessing it though the iNeuron class "
   ]
  },
  {
   "cell_type": "markdown",
   "metadata": {},
   "source": [
    "#### 3. Multiple Inheritance"
   ]
  },
  {
   "cell_type": "code",
   "execution_count": 156,
   "metadata": {},
   "outputs": [],
   "source": [
    "class iNeuron:\n",
    "    \n",
    "    company_name = \"iNeuron\"\n",
    "\n",
    "    def __init__(self):\n",
    "        # self.name = name\n",
    "        print(\"iNeuron constructor\")\n",
    "        self.__income = 1000\n",
    "\n",
    "    # the common methods\n",
    "    def login(self):\n",
    "        print(\"iNeuron login\")\n",
    "\n",
    "    def logout(self):\n",
    "        print(\"iNeuron logout\")"
   ]
  },
  {
   "cell_type": "code",
   "execution_count": 157,
   "metadata": {},
   "outputs": [],
   "source": [
    "class Mentor: \n",
    "\n",
    "    def __init__(self):  \n",
    "        print(\"mentor constructor\")\n",
    "        # super().__init__(name)          # calling the iNeuron constructor\n",
    "        # self.speciality = speciality\n",
    "\n",
    "    def logout(self):\n",
    "        print(\"mentor logout\")\n",
    "\n",
    "    def login(self):        # this method overides the parent class method\n",
    "        print(\"mentor login\")"
   ]
  },
  {
   "cell_type": "code",
   "execution_count": 172,
   "metadata": {},
   "outputs": [],
   "source": [
    "class student(iNeuron, Mentor):\n",
    "\n",
    "\n",
    "    def mentor_login(self):  # if we want to call specifically the class method\n",
    "        Mentor.login(self)"
   ]
  },
  {
   "cell_type": "code",
   "execution_count": 173,
   "metadata": {},
   "outputs": [
    {
     "name": "stdout",
     "output_type": "stream",
     "text": [
      "iNeuron constructor\n"
     ]
    }
   ],
   "source": [
    "std = student()"
   ]
  },
  {
   "cell_type": "code",
   "execution_count": 174,
   "metadata": {},
   "outputs": [
    {
     "name": "stdout",
     "output_type": "stream",
     "text": [
      "iNeuron login\n"
     ]
    }
   ],
   "source": [
    "std.login() # it will call the ineuron login method not the mentor login, coz it calls based on order of inheritng classes sequence"
   ]
  },
  {
   "cell_type": "code",
   "execution_count": 175,
   "metadata": {},
   "outputs": [
    {
     "name": "stdout",
     "output_type": "stream",
     "text": [
      "iNeuron logout\n"
     ]
    }
   ],
   "source": [
    "std.logout()"
   ]
  },
  {
   "cell_type": "code",
   "execution_count": 176,
   "metadata": {},
   "outputs": [
    {
     "name": "stdout",
     "output_type": "stream",
     "text": [
      "mentor login\n"
     ]
    }
   ],
   "source": [
    "std.mentor_login()"
   ]
  },
  {
   "cell_type": "code",
   "execution_count": null,
   "metadata": {},
   "outputs": [],
   "source": []
  }
 ],
 "metadata": {
  "kernelspec": {
   "display_name": "Python 3",
   "language": "python",
   "name": "python3"
  },
  "language_info": {
   "codemirror_mode": {
    "name": "ipython",
    "version": 3
   },
   "file_extension": ".py",
   "mimetype": "text/x-python",
   "name": "python",
   "nbconvert_exporter": "python",
   "pygments_lexer": "ipython3",
   "version": "3.12.1"
  }
 },
 "nbformat": 4,
 "nbformat_minor": 2
}
