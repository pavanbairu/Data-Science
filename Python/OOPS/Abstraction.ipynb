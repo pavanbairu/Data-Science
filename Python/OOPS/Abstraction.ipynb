{
 "cells": [
  {
   "cell_type": "markdown",
   "metadata": {},
   "source": [
    "#### Abstraction\n",
    "abstraction means hiding the complex inner workings of a system or object and providing a simple interface for using it. You don't need to know all the details of how something works; you just need to know how to use it effectively.\n",
    "\n",
    "example: like using a TV remote without knowing how it works inside. You press a button, and it changes the channel or adjusts the volume without you needing to understand the intricate electronics inside the remote"
   ]
  },
  {
   "cell_type": "code",
   "execution_count": 3,
   "metadata": {},
   "outputs": [],
   "source": [
    "class iNeuron:\n",
    "\n",
    "    def __init__(self):\n",
    "        # self.name = name\n",
    "        print(\"iNeuron constructor\")\n",
    "        self.__income = 1000\n",
    "\n",
    "    # the common methods\n",
    "    def authorization(self):\n",
    "        print(\"authorization is successful\")\n",
    "\n",
    "    def logout(self):\n",
    "        print(\"iNeuron logout\")\n",
    "\n",
    "    def login(self):\n",
    "        print(\"iNeuron login\")"
   ]
  },
  {
   "cell_type": "code",
   "execution_count": 4,
   "metadata": {},
   "outputs": [],
   "source": [
    "class Mentor(iNeuron): \n",
    "    pass"
   ]
  },
  {
   "cell_type": "code",
   "execution_count": 5,
   "metadata": {},
   "outputs": [
    {
     "name": "stdout",
     "output_type": "stream",
     "text": [
      "iNeuron constructor\n"
     ]
    }
   ],
   "source": [
    "m = Mentor()"
   ]
  },
  {
   "cell_type": "code",
   "execution_count": 6,
   "metadata": {},
   "outputs": [
    {
     "name": "stdout",
     "output_type": "stream",
     "text": [
      "authorization is successful\n"
     ]
    }
   ],
   "source": [
    "# your able to authorize directly. but should restrict the child class to authorize in their own way\n",
    "m.authorization()       "
   ]
  },
  {
   "cell_type": "code",
   "execution_count": 7,
   "metadata": {},
   "outputs": [],
   "source": [
    "# abc - abstract base class\n",
    "# Helper class that provides a standard way to create an ABC using inheritance.\n",
    "\n",
    "from abc import ABC, abstractmethod\n",
    "\n",
    "class iNeuron(ABC): # inheritng the ABC class\n",
    "\n",
    "    def __init__(self):\n",
    "        # self.name = name\n",
    "        print(\"iNeuron constructor\")\n",
    "        self.__income = 1000\n",
    "\n",
    "    # the common methods\n",
    "    @abstractmethod     # decorating with authorization to restrict the user to overide this function\n",
    "    def authorization(self):\n",
    "        print(\"authorization is successful\")\n",
    "\n",
    "    def logout(self):\n",
    "        print(\"iNeuron logout\")\n",
    "\n",
    "    def login(self):\n",
    "        print(\"iNeuron login\")"
   ]
  },
  {
   "cell_type": "code",
   "execution_count": 8,
   "metadata": {},
   "outputs": [],
   "source": [
    "class Mentor(iNeuron): \n",
    "    pass"
   ]
  },
  {
   "cell_type": "code",
   "execution_count": 9,
   "metadata": {},
   "outputs": [
    {
     "ename": "TypeError",
     "evalue": "Can't instantiate abstract class Mentor without an implementation for abstract method 'authorization'",
     "output_type": "error",
     "traceback": [
      "\u001b[1;31m---------------------------------------------------------------------------\u001b[0m",
      "\u001b[1;31mTypeError\u001b[0m                                 Traceback (most recent call last)",
      "Cell \u001b[1;32mIn[9], line 1\u001b[0m\n\u001b[1;32m----> 1\u001b[0m m \u001b[38;5;241m=\u001b[39m \u001b[43mMentor\u001b[49m\u001b[43m(\u001b[49m\u001b[43m)\u001b[49m        \u001b[38;5;66;03m# we have to overide the authorization method in child class\u001b[39;00m\n",
      "\u001b[1;31mTypeError\u001b[0m: Can't instantiate abstract class Mentor without an implementation for abstract method 'authorization'"
     ]
    }
   ],
   "source": [
    "m = Mentor()        # we have to overide the authorization method in child class"
   ]
  },
  {
   "cell_type": "code",
   "execution_count": 10,
   "metadata": {},
   "outputs": [],
   "source": [
    "# abc - abstract base class\n",
    "# Helper class that provides a standard way to create an ABC using inheritance.\n",
    "from abc import ABC, abstractmethod\n",
    "\n",
    "class iNeuron(ABC): # inheritng the ABC class\n",
    "\n",
    "    def __init__(self):\n",
    "        # self.name = name\n",
    "        print(\"iNeuron constructor\")\n",
    "        self.__income = 1000\n",
    "\n",
    "    # the common methods\n",
    "    @abstractmethod     # decorating with authorization to restrict the user to overide this function\n",
    "    def authorization(self):\n",
    "        print(\"authorization is successful\")\n",
    "\n",
    "    def logout(self):\n",
    "        print(\"iNeuron logout\")\n",
    "\n",
    "    def login(self):\n",
    "        print(\"iNeuron login\")"
   ]
  },
  {
   "cell_type": "code",
   "execution_count": 11,
   "metadata": {},
   "outputs": [],
   "source": [
    "class Mentor(iNeuron): \n",
    "    def authorization(self):\n",
    "        print(\"will do mentor authorization\")\n",
    "    "
   ]
  },
  {
   "cell_type": "code",
   "execution_count": 12,
   "metadata": {},
   "outputs": [
    {
     "name": "stdout",
     "output_type": "stream",
     "text": [
      "iNeuron constructor\n"
     ]
    }
   ],
   "source": [
    "m = Mentor()        # we have to overide the authorization method in child class"
   ]
  },
  {
   "cell_type": "code",
   "execution_count": 13,
   "metadata": {},
   "outputs": [
    {
     "name": "stdout",
     "output_type": "stream",
     "text": [
      "will do mentor authorization\n"
     ]
    }
   ],
   "source": [
    "# mentor authorized in his way of authorization\n",
    "# like that if any class imports iNeuron, they should provide their own authorization\n",
    "m.authorization()       "
   ]
  },
  {
   "cell_type": "markdown",
   "metadata": {},
   "source": [
    "##### TV Remote example"
   ]
  },
  {
   "cell_type": "code",
   "execution_count": 14,
   "metadata": {},
   "outputs": [],
   "source": [
    "# abc - abstract base class\n",
    "# Helper class that provides a standard way to create an ABC using inheritance.\n",
    "class TVremote(ABC): \n",
    "    def __init__(self,name):\n",
    "        self.name = name\n",
    "    \n",
    "    @abstractmethod\n",
    "    def on(self):\n",
    "        pass"
   ]
  },
  {
   "cell_type": "code",
   "execution_count": 15,
   "metadata": {},
   "outputs": [],
   "source": [
    "class physicalRemote(TVremote):\n",
    "    pass"
   ]
  },
  {
   "cell_type": "code",
   "execution_count": 16,
   "metadata": {},
   "outputs": [],
   "source": [
    "class miPhoneRemote(TVremote):\n",
    "    pass"
   ]
  },
  {
   "cell_type": "code",
   "execution_count": 17,
   "metadata": {},
   "outputs": [
    {
     "ename": "TypeError",
     "evalue": "Can't instantiate abstract class TVremote without an implementation for abstract method 'on'",
     "output_type": "error",
     "traceback": [
      "\u001b[1;31m---------------------------------------------------------------------------\u001b[0m",
      "\u001b[1;31mTypeError\u001b[0m                                 Traceback (most recent call last)",
      "Cell \u001b[1;32mIn[17], line 1\u001b[0m\n\u001b[1;32m----> 1\u001b[0m tv \u001b[38;5;241m=\u001b[39m \u001b[43mTVremote\u001b[49m\u001b[43m(\u001b[49m\u001b[43m)\u001b[49m\n",
      "\u001b[1;31mTypeError\u001b[0m: Can't instantiate abstract class TVremote without an implementation for abstract method 'on'"
     ]
    }
   ],
   "source": [
    "tv = TVremote()"
   ]
  },
  {
   "cell_type": "markdown",
   "metadata": {},
   "source": [
    "##### Animal example"
   ]
  },
  {
   "cell_type": "code",
   "execution_count": 18,
   "metadata": {},
   "outputs": [],
   "source": [
    "# abc - abstract base class\n",
    "# Helper class that provides a standard way to create an ABC using inheritance.\n",
    "\n",
    "from abc import ABC, abstractmethod\n",
    "\n",
    "class Polygon(ABC):\n",
    "\n",
    "    @abstractmethod\n",
    "    def noofsides(self):\n",
    "        pass\n",
    "\n",
    "class Triangle(Polygon):\n",
    "\n",
    "    # overriding abstract method\n",
    "    def noofsides(self):\n",
    "        print(\"I have 3 sides\")\n",
    "\n",
    "class Pentagon(Polygon):\n",
    "\n",
    "    # overriding abstract method\n",
    "    def noofsides(self):\n",
    "        print(\"I have 5 sides\")\n",
    "\n",
    "class Hexagon(Polygon):\n",
    "\n",
    "    # overriding abstract method\n",
    "    def noofsides(self):\n",
    "        print(\"I have 6 sides\")\n",
    "\n",
    "class Quadrilateral(Polygon):\n",
    "\n",
    "    # overriding abstract method\n",
    "    def noofsides(self):\n",
    "        print(\"I have 4 sides\")"
   ]
  },
  {
   "cell_type": "code",
   "execution_count": 19,
   "metadata": {},
   "outputs": [
    {
     "name": "stdout",
     "output_type": "stream",
     "text": [
      "I have 4 sides\n"
     ]
    }
   ],
   "source": [
    "p = Quadrilateral()\n",
    "p.noofsides()"
   ]
  },
  {
   "cell_type": "code",
   "execution_count": 20,
   "metadata": {},
   "outputs": [
    {
     "name": "stdout",
     "output_type": "stream",
     "text": [
      "I have 5 sides\n"
     ]
    }
   ],
   "source": [
    "p = Pentagon()\n",
    "p.noofsides()"
   ]
  },
  {
   "cell_type": "code",
   "execution_count": null,
   "metadata": {},
   "outputs": [],
   "source": []
  },
  {
   "cell_type": "code",
   "execution_count": null,
   "metadata": {},
   "outputs": [],
   "source": []
  },
  {
   "cell_type": "code",
   "execution_count": null,
   "metadata": {},
   "outputs": [],
   "source": []
  }
 ],
 "metadata": {
  "kernelspec": {
   "display_name": "Python 3 (ipykernel)",
   "language": "python",
   "name": "python3"
  },
  "language_info": {
   "codemirror_mode": {
    "name": "ipython",
    "version": 3
   },
   "file_extension": ".py",
   "mimetype": "text/x-python",
   "name": "python",
   "nbconvert_exporter": "python",
   "pygments_lexer": "ipython3",
   "version": "3.12.1"
  }
 },
 "nbformat": 4,
 "nbformat_minor": 4
}
