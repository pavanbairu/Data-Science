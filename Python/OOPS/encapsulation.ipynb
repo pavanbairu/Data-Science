{
 "cells": [
  {
   "cell_type": "markdown",
   "metadata": {},
   "source": [
    "#### Encapsulation\n",
    "Encapsulation is a fundamental concept in object-oriented programming (OOP) where the internal state of an object is hidden from the outside world, it is about bundling data and methods into a single unit and restricting direct access to the data from outside the unit."
   ]
  },
  {
   "cell_type": "code",
   "execution_count": 33,
   "metadata": {},
   "outputs": [],
   "source": [
    "# examples without encapsulation\n",
    "class aadhar:\n",
    "\n",
    "    def __init__(self, aadhar, name, mobile):\n",
    "\n",
    "        self.aadhar = aadhar\n",
    "        self.name = name\n",
    "        self.mobile = mobile\n",
    "\n",
    "    "
   ]
  },
  {
   "cell_type": "code",
   "execution_count": 34,
   "metadata": {},
   "outputs": [],
   "source": [
    "# created the aadhar obj for pavan\n",
    "pavan = aadhar(763638, \"pavan\", 927396283)"
   ]
  },
  {
   "cell_type": "code",
   "execution_count": 35,
   "metadata": {},
   "outputs": [
    {
     "data": {
      "text/plain": [
       "'pavan'"
      ]
     },
     "execution_count": 35,
     "metadata": {},
     "output_type": "execute_result"
    }
   ],
   "source": [
    "# able to access name\n",
    "pavan.name"
   ]
  },
  {
   "cell_type": "code",
   "execution_count": 36,
   "metadata": {},
   "outputs": [
    {
     "data": {
      "text/plain": [
       "763638"
      ]
     },
     "execution_count": 36,
     "metadata": {},
     "output_type": "execute_result"
    }
   ],
   "source": [
    "# able to access aadhar, which is personal data\n",
    "pavan.aadhar"
   ]
  },
  {
   "cell_type": "code",
   "execution_count": 37,
   "metadata": {},
   "outputs": [
    {
     "data": {
      "text/plain": [
       "927396283"
      ]
     },
     "execution_count": 37,
     "metadata": {},
     "output_type": "execute_result"
    }
   ],
   "source": [
    "# able to access aadhar, which is personal data\n",
    "pavan.mobile"
   ]
  },
  {
   "cell_type": "code",
   "execution_count": 38,
   "metadata": {},
   "outputs": [],
   "source": [
    "# able to modify the personal information. there is no security at all\n",
    "pavan.aadhar = 524728352"
   ]
  },
  {
   "cell_type": "code",
   "execution_count": 39,
   "metadata": {},
   "outputs": [
    {
     "data": {
      "text/plain": [
       "524728352"
      ]
     },
     "execution_count": 39,
     "metadata": {},
     "output_type": "execute_result"
    }
   ],
   "source": [
    "# modfied aadhar number\n",
    "pavan.aadhar"
   ]
  },
  {
   "cell_type": "code",
   "execution_count": 40,
   "metadata": {},
   "outputs": [],
   "source": [
    "# from the above, thers is no privacy or security to data\n",
    "# will try to add some security to it encapsulation\n",
    "\n",
    "class aadhar:\n",
    "\n",
    "    def __init__(self, aadhar, name, mobile):\n",
    "\n",
    "        self.__aadhar = aadhar   # ussing __aadhar. which restricts the data to access and modify the user dircetly\n",
    "        self.name = name\n",
    "        self.mobile = mobile"
   ]
  },
  {
   "cell_type": "code",
   "execution_count": 41,
   "metadata": {},
   "outputs": [],
   "source": [
    "# created the aadhar obj for pavan\n",
    "pavan = aadhar(763638, \"pavan\", 927396283)"
   ]
  },
  {
   "cell_type": "code",
   "execution_count": 42,
   "metadata": {},
   "outputs": [
    {
     "data": {
      "text/plain": [
       "'pavan'"
      ]
     },
     "execution_count": 42,
     "metadata": {},
     "output_type": "execute_result"
    }
   ],
   "source": [
    "pavan.name      # able to access name. coz not secured it"
   ]
  },
  {
   "cell_type": "code",
   "execution_count": 43,
   "metadata": {},
   "outputs": [
    {
     "ename": "AttributeError",
     "evalue": "'aadhar' object has no attribute '__aadhar'",
     "output_type": "error",
     "traceback": [
      "\u001b[1;31m---------------------------------------------------------------------------\u001b[0m",
      "\u001b[1;31mAttributeError\u001b[0m                            Traceback (most recent call last)",
      "Cell \u001b[1;32mIn[43], line 3\u001b[0m\n\u001b[0;32m      1\u001b[0m \u001b[38;5;66;03m# secured it by making it private. so user can't access it\u001b[39;00m\n\u001b[0;32m      2\u001b[0m \u001b[38;5;66;03m# By this way achieved the data hiding from the user\u001b[39;00m\n\u001b[1;32m----> 3\u001b[0m \u001b[43mpavan\u001b[49m\u001b[38;5;241;43m.\u001b[39;49m\u001b[43m__aadhar\u001b[49m  \n",
      "\u001b[1;31mAttributeError\u001b[0m: 'aadhar' object has no attribute '__aadhar'"
     ]
    }
   ],
   "source": [
    "# secured it by making it private. so user can't access it\n",
    "# By this way achieved the data hiding from the user\n",
    "pavan.__aadhar  "
   ]
  },
  {
   "cell_type": "code",
   "execution_count": 44,
   "metadata": {},
   "outputs": [
    {
     "ename": "AttributeError",
     "evalue": "'aadhar' object has no attribute 'aadhar'",
     "output_type": "error",
     "traceback": [
      "\u001b[1;31m---------------------------------------------------------------------------\u001b[0m",
      "\u001b[1;31mAttributeError\u001b[0m                            Traceback (most recent call last)",
      "Cell \u001b[1;32mIn[44], line 2\u001b[0m\n\u001b[0;32m      1\u001b[0m \u001b[38;5;66;03m# lets try with other\u001b[39;00m\n\u001b[1;32m----> 2\u001b[0m \u001b[43mpavan\u001b[49m\u001b[38;5;241;43m.\u001b[39;49m\u001b[43maadhar\u001b[49m            \u001b[38;5;66;03m# nothing is working\u001b[39;00m\n",
      "\u001b[1;31mAttributeError\u001b[0m: 'aadhar' object has no attribute 'aadhar'"
     ]
    }
   ],
   "source": [
    "# lets try with other\n",
    "pavan.aadhar            # nothing is working"
   ]
  },
  {
   "cell_type": "code",
   "execution_count": 45,
   "metadata": {},
   "outputs": [
    {
     "data": {
      "text/plain": [
       "927396283"
      ]
     },
     "execution_count": 45,
     "metadata": {},
     "output_type": "execute_result"
    }
   ],
   "source": [
    "pavan.mobile       # able to access, coz not secured it"
   ]
  },
  {
   "cell_type": "code",
   "execution_count": 48,
   "metadata": {},
   "outputs": [],
   "source": [
    "# lets make all private data variables\n",
    "class aadhar:\n",
    "\n",
    "    def __init__(self, aadhar, name, mobile):\n",
    "\n",
    "        # ussing __. which restricts the data to access and modify the user dircetly\n",
    "        self.__aadhar = aadhar   \n",
    "        self.__name = name\n",
    "        self.__mobile = mobile\n",
    "\n",
    "    def __str__(self):\n",
    "        print(\"name :\", self.__name)\n",
    "        print(\"aadhar :\", self.__aadhar)\n",
    "        print(\"mobile :\", self.__mobile)\n",
    "        return \"\""
   ]
  },
  {
   "cell_type": "code",
   "execution_count": 49,
   "metadata": {},
   "outputs": [],
   "source": [
    "# created the aadhar obj for prashanth\n",
    "prashanth = aadhar(1234, \"prashanth\", 7384628)"
   ]
  },
  {
   "cell_type": "code",
   "execution_count": 50,
   "metadata": {},
   "outputs": [
    {
     "name": "stdout",
     "output_type": "stream",
     "text": [
      "name : prashanth\n",
      "aadhar : 1234\n",
      "mobile : 7384628\n",
      "\n"
     ]
    }
   ],
   "source": [
    "# printing the object. so the personal information can be accessed within the class \n",
    "print(prashanth)"
   ]
  },
  {
   "cell_type": "code",
   "execution_count": 51,
   "metadata": {},
   "outputs": [
    {
     "ename": "AttributeError",
     "evalue": "'aadhar' object has no attribute '__name'",
     "output_type": "error",
     "traceback": [
      "\u001b[1;31m---------------------------------------------------------------------------\u001b[0m",
      "\u001b[1;31mAttributeError\u001b[0m                            Traceback (most recent call last)",
      "Cell \u001b[1;32mIn[51], line 3\u001b[0m\n\u001b[0;32m      1\u001b[0m \u001b[38;5;66;03m# the user is not able to access, coz its a private data\u001b[39;00m\n\u001b[0;32m      2\u001b[0m \u001b[38;5;66;03m# outside calss cannot be access\u001b[39;00m\n\u001b[1;32m----> 3\u001b[0m \u001b[43mprashanth\u001b[49m\u001b[38;5;241;43m.\u001b[39;49m\u001b[43m__name\u001b[49m\n",
      "\u001b[1;31mAttributeError\u001b[0m: 'aadhar' object has no attribute '__name'"
     ]
    }
   ],
   "source": [
    "# the user is not able to access, coz its a private data\n",
    "# outside calss cannot be access\n",
    "prashanth.__name"
   ]
  },
  {
   "cell_type": "code",
   "execution_count": 52,
   "metadata": {},
   "outputs": [
    {
     "ename": "AttributeError",
     "evalue": "'aadhar' object has no attribute '__aadhar'",
     "output_type": "error",
     "traceback": [
      "\u001b[1;31m---------------------------------------------------------------------------\u001b[0m",
      "\u001b[1;31mAttributeError\u001b[0m                            Traceback (most recent call last)",
      "Cell \u001b[1;32mIn[52], line 2\u001b[0m\n\u001b[0;32m      1\u001b[0m \u001b[38;5;66;03m# the user is not able to access, coz its a private data\u001b[39;00m\n\u001b[1;32m----> 2\u001b[0m \u001b[43mprashanth\u001b[49m\u001b[38;5;241;43m.\u001b[39;49m\u001b[43m__aadhar\u001b[49m\n",
      "\u001b[1;31mAttributeError\u001b[0m: 'aadhar' object has no attribute '__aadhar'"
     ]
    }
   ],
   "source": [
    "# the user is not able to access, coz its a private data\n",
    "prashanth.__aadhar"
   ]
  },
  {
   "cell_type": "code",
   "execution_count": 53,
   "metadata": {},
   "outputs": [
    {
     "ename": "AttributeError",
     "evalue": "'aadhar' object has no attribute '__mobile'",
     "output_type": "error",
     "traceback": [
      "\u001b[1;31m---------------------------------------------------------------------------\u001b[0m",
      "\u001b[1;31mAttributeError\u001b[0m                            Traceback (most recent call last)",
      "Cell \u001b[1;32mIn[53], line 2\u001b[0m\n\u001b[0;32m      1\u001b[0m \u001b[38;5;66;03m# the user is not able to access, coz its a private data\u001b[39;00m\n\u001b[1;32m----> 2\u001b[0m \u001b[43mprashanth\u001b[49m\u001b[38;5;241;43m.\u001b[39;49m\u001b[43m__mobile\u001b[49m\n",
      "\u001b[1;31mAttributeError\u001b[0m: 'aadhar' object has no attribute '__mobile'"
     ]
    }
   ],
   "source": [
    "# the user is not able to access, coz its a private data\n",
    "prashanth.__mobile"
   ]
  },
  {
   "cell_type": "code",
   "execution_count": 65,
   "metadata": {},
   "outputs": [],
   "source": [
    "# But we have provide the access to the authorized users to read and modify\n",
    "# first we validate the authorized users and then will give access \n",
    "# this can be achieved using getters and setters\n",
    "\n",
    "class aadhar:\n",
    "\n",
    "    def __init__(self, aadhar, name, mobile):\n",
    "\n",
    "        # ussing __. which restricts the data to access and modify the user dircetly\n",
    "        self.__aadhar = aadhar   \n",
    "        self.__name = name\n",
    "        self.__mobile = mobile\n",
    "\n",
    "    def get_aadhar(self, mobile):\n",
    "        # validating the mobile number to access the aadhar\n",
    "        if mobile == self.__mobile:     \n",
    "            return self.__aadhar\n",
    "        else:\n",
    "            return \"Please enter the valid mobile number\"\n",
    "        \n",
    "    def set_aadhar(self, mobile, new_aadhar):\n",
    "         # validating the mobile number to access the aadhar\n",
    "        if mobile == self.__mobile:   \n",
    "            self.__aadhar = new_aadhar  # if validation is access modifying the aadhar\n",
    "            return self.__aadhar\n",
    "        else:\n",
    "            return \"Please enter the valid mobile number\""
   ]
  },
  {
   "cell_type": "code",
   "execution_count": 66,
   "metadata": {},
   "outputs": [],
   "source": [
    "# created the aadhar obj for pavan\n",
    "pavan = aadhar(12345, \"pavan\", 72292728)"
   ]
  },
  {
   "cell_type": "code",
   "execution_count": 67,
   "metadata": {},
   "outputs": [
    {
     "data": {
      "text/plain": [
       "12345"
      ]
     },
     "execution_count": 67,
     "metadata": {},
     "output_type": "execute_result"
    }
   ],
   "source": [
    "# passing the same mobile which is used for created the aadhar\n",
    "# can access the aadhar\n",
    "pavan.get_aadhar(72292728)  "
   ]
  },
  {
   "cell_type": "code",
   "execution_count": 68,
   "metadata": {},
   "outputs": [
    {
     "data": {
      "text/plain": [
       "'Please enter the valid mobile number'"
      ]
     },
     "execution_count": 68,
     "metadata": {},
     "output_type": "execute_result"
    }
   ],
   "source": [
    "# trying to access by passing different number\n",
    "# validation is failed\n",
    "# only authorized users can be accessed data\n",
    "pavan.get_aadhar(987654)  "
   ]
  },
  {
   "cell_type": "code",
   "execution_count": 69,
   "metadata": {},
   "outputs": [],
   "source": [
    "# created the aadhar obj for orashanth\n",
    "prashanth = aadhar(54321, \"prashanth\", 987654)"
   ]
  },
  {
   "cell_type": "code",
   "execution_count": 70,
   "metadata": {},
   "outputs": [
    {
     "data": {
      "text/plain": [
       "'Please enter the valid mobile number'"
      ]
     },
     "execution_count": 70,
     "metadata": {},
     "output_type": "execute_result"
    }
   ],
   "source": [
    "# trying to pass the mobile number which is used in creation of pavan obj\n",
    "# prashanth cann't access pavans aadhar with his mobile \n",
    "# authorized users can only access\n",
    "prashanth.get_aadhar(72292728)"
   ]
  },
  {
   "cell_type": "code",
   "execution_count": 71,
   "metadata": {},
   "outputs": [
    {
     "data": {
      "text/plain": [
       "54321"
      ]
     },
     "execution_count": 71,
     "metadata": {},
     "output_type": "execute_result"
    }
   ],
   "source": [
    "# passing the same mobile which is used for creation of aadhar for prashanth\n",
    "# can access the aadhar\n",
    "prashanth.get_aadhar(987654)"
   ]
  },
  {
   "cell_type": "code",
   "execution_count": 72,
   "metadata": {},
   "outputs": [
    {
     "data": {
      "text/plain": [
       "'Please enter the valid mobile number'"
      ]
     },
     "execution_count": 72,
     "metadata": {},
     "output_type": "execute_result"
    }
   ],
   "source": [
    "# to modify the aadhar passing the mobile number and new_aadhar\n",
    "# wrong mobile number\n",
    "prashanth.set_aadhar(72292728, 897654)"
   ]
  },
  {
   "cell_type": "code",
   "execution_count": 74,
   "metadata": {},
   "outputs": [
    {
     "data": {
      "text/plain": [
       "897654"
      ]
     },
     "execution_count": 74,
     "metadata": {},
     "output_type": "execute_result"
    }
   ],
   "source": [
    "# to modify the aadhar passing the mobile number and new_aadhar\n",
    "# correct mobile number\n",
    "# aadhar no gets updated\n",
    "prashanth.set_aadhar(987654, 897654)"
   ]
  },
  {
   "cell_type": "code",
   "execution_count": 75,
   "metadata": {},
   "outputs": [
    {
     "data": {
      "text/plain": [
       "897654"
      ]
     },
     "execution_count": 75,
     "metadata": {},
     "output_type": "execute_result"
    }
   ],
   "source": [
    "# trying to access the aadhar no. with valid mobile number\n",
    "# gets the updated aadhar \n",
    "prashanth.get_aadhar(987654)"
   ]
  },
  {
   "cell_type": "code",
   "execution_count": 79,
   "metadata": {},
   "outputs": [
    {
     "ename": "AttributeError",
     "evalue": "'aadhar' object has no attribute 'address'",
     "output_type": "error",
     "traceback": [
      "\u001b[1;31m---------------------------------------------------------------------------\u001b[0m",
      "\u001b[1;31mAttributeError\u001b[0m                            Traceback (most recent call last)",
      "Cell \u001b[1;32mIn[79], line 2\u001b[0m\n\u001b[0;32m      1\u001b[0m \u001b[38;5;66;03m# lets try to access one variable which is not available\u001b[39;00m\n\u001b[1;32m----> 2\u001b[0m \u001b[43mprashanth\u001b[49m\u001b[38;5;241;43m.\u001b[39;49m\u001b[43maddress\u001b[49m\n",
      "\u001b[1;31mAttributeError\u001b[0m: 'aadhar' object has no attribute 'address'"
     ]
    }
   ],
   "source": [
    "# lets try to access one variable which is not available\n",
    "prashanth.address"
   ]
  },
  {
   "cell_type": "code",
   "execution_count": 80,
   "metadata": {},
   "outputs": [],
   "source": [
    "# lets try to add one variable\n",
    "prashanth.address = \"warangal\""
   ]
  },
  {
   "cell_type": "code",
   "execution_count": 81,
   "metadata": {},
   "outputs": [
    {
     "data": {
      "text/plain": [
       "'warangal'"
      ]
     },
     "execution_count": 81,
     "metadata": {},
     "output_type": "execute_result"
    }
   ],
   "source": [
    "# lets try to access address variable\n",
    "prashanth.address"
   ]
  },
  {
   "cell_type": "code",
   "execution_count": 77,
   "metadata": {},
   "outputs": [
    {
     "ename": "AttributeError",
     "evalue": "'aadhar' object has no attribute '__aadhar'",
     "output_type": "error",
     "traceback": [
      "\u001b[1;31m---------------------------------------------------------------------------\u001b[0m",
      "\u001b[1;31mAttributeError\u001b[0m                            Traceback (most recent call last)",
      "Cell \u001b[1;32mIn[77], line 2\u001b[0m\n\u001b[0;32m      1\u001b[0m \u001b[38;5;66;03m# lets try to access the aadhar by dircetly\u001b[39;00m\n\u001b[1;32m----> 2\u001b[0m \u001b[43mpavan\u001b[49m\u001b[38;5;241;43m.\u001b[39;49m\u001b[43m__aadhar\u001b[49m\n",
      "\u001b[1;31mAttributeError\u001b[0m: 'aadhar' object has no attribute '__aadhar'"
     ]
    }
   ],
   "source": [
    "# lets try to access the aadhar by dircetly\n",
    "prashanth.__aadhar"
   ]
  },
  {
   "cell_type": "code",
   "execution_count": 78,
   "metadata": {},
   "outputs": [],
   "source": [
    "# lets try to modify the aadhar by dircetly\n",
    "# it doen't throughs an error\n",
    "# it stores prashanth.__aadhar is some name and stores value\n",
    "prashanth.__aadhar = 12345"
   ]
  },
  {
   "cell_type": "code",
   "execution_count": 82,
   "metadata": {},
   "outputs": [
    {
     "data": {
      "text/plain": [
       "12345"
      ]
     },
     "execution_count": 82,
     "metadata": {},
     "output_type": "execute_result"
    }
   ],
   "source": [
    "# lets try to access the aadhar by dircetly\n",
    "prashanth.__aadhar"
   ]
  },
  {
   "cell_type": "markdown",
   "metadata": {},
   "source": [
    "##### Note: prashanth.__aadhar != self__aadhar"
   ]
  },
  {
   "cell_type": "code",
   "execution_count": 83,
   "metadata": {},
   "outputs": [
    {
     "data": {
      "text/plain": [
       "897654"
      ]
     },
     "execution_count": 83,
     "metadata": {},
     "output_type": "execute_result"
    }
   ],
   "source": [
    "prashanth.get_aadhar(987654)"
   ]
  },
  {
   "cell_type": "code",
   "execution_count": 155,
   "metadata": {},
   "outputs": [],
   "source": [
    "# lets add setters ands getters for all the data\n",
    "\n",
    "class aadhar:\n",
    "\n",
    "    def __init__(self, aadhar, name, mobile):\n",
    "\n",
    "        # ussing __. which restricts the data to access and modify the user dircetly\n",
    "        self.__aadhar = aadhar   \n",
    "        self.__name = name\n",
    "        self.__mobile = mobile\n",
    "\n",
    "    def get_aadhar(self, mobile):\n",
    "        # validating the mobile number to access the aadhar\n",
    "        if mobile == self.__mobile:     \n",
    "            return \"XXXXXXXX\" + str(self.__aadhar)[len(str(self.__aadhar))-4:len(str(self.__aadhar))] # returns the masked aadhar number\n",
    "        else:\n",
    "            return \"Please enter the valid mobile number\"\n",
    "        \n",
    "    def set_aadhar(self, mobile, new_aadhar):\n",
    "         # validating the mobile number to access the aadhar\n",
    "        if mobile == self.__mobile:   \n",
    "            self.__aadhar = new_aadhar  # if validation is access modifying the aadhar\n",
    "            return self.__aadhar\n",
    "        else:\n",
    "            return \"Please enter the valid mobile number\" \n",
    "\n",
    "    def get_mobile(self):\n",
    "            return self.__mobile\n",
    "\n",
    "    def set_mobile(self, old_mobile, new_mobile):\n",
    "        if old_mobile == self.__mobile:\n",
    "            self.__mobile = new_mobile   # if validation is access modifying the mobile\n",
    "            return self.__mobile\n",
    "        else:\n",
    "            return \"Please enter the valid mobile number\""
   ]
  },
  {
   "cell_type": "code",
   "execution_count": 156,
   "metadata": {},
   "outputs": [],
   "source": [
    "# created the aadhar obj for pavan\n",
    "pavan = aadhar(89765454, \"pavan\", 123456789)"
   ]
  },
  {
   "cell_type": "code",
   "execution_count": 157,
   "metadata": {},
   "outputs": [
    {
     "data": {
      "text/plain": [
       "'Please enter the valid mobile number'"
      ]
     },
     "execution_count": 157,
     "metadata": {},
     "output_type": "execute_result"
    }
   ],
   "source": [
    "pavan.get_aadhar(12345689)  # accessing aadhar with invalid mobile"
   ]
  },
  {
   "cell_type": "code",
   "execution_count": 158,
   "metadata": {},
   "outputs": [
    {
     "data": {
      "text/plain": [
       "'XXXXXXXX5454'"
      ]
     },
     "execution_count": 158,
     "metadata": {},
     "output_type": "execute_result"
    }
   ],
   "source": [
    "pavan.get_aadhar(123456789) # accessing aadhar with valid mobile"
   ]
  },
  {
   "cell_type": "code",
   "execution_count": 159,
   "metadata": {},
   "outputs": [
    {
     "data": {
      "text/plain": [
       "'Please enter the valid mobile number'"
      ]
     },
     "execution_count": 159,
     "metadata": {},
     "output_type": "execute_result"
    }
   ],
   "source": [
    "pavan.set_aadhar(12345679, 987654321)   # updating aadhar with invalid mobile"
   ]
  },
  {
   "cell_type": "code",
   "execution_count": 160,
   "metadata": {},
   "outputs": [
    {
     "data": {
      "text/plain": [
       "987654321"
      ]
     },
     "execution_count": 160,
     "metadata": {},
     "output_type": "execute_result"
    }
   ],
   "source": [
    "pavan.set_aadhar(123456789, 987654321)  # updating aadhar with valid mobile"
   ]
  },
  {
   "cell_type": "code",
   "execution_count": 161,
   "metadata": {},
   "outputs": [
    {
     "data": {
      "text/plain": [
       "'XXXXXXXX4321'"
      ]
     },
     "execution_count": 161,
     "metadata": {},
     "output_type": "execute_result"
    }
   ],
   "source": [
    "pavan.get_aadhar(123456789) # gets the updated aadhar"
   ]
  },
  {
   "cell_type": "code",
   "execution_count": 162,
   "metadata": {},
   "outputs": [
    {
     "data": {
      "text/plain": [
       "123456789"
      ]
     },
     "execution_count": 162,
     "metadata": {},
     "output_type": "execute_result"
    }
   ],
   "source": [
    "pavan.get_mobile()  # accessing mobile"
   ]
  },
  {
   "cell_type": "code",
   "execution_count": 163,
   "metadata": {},
   "outputs": [
    {
     "data": {
      "text/plain": [
       "'Please enter the valid mobile number'"
      ]
     },
     "execution_count": 163,
     "metadata": {},
     "output_type": "execute_result"
    }
   ],
   "source": [
    "pavan.set_mobile(57576764, 6754328)  # updating new mobile with providing wrong previous number"
   ]
  },
  {
   "cell_type": "code",
   "execution_count": 164,
   "metadata": {},
   "outputs": [
    {
     "data": {
      "text/plain": [
       "6754328"
      ]
     },
     "execution_count": 164,
     "metadata": {},
     "output_type": "execute_result"
    }
   ],
   "source": [
    "pavan.set_mobile(123456789, 6754328) # updating new mobile with providing valid previous number"
   ]
  },
  {
   "cell_type": "code",
   "execution_count": 165,
   "metadata": {},
   "outputs": [
    {
     "data": {
      "text/plain": [
       "6754328"
      ]
     },
     "execution_count": 165,
     "metadata": {},
     "output_type": "execute_result"
    }
   ],
   "source": [
    "pavan.get_mobile()  # accessing mobile"
   ]
  },
  {
   "cell_type": "code",
   "execution_count": 166,
   "metadata": {},
   "outputs": [],
   "source": [
    "# lets create some new class\n",
    "\n",
    "class Mentor:\n",
    "    \n",
    "    def __init__(self,name,number,adhar):\n",
    "        self.name= name\n",
    "        # self.number = number\n",
    "        self.__number = number # this make it private \n",
    "        self.__adhar = adhar\n",
    "         \n",
    "    def __str__(self):\n",
    "        print(self.name)\n",
    "        print(self.__number)\n",
    "        return \"\"\n",
    "    \n",
    "    def get_mobile(self):   #getter\n",
    "        return self.__number\n",
    "\n",
    "    def get_adhar(self):   #getter\n",
    "        print(\"**********\" + self.__adhar[-1])\n",
    "    \n",
    "    def set_mobile(self,newNumber,password):   #setter\n",
    "        if(password == \"0123\"):\n",
    "            self.__number = newNumber  \n",
    "    \n",
    "    def set_adhar(self,newAdhar):   #setter\n",
    "        if(type(newAdhar) == str):\n",
    "            self.__adhar = newAdhar  \n",
    "        else:\n",
    "            print (\"please provide a string adhar\")\n",
    "            \n",
    "            \n",
    "    def __getAadharforUN(self):\n",
    "        return \"IND\" + self.__adhar\n",
    "\n",
    "    def __processSalary(self):\n",
    "        self.__processSalaryToAccount\n",
    "        "
   ]
  },
  {
   "cell_type": "code",
   "execution_count": 170,
   "metadata": {},
   "outputs": [],
   "source": [
    "mayank = Mentor(\"mayank\",1234567, \"987654321\")"
   ]
  },
  {
   "cell_type": "code",
   "execution_count": 171,
   "metadata": {},
   "outputs": [
    {
     "name": "stdout",
     "output_type": "stream",
     "text": [
      "mayank\n",
      "1234567\n",
      "\n"
     ]
    }
   ],
   "source": [
    "print(mayank)"
   ]
  },
  {
   "cell_type": "code",
   "execution_count": 176,
   "metadata": {},
   "outputs": [
    {
     "name": "stdout",
     "output_type": "stream",
     "text": [
      "**********1\n"
     ]
    }
   ],
   "source": [
    "mayank.get_adhar()"
   ]
  },
  {
   "cell_type": "code",
   "execution_count": 174,
   "metadata": {},
   "outputs": [],
   "source": [
    "sunny = Mentor(\"sunny\",78654, \"686346899\")"
   ]
  },
  {
   "cell_type": "code",
   "execution_count": 175,
   "metadata": {},
   "outputs": [
    {
     "name": "stdout",
     "output_type": "stream",
     "text": [
      "sunny\n",
      "78654\n",
      "\n"
     ]
    }
   ],
   "source": [
    "print(sunny)"
   ]
  },
  {
   "cell_type": "code",
   "execution_count": 240,
   "metadata": {},
   "outputs": [],
   "source": [
    "class Mentor_New:\n",
    "    \n",
    "    # Static / Class Properties\n",
    "    number_of_mentor = 0\n",
    "    company = \"INEURON\"\n",
    "    ss = \"I am a static property\"\n",
    "    \n",
    "    def __init__(self,name,number,adhar):\n",
    "        self.name= name\n",
    "        self.__number = number # this make it private \n",
    "        self.__adhar = adhar  \n",
    "        # this will get incremented\n",
    "        Mentor_New.number_of_mentor = Mentor_New.number_of_mentor + 1\n",
    "         \n",
    "    def __str__(self):\n",
    "        print(self.name)\n",
    "        print(self.__number)\n",
    "        return \"\"\n",
    "    \n",
    "    def get_mobile(self):   #getter\n",
    "        return self.__number\n",
    "\n",
    "    def get_adhar(self):   #getter\n",
    "        print(\"**********\" + self.__adhar[-1])\n",
    "\n",
    "    def get_Number_of_Mentor():\n",
    "        return Mentor_New.number_of_mentor\n",
    "    \n",
    "    def get_company_name():\n",
    "        return Mentor_New.company"
   ]
  },
  {
   "cell_type": "code",
   "execution_count": 241,
   "metadata": {},
   "outputs": [],
   "source": [
    "mayank = Mentor_New(\"mayank\", 7465327, \"926475839\")"
   ]
  },
  {
   "cell_type": "code",
   "execution_count": 242,
   "metadata": {},
   "outputs": [
    {
     "name": "stdout",
     "output_type": "stream",
     "text": [
      "**********9\n"
     ]
    }
   ],
   "source": [
    "mayank.get_adhar()"
   ]
  },
  {
   "cell_type": "code",
   "execution_count": 243,
   "metadata": {},
   "outputs": [
    {
     "data": {
      "text/plain": [
       "'mayank'"
      ]
     },
     "execution_count": 243,
     "metadata": {},
     "output_type": "execute_result"
    }
   ],
   "source": [
    "mayank.name"
   ]
  },
  {
   "cell_type": "code",
   "execution_count": 244,
   "metadata": {},
   "outputs": [
    {
     "data": {
      "text/plain": [
       "7465327"
      ]
     },
     "execution_count": 244,
     "metadata": {},
     "output_type": "execute_result"
    }
   ],
   "source": [
    "mayank.get_mobile()"
   ]
  },
  {
   "cell_type": "code",
   "execution_count": 245,
   "metadata": {},
   "outputs": [
    {
     "data": {
      "text/plain": [
       "'INEURON'"
      ]
     },
     "execution_count": 245,
     "metadata": {},
     "output_type": "execute_result"
    }
   ],
   "source": [
    "mayank.company   #  able to access through the obj reference"
   ]
  },
  {
   "cell_type": "code",
   "execution_count": 246,
   "metadata": {},
   "outputs": [
    {
     "ename": "TypeError",
     "evalue": "Mentor_New.get_company_name() takes 0 positional arguments but 1 was given",
     "output_type": "error",
     "traceback": [
      "\u001b[1;31m---------------------------------------------------------------------------\u001b[0m",
      "\u001b[1;31mTypeError\u001b[0m                                 Traceback (most recent call last)",
      "Cell \u001b[1;32mIn[246], line 1\u001b[0m\n\u001b[1;32m----> 1\u001b[0m \u001b[43mmayank\u001b[49m\u001b[38;5;241;43m.\u001b[39;49m\u001b[43mget_company_name\u001b[49m\u001b[43m(\u001b[49m\u001b[43m)\u001b[49m     \u001b[38;5;66;03m#  able to access through the obj reference\u001b[39;00m\n",
      "\u001b[1;31mTypeError\u001b[0m: Mentor_New.get_company_name() takes 0 positional arguments but 1 was given"
     ]
    }
   ],
   "source": [
    "# static method cann't be accessed with obj ref\n",
    "mayank.get_company_name()     "
   ]
  },
  {
   "cell_type": "code",
   "execution_count": 230,
   "metadata": {},
   "outputs": [
    {
     "data": {
      "text/plain": [
       "1"
      ]
     },
     "execution_count": 230,
     "metadata": {},
     "output_type": "execute_result"
    }
   ],
   "source": [
    "mayank.number_of_mentor"
   ]
  },
  {
   "cell_type": "code",
   "execution_count": 247,
   "metadata": {},
   "outputs": [
    {
     "ename": "TypeError",
     "evalue": "Mentor_New.get_Number_of_Mentor() takes 0 positional arguments but 1 was given",
     "output_type": "error",
     "traceback": [
      "\u001b[1;31m---------------------------------------------------------------------------\u001b[0m",
      "\u001b[1;31mTypeError\u001b[0m                                 Traceback (most recent call last)",
      "Cell \u001b[1;32mIn[247], line 1\u001b[0m\n\u001b[1;32m----> 1\u001b[0m \u001b[43mmayank\u001b[49m\u001b[38;5;241;43m.\u001b[39;49m\u001b[43mget_Number_of_Mentor\u001b[49m\u001b[43m(\u001b[49m\u001b[43m)\u001b[49m   \u001b[38;5;66;03m#  able to access through the obj reference\u001b[39;00m\n",
      "\u001b[1;31mTypeError\u001b[0m: Mentor_New.get_Number_of_Mentor() takes 0 positional arguments but 1 was given"
     ]
    }
   ],
   "source": [
    "# static method cann't be accessed with obj ref\n",
    "mayank.get_Number_of_Mentor() "
   ]
  },
  {
   "cell_type": "code",
   "execution_count": 248,
   "metadata": {},
   "outputs": [
    {
     "data": {
      "text/plain": [
       "'INEURON'"
      ]
     },
     "execution_count": 248,
     "metadata": {},
     "output_type": "execute_result"
    }
   ],
   "source": [
    "Mentor_New.company      #  able to accesss the static variable directly through class"
   ]
  },
  {
   "cell_type": "code",
   "execution_count": 249,
   "metadata": {},
   "outputs": [
    {
     "data": {
      "text/plain": [
       "'INEURON'"
      ]
     },
     "execution_count": 249,
     "metadata": {},
     "output_type": "execute_result"
    }
   ],
   "source": [
    "Mentor_New.get_company_name()       # access using the class name"
   ]
  },
  {
   "cell_type": "code",
   "execution_count": 250,
   "metadata": {},
   "outputs": [
    {
     "data": {
      "text/plain": [
       "1"
      ]
     },
     "execution_count": 250,
     "metadata": {},
     "output_type": "execute_result"
    }
   ],
   "source": [
    "Mentor_New.number_of_mentor   #  able to accesss the static variable directly through class"
   ]
  },
  {
   "cell_type": "code",
   "execution_count": 251,
   "metadata": {},
   "outputs": [
    {
     "data": {
      "text/plain": [
       "1"
      ]
     },
     "execution_count": 251,
     "metadata": {},
     "output_type": "execute_result"
    }
   ],
   "source": [
    "Mentor_New.get_Number_of_Mentor()       # access using the class name"
   ]
  },
  {
   "cell_type": "markdown",
   "metadata": {},
   "source": [
    "##### Static Method\n",
    "\n",
    "A static method in Python is a method defined within a class that doesn't have access to instance variables. It's denoted with the @staticmethod decorator and doesn't require an instance of the class to be called. Static methods are typically used for utility functions that don't depend on instance-specific data and can be accessed directly from the class itself.\n",
    "\n",
    "##### Decorators\n",
    "\n",
    "Decorators in Python modify the behavior of functions or methods by wrapping them with additional functionality. They are denoted by the @ symbol and placed above the function definition."
   ]
  },
  {
   "cell_type": "code",
   "execution_count": 198,
   "metadata": {},
   "outputs": [],
   "source": [
    "# inorder to access using the object reference we use static methods for static properties\n",
    "class Mentor_New:\n",
    "    \n",
    "    # Static / Class Properties\n",
    "    __number_of_mentor = 0\n",
    "    __company = \"INEURON\"\n",
    "    ss = \"I am a static property\"\n",
    "    \n",
    "    def __init__(self,name,number,adhar):\n",
    "        self.name= name\n",
    "        self.__number = number # this make it private \n",
    "        self.__adhar = adhar  \n",
    "        # this will get incremented\n",
    "        Mentor_New.__number_of_mentor = Mentor_New.__number_of_mentor + 1\n",
    "         \n",
    "    def __str__(self):\n",
    "        print(\"name: \", self.name)\n",
    "        print(\"number: \" ,self.__number)\n",
    "        print(\"aadhar: \", self.__adhar)\n",
    "        return \"\"\n",
    "    \n",
    "    def get_mobile(self):   #getter\n",
    "        return self.__number\n",
    "\n",
    "    def get_adhar(self):   #getter\n",
    "        print(\"**********\" + self.__adhar[-1])\n",
    "\n",
    "    # making it as static method which can be accessed with obj refernece\n",
    "    # decorated with @staticmethod\n",
    "    @staticmethod     \n",
    "    def get_Number_of_Mentor():\n",
    "        return Mentor_New.__number_of_mentor\n",
    "    \n",
    "    # making it as static method which can be accessed with obj refernece\n",
    "    # decorated with @staticmethod\n",
    "    @staticmethod     \n",
    "    def get_company_name():\n",
    "        return Mentor_New.__company"
   ]
  },
  {
   "cell_type": "code",
   "execution_count": 199,
   "metadata": {},
   "outputs": [],
   "source": [
    "mayank = Mentor_New(\"mayank\", 7465327, \"926475839\")"
   ]
  },
  {
   "cell_type": "code",
   "execution_count": 200,
   "metadata": {},
   "outputs": [
    {
     "name": "stdout",
     "output_type": "stream",
     "text": [
      "name:  mayank\n",
      "number:  7465327\n",
      "aadhar:  926475839\n",
      "\n"
     ]
    }
   ],
   "source": [
    "print(mayank)   # mentor details"
   ]
  },
  {
   "cell_type": "code",
   "execution_count": 210,
   "metadata": {},
   "outputs": [
    {
     "ename": "AttributeError",
     "evalue": "'Mentor_New' object has no attribute '__number_of_mentor'",
     "output_type": "error",
     "traceback": [
      "\u001b[1;31m---------------------------------------------------------------------------\u001b[0m",
      "\u001b[1;31mAttributeError\u001b[0m                            Traceback (most recent call last)",
      "Cell \u001b[1;32mIn[210], line 1\u001b[0m\n\u001b[1;32m----> 1\u001b[0m \u001b[43mmayank\u001b[49m\u001b[38;5;241;43m.\u001b[39;49m\u001b[43m__number_of_mentor\u001b[49m\n",
      "\u001b[1;31mAttributeError\u001b[0m: 'Mentor_New' object has no attribute '__number_of_mentor'"
     ]
    }
   ],
   "source": [
    "mayank.__number_of_mentor  #  not able to access through the obj reference, coz private"
   ]
  },
  {
   "cell_type": "code",
   "execution_count": 237,
   "metadata": {},
   "outputs": [
    {
     "ename": "AttributeError",
     "evalue": "'Mentor_New' object has no attribute '__company'",
     "output_type": "error",
     "traceback": [
      "\u001b[1;31m---------------------------------------------------------------------------\u001b[0m",
      "\u001b[1;31mAttributeError\u001b[0m                            Traceback (most recent call last)",
      "Cell \u001b[1;32mIn[237], line 1\u001b[0m\n\u001b[1;32m----> 1\u001b[0m \u001b[43mmayank\u001b[49m\u001b[38;5;241;43m.\u001b[39;49m\u001b[43m__company\u001b[49m\n",
      "\u001b[1;31mAttributeError\u001b[0m: 'Mentor_New' object has no attribute '__company'"
     ]
    }
   ],
   "source": [
    "mayank.__company #  not able to access through the obj reference, coz private"
   ]
  },
  {
   "cell_type": "code",
   "execution_count": 235,
   "metadata": {},
   "outputs": [
    {
     "data": {
      "text/plain": [
       "'INEURON'"
      ]
     },
     "execution_count": 235,
     "metadata": {},
     "output_type": "execute_result"
    }
   ],
   "source": [
    "# static method can be accessed with obj ref\n",
    "mayank.get_company_name()  # company always same "
   ]
  },
  {
   "cell_type": "code",
   "execution_count": 236,
   "metadata": {},
   "outputs": [
    {
     "data": {
      "text/plain": [
       "1"
      ]
     },
     "execution_count": 236,
     "metadata": {},
     "output_type": "execute_result"
    }
   ],
   "source": [
    "# static method can be accessed with obj ref\n",
    "mayank.get_Number_of_Mentor()  # 1st mentor"
   ]
  },
  {
   "cell_type": "code",
   "execution_count": 238,
   "metadata": {},
   "outputs": [
    {
     "ename": "AttributeError",
     "evalue": "type object 'Mentor_New' has no attribute '__company'",
     "output_type": "error",
     "traceback": [
      "\u001b[1;31m---------------------------------------------------------------------------\u001b[0m",
      "\u001b[1;31mAttributeError\u001b[0m                            Traceback (most recent call last)",
      "Cell \u001b[1;32mIn[238], line 1\u001b[0m\n\u001b[1;32m----> 1\u001b[0m \u001b[43mMentor_New\u001b[49m\u001b[38;5;241;43m.\u001b[39;49m\u001b[43m__company\u001b[49m\n",
      "\u001b[1;31mAttributeError\u001b[0m: type object 'Mentor_New' has no attribute '__company'"
     ]
    }
   ],
   "source": [
    "Mentor_New.__company"
   ]
  },
  {
   "cell_type": "code",
   "execution_count": 239,
   "metadata": {},
   "outputs": [
    {
     "ename": "AttributeError",
     "evalue": "type object 'Mentor_New' has no attribute '__number_of_mentor'",
     "output_type": "error",
     "traceback": [
      "\u001b[1;31m---------------------------------------------------------------------------\u001b[0m",
      "\u001b[1;31mAttributeError\u001b[0m                            Traceback (most recent call last)",
      "Cell \u001b[1;32mIn[239], line 1\u001b[0m\n\u001b[1;32m----> 1\u001b[0m \u001b[43mMentor_New\u001b[49m\u001b[38;5;241;43m.\u001b[39;49m\u001b[43m__number_of_mentor\u001b[49m\n",
      "\u001b[1;31mAttributeError\u001b[0m: type object 'Mentor_New' has no attribute '__number_of_mentor'"
     ]
    }
   ],
   "source": [
    "Mentor_New.__number_of_mentor"
   ]
  },
  {
   "cell_type": "code",
   "execution_count": 201,
   "metadata": {},
   "outputs": [],
   "source": [
    "sunny = Mentor_New(\"sunny\", 12345, \"987654\")"
   ]
  },
  {
   "cell_type": "code",
   "execution_count": 202,
   "metadata": {},
   "outputs": [
    {
     "name": "stdout",
     "output_type": "stream",
     "text": [
      "name:  sunny\n",
      "number:  12345\n",
      "aadhar:  987654\n",
      "\n"
     ]
    }
   ],
   "source": [
    "print(sunny)    # mentor details"
   ]
  },
  {
   "cell_type": "code",
   "execution_count": 203,
   "metadata": {},
   "outputs": [
    {
     "data": {
      "text/plain": [
       "'INEURON'"
      ]
     },
     "execution_count": 203,
     "metadata": {},
     "output_type": "execute_result"
    }
   ],
   "source": [
    "sunny.get_company_name()    # company always same"
   ]
  },
  {
   "cell_type": "code",
   "execution_count": 204,
   "metadata": {},
   "outputs": [
    {
     "data": {
      "text/plain": [
       "2"
      ]
     },
     "execution_count": 204,
     "metadata": {},
     "output_type": "execute_result"
    }
   ],
   "source": [
    "sunny.get_Number_of_Mentor()    # 2nd mentor"
   ]
  },
  {
   "cell_type": "code",
   "execution_count": null,
   "metadata": {},
   "outputs": [],
   "source": []
  }
 ],
 "metadata": {
  "kernelspec": {
   "display_name": "Python 3",
   "language": "python",
   "name": "python3"
  },
  "language_info": {
   "codemirror_mode": {
    "name": "ipython",
    "version": 3
   },
   "file_extension": ".py",
   "mimetype": "text/x-python",
   "name": "python",
   "nbconvert_exporter": "python",
   "pygments_lexer": "ipython3",
   "version": "3.12.1"
  }
 },
 "nbformat": 4,
 "nbformat_minor": 2
}
