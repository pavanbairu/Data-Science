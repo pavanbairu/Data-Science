{
 "cells": [
  {
   "cell_type": "markdown",
   "metadata": {},
   "source": [
    "## Pavan Bairu \n",
    "## Assignment on OOPS set-1"
   ]
  },
  {
   "cell_type": "markdown",
   "metadata": {},
   "source": [
    "# Question 1: Implementing a Stack\n",
    "\n",
    "class Stack:\n",
    "    \"\"\"\n",
    "    Design a Python class named `Stack` to represent a stack data structure.\n",
    "\n",
    "    Theory:\n",
    "    A stack is a linear data structure that follows the Last In, First Out (LIFO) principle. \n",
    "    It has two main operations: push and pop.\n",
    "    - Push: Adds an element to the top of the stack.\n",
    "    - Pop: Removes and returns the top element from the stack.\n",
    "\n",
    "    Operations:\n",
    "    1. Push: Add an element to the top of the stack.\n",
    "    2. Pop: Remove and return the top element from the stack.\n",
    "    3. Peek: Return the top element of the stack without removing it.\n",
    "    4. Is Empty: Check if the stack is empty.\n",
    "    5. Size: Return the number of elements in the stack.\n",
    "\n",
    "    Test Cases:\n",
    "    Test Case 1:\n",
    "    stack = Stack()\n",
    "    stack.push(1)\n",
    "    stack.push(2)\n",
    "    stack.push(3)\n",
    "    assert stack.peek() == 3\n",
    "    assert stack.pop() == 3\n",
    "    assert stack.size() == 2\n",
    "    assert stack.is_empty() is False\n",
    "\n",
    "    Test Case 2:\n",
    "    stack = Stack()\n",
    "    assert stack.is_empty() is True\n",
    "    stack.push(\"A\")\n",
    "    stack.push(\"B\")\n",
    "    stack.push(\"C\")\n",
    "    assert stack.pop() == \"C\"\n",
    "    assert stack.peek() == \"B\"\n",
    "    assert stack.size() == 2\n",
    "    assert stack.is_empty() is False\n",
    "    \"\"\""
   ]
  },
  {
   "cell_type": "code",
   "execution_count": 1,
   "metadata": {},
   "outputs": [],
   "source": [
    "class Stack:\n",
    "\n",
    "    def __init__(self):\n",
    "        self.stack = []\n",
    "\n",
    "    def push(self, value):\n",
    "        # Add an element to the top of the stack.\n",
    "        return self.stack.append(value)\n",
    "    \n",
    "    def pop(self):\n",
    "        # Remove and return the top element from the stack.\n",
    "        return self.stack.pop()\n",
    "    \n",
    "    def peek(self):\n",
    "        # Return the top element of the stack without removing it.\n",
    "        return self.stack[len(self.stack)-1]\n",
    "    \n",
    "    def is_empty(self):\n",
    "        # Check if the stack is empty.\n",
    "        return True if not self.stack else False\n",
    "    \n",
    "    def size(self):\n",
    "        # Return the number of elements in the stack.\n",
    "        return len(self.stack)\n",
    "    \n"
   ]
  },
  {
   "cell_type": "markdown",
   "metadata": {},
   "source": [
    "#### test case 1"
   ]
  },
  {
   "cell_type": "code",
   "execution_count": 2,
   "metadata": {},
   "outputs": [],
   "source": [
    "stack = Stack()"
   ]
  },
  {
   "cell_type": "code",
   "execution_count": 3,
   "metadata": {},
   "outputs": [],
   "source": [
    "stack.push(1)\n",
    "stack.push(2)\n",
    "stack.push(3)"
   ]
  },
  {
   "cell_type": "code",
   "execution_count": 4,
   "metadata": {},
   "outputs": [
    {
     "data": {
      "text/plain": [
       "[1, 2, 3]"
      ]
     },
     "execution_count": 4,
     "metadata": {},
     "output_type": "execute_result"
    }
   ],
   "source": [
    "stack.stack"
   ]
  },
  {
   "cell_type": "code",
   "execution_count": 5,
   "metadata": {},
   "outputs": [],
   "source": [
    "assert stack.peek() == 3"
   ]
  },
  {
   "cell_type": "code",
   "execution_count": 6,
   "metadata": {},
   "outputs": [],
   "source": [
    "assert stack.pop() == 3"
   ]
  },
  {
   "cell_type": "code",
   "execution_count": 7,
   "metadata": {},
   "outputs": [],
   "source": [
    "assert stack.size() == 2"
   ]
  },
  {
   "cell_type": "code",
   "execution_count": 8,
   "metadata": {},
   "outputs": [],
   "source": [
    "assert stack.is_empty() is False"
   ]
  },
  {
   "cell_type": "markdown",
   "metadata": {},
   "source": [
    "#### test case 2"
   ]
  },
  {
   "cell_type": "code",
   "execution_count": 9,
   "metadata": {},
   "outputs": [],
   "source": [
    "stack = Stack()"
   ]
  },
  {
   "cell_type": "code",
   "execution_count": 10,
   "metadata": {},
   "outputs": [],
   "source": [
    "assert stack.is_empty() is True"
   ]
  },
  {
   "cell_type": "code",
   "execution_count": 11,
   "metadata": {},
   "outputs": [],
   "source": [
    "stack.push(\"A\")\n",
    "stack.push(\"B\")\n",
    "stack.push(\"C\")"
   ]
  },
  {
   "cell_type": "code",
   "execution_count": 12,
   "metadata": {},
   "outputs": [
    {
     "data": {
      "text/plain": [
       "['A', 'B', 'C']"
      ]
     },
     "execution_count": 12,
     "metadata": {},
     "output_type": "execute_result"
    }
   ],
   "source": [
    "stack.stack"
   ]
  },
  {
   "cell_type": "code",
   "execution_count": 13,
   "metadata": {},
   "outputs": [],
   "source": [
    "assert stack.pop() == \"C\""
   ]
  },
  {
   "cell_type": "code",
   "execution_count": 14,
   "metadata": {},
   "outputs": [],
   "source": [
    "assert stack.peek() == \"B\""
   ]
  },
  {
   "cell_type": "code",
   "execution_count": 15,
   "metadata": {},
   "outputs": [],
   "source": [
    "assert stack.size() == 2"
   ]
  },
  {
   "cell_type": "code",
   "execution_count": 16,
   "metadata": {},
   "outputs": [],
   "source": [
    "assert stack.is_empty() is False"
   ]
  },
  {
   "cell_type": "markdown",
   "metadata": {},
   "source": [
    "# Question 2: Implementing a Queue\n",
    "\n",
    "class Queue:\n",
    "    \"\"\"\n",
    "    Design a Python class named `Queue` to represent a queue data structure.\n",
    "\n",
    "    Theory:\n",
    "    A queue is a linear data structure that follows the First In, First Out (FIFO) principle. \n",
    "    It has two main operations: enqueue and dequeue.\n",
    "    - Enqueue: Adds an element to the rear of the queue.\n",
    "    - Dequeue: Removes and returns the front element from the queue.\n",
    "\n",
    "    Operations:\n",
    "    1. Enqueue: Add an element to the rear of the queue.\n",
    "    2. Dequeue: Remove and return the front element from the queue.\n",
    "    3. Front: Return the front element of the queue without removing it.\n",
    "    4. Is Empty: Check if the queue is empty.\n",
    "    5. Size: Return the number of elements in the queue.\n",
    "\n",
    "    Test Cases:\n",
    "    Test Case 1:\n",
    "    queue = Queue()\n",
    "    queue.enqueue(1)\n",
    "    queue.enqueue(2)\n",
    "    queue.enqueue(3)\n",
    "    assert queue.front() == 1\n",
    "    assert queue.dequeue() == 1\n",
    "    assert queue.size() == 2\n",
    "    assert queue.is_empty() is False\n",
    "\n",
    "    Test Case 2:\n",
    "    queue = Queue()\n",
    "    assert queue.is_empty() is True\n",
    "    queue.enqueue(\"A\")\n",
    "    queue.enqueue(\"B\")\n",
    "    queue.enqueue(\"C\")\n",
    "    assert queue.dequeue() == \"A\"\n",
    "    assert queue.front() == \"B\"\n",
    "    assert queue.size() == 2\n",
    "    assert queue.is_empty() is False\n",
    "    \"\"\"\n",
    "\n",
    "    def __init__(self):\n",
    "        # Initialize an empty list to store the elements of the queue\n",
    "        pass\n",
    "\n",
    "    def enqueue(self, item):\n",
    "        # Add an element to the rear of the queue\n",
    "        pass\n",
    "\n",
    "    def dequeue(self):\n",
    "        # Remove and return the front element from the queue\n",
    "        pass\n",
    "\n",
    "    def front(self):\n",
    "        # Return the front element of the queue without removing it\n",
    "        pass\n",
    "\n",
    "    def is_empty(self):\n",
    "        # Check if the queue is empty\n",
    "        pass\n",
    "\n",
    "    def size(self):\n",
    "        # Return the number of elements in the queue\n",
    "        pass"
   ]
  },
  {
   "cell_type": "code",
   "execution_count": 17,
   "metadata": {},
   "outputs": [],
   "source": [
    "class Queue:\n",
    "\n",
    "    def __init__(self):\n",
    "        self.queue = []\n",
    "\n",
    "    def enqueue(self, item):\n",
    "        # Add an element to the rear of the queue\n",
    "        self.queue.append(item)\n",
    "\n",
    "    def dequeue(self):\n",
    "        # Remove and return the front element from the queue\n",
    "        front_element = self.queue[0]\n",
    "        self.queue.remove(self.queue[0])\n",
    "        return front_element       \n",
    "\n",
    "    def front(self):\n",
    "        # Return the front element of the queue without removing it\n",
    "        return self.queue[0]\n",
    "\n",
    "    def is_empty(self):\n",
    "        # Check if the queue is empty\n",
    "        return True if not self.queue else False\n",
    "        \n",
    "    def size(self):\n",
    "        # Return the number of elements in the queue\n",
    "        return len(self.queue)"
   ]
  },
  {
   "cell_type": "markdown",
   "metadata": {},
   "source": [
    "#### test case 1"
   ]
  },
  {
   "cell_type": "code",
   "execution_count": 18,
   "metadata": {},
   "outputs": [],
   "source": [
    "queue = Queue()"
   ]
  },
  {
   "cell_type": "code",
   "execution_count": 19,
   "metadata": {},
   "outputs": [],
   "source": [
    "queue.enqueue(1)\n",
    "queue.enqueue(2)\n",
    "queue.enqueue(3)"
   ]
  },
  {
   "cell_type": "code",
   "execution_count": 20,
   "metadata": {},
   "outputs": [],
   "source": [
    "assert queue.front() == 1"
   ]
  },
  {
   "cell_type": "code",
   "execution_count": 21,
   "metadata": {},
   "outputs": [],
   "source": [
    "assert queue.dequeue() == 1"
   ]
  },
  {
   "cell_type": "code",
   "execution_count": 22,
   "metadata": {},
   "outputs": [],
   "source": [
    "assert queue.size() == 2"
   ]
  },
  {
   "cell_type": "code",
   "execution_count": 23,
   "metadata": {},
   "outputs": [],
   "source": [
    "assert queue.is_empty() is False"
   ]
  },
  {
   "cell_type": "markdown",
   "metadata": {},
   "source": [
    "#### test case 2"
   ]
  },
  {
   "cell_type": "code",
   "execution_count": 24,
   "metadata": {},
   "outputs": [],
   "source": [
    "queue = Queue()"
   ]
  },
  {
   "cell_type": "code",
   "execution_count": 25,
   "metadata": {},
   "outputs": [],
   "source": [
    "assert queue.is_empty() is True"
   ]
  },
  {
   "cell_type": "code",
   "execution_count": 26,
   "metadata": {},
   "outputs": [],
   "source": [
    "queue.enqueue(\"A\")\n",
    "queue.enqueue(\"B\")\n",
    "queue.enqueue(\"C\")"
   ]
  },
  {
   "cell_type": "code",
   "execution_count": 27,
   "metadata": {},
   "outputs": [],
   "source": [
    "assert queue.dequeue() == \"A\""
   ]
  },
  {
   "cell_type": "code",
   "execution_count": 28,
   "metadata": {},
   "outputs": [],
   "source": [
    "assert queue.front() == \"B\""
   ]
  },
  {
   "cell_type": "code",
   "execution_count": 29,
   "metadata": {},
   "outputs": [],
   "source": [
    "assert queue.size() == 2"
   ]
  },
  {
   "cell_type": "code",
   "execution_count": 30,
   "metadata": {},
   "outputs": [],
   "source": [
    "assert queue.is_empty() is False"
   ]
  },
  {
   "cell_type": "code",
   "execution_count": null,
   "metadata": {},
   "outputs": [],
   "source": []
  }
 ],
 "metadata": {
  "kernelspec": {
   "display_name": "Python 3",
   "language": "python",
   "name": "python3"
  },
  "language_info": {
   "codemirror_mode": {
    "name": "ipython",
    "version": 3
   },
   "file_extension": ".py",
   "mimetype": "text/x-python",
   "name": "python",
   "nbconvert_exporter": "python",
   "pygments_lexer": "ipython3",
   "version": "3.12.1"
  }
 },
 "nbformat": 4,
 "nbformat_minor": 2
}
