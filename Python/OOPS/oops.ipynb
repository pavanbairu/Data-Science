{
 "cells": [
  {
   "cell_type": "markdown",
   "metadata": {},
   "source": [
    "#### OOPS(Object Oriented Programming)"
   ]
  },
  {
   "cell_type": "markdown",
   "metadata": {},
   "source": [
    "Class:\n",
    "\n",
    "a class is a blueprint for creating objects. It defines the properties (attributes) and behaviors (methods) that the objects of the class will have.\n",
    "\n",
    "Object:\n",
    "\n",
    "Objects are instances of classes. They are created based on the structure defined by the class and can store data using attributes and perform actions using methods."
   ]
  },
  {
   "cell_type": "code",
   "execution_count": 1,
   "metadata": {},
   "outputs": [],
   "source": [
    "a = 5"
   ]
  },
  {
   "cell_type": "code",
   "execution_count": 2,
   "metadata": {},
   "outputs": [
    {
     "name": "stdout",
     "output_type": "stream",
     "text": [
      "<class 'int'>\n"
     ]
    }
   ],
   "source": [
    "print(type(a))   # this 'a' is type of int class"
   ]
  },
  {
   "cell_type": "code",
   "execution_count": 12,
   "metadata": {},
   "outputs": [],
   "source": [
    "l1 = []\n",
    "l2 = list()"
   ]
  },
  {
   "cell_type": "code",
   "execution_count": 13,
   "metadata": {},
   "outputs": [
    {
     "name": "stdout",
     "output_type": "stream",
     "text": [
      "<class 'list'>\n",
      "<class 'list'>\n"
     ]
    }
   ],
   "source": [
    "print(type(l1))   # this 'l1' is type of list class\n",
    "print(type(l2))   # this 'l2' is type of list class"
   ]
  },
  {
   "cell_type": "code",
   "execution_count": 5,
   "metadata": {},
   "outputs": [],
   "source": [
    "# lets create a class\n",
    "class Car:\n",
    "    def start():\n",
    "        print(\"car is started\")\n",
    "    def stop():\n",
    "        print(\"car is stopped\")"
   ]
  },
  {
   "cell_type": "code",
   "execution_count": 7,
   "metadata": {},
   "outputs": [],
   "source": [
    "wagonR = Car()"
   ]
  },
  {
   "cell_type": "code",
   "execution_count": 8,
   "metadata": {},
   "outputs": [
    {
     "name": "stdout",
     "output_type": "stream",
     "text": [
      "<class '__main__.Car'>\n"
     ]
    }
   ],
   "source": [
    "print(type(wagonR))     # this wagonR is type of car class"
   ]
  },
  {
   "cell_type": "code",
   "execution_count": 9,
   "metadata": {},
   "outputs": [],
   "source": [
    "name1 = \"pavan\"\n",
    "name2 = str()"
   ]
  },
  {
   "cell_type": "code",
   "execution_count": 11,
   "metadata": {},
   "outputs": [
    {
     "name": "stdout",
     "output_type": "stream",
     "text": [
      "<class 'str'>\n",
      "<class 'str'>\n"
     ]
    }
   ],
   "source": [
    "# both are belongs to string class only\n",
    "print(type(name1))   \n",
    "print(type(name2))"
   ]
  },
  {
   "cell_type": "markdown",
   "metadata": {},
   "source": [
    "##### Constructor"
   ]
  },
  {
   "cell_type": "markdown",
   "metadata": {},
   "source": [
    "a constructor is a special method within a class that is automatically called when an object of that class is created. It is named __init__() and is used to initialize the object's attributes."
   ]
  },
  {
   "cell_type": "code",
   "execution_count": 24,
   "metadata": {},
   "outputs": [],
   "source": [
    "class ATM:\n",
    "\n",
    "    def __init__(self):\n",
    "        print(\"I am a magic method, you didn't call me but I still got call.\")\n",
    "        print(\"creating an object of class ATM for you\")\n",
    "        \n",
    "    def balance():\n",
    "        print(\"balance is 0\")\n",
    "    def change_pin():\n",
    "        print(\"pin is changed\")"
   ]
  },
  {
   "cell_type": "code",
   "execution_count": 25,
   "metadata": {},
   "outputs": [
    {
     "name": "stdout",
     "output_type": "stream",
     "text": [
      "I am a magic method, you didn't call me but I still got call.\n",
      "creating an object of class ATM for you\n"
     ]
    }
   ],
   "source": [
    "hdfc = ATM()  # when new object(hdfc) gets created for class ATM, calls the constructor automatically"
   ]
  },
  {
   "cell_type": "code",
   "execution_count": 26,
   "metadata": {},
   "outputs": [
    {
     "name": "stdout",
     "output_type": "stream",
     "text": [
      "I am a magic method, you didn't call me but I still got call.\n",
      "creating an object of class ATM for you\n"
     ]
    }
   ],
   "source": [
    "citi = ATM()    # when new object(citi) gets created for class ATM, calls the constructor automatically"
   ]
  },
  {
   "cell_type": "code",
   "execution_count": 27,
   "metadata": {},
   "outputs": [
    {
     "ename": "TypeError",
     "evalue": "ATM.balance() takes 0 positional arguments but 1 was given",
     "output_type": "error",
     "traceback": [
      "\u001b[1;31m---------------------------------------------------------------------------\u001b[0m",
      "\u001b[1;31mTypeError\u001b[0m                                 Traceback (most recent call last)",
      "Cell \u001b[1;32mIn[27], line 1\u001b[0m\n\u001b[1;32m----> 1\u001b[0m \u001b[43mciti\u001b[49m\u001b[38;5;241;43m.\u001b[39;49m\u001b[43mbalance\u001b[49m\u001b[43m(\u001b[49m\u001b[43m)\u001b[49m   \u001b[38;5;66;03m# python automatically sends 1 argument\u001b[39;00m\n",
      "\u001b[1;31mTypeError\u001b[0m: ATM.balance() takes 0 positional arguments but 1 was given"
     ]
    }
   ],
   "source": [
    "citi.balance()   # python automatically sends 1 argument"
   ]
  },
  {
   "cell_type": "code",
   "execution_count": 28,
   "metadata": {},
   "outputs": [],
   "source": [
    "# lets create another class\n",
    "class Student:\n",
    "    \n",
    "    def __init__(self):\n",
    "        print(\"I am a student object\")\n",
    "        print('The address of self is ', id(self))\n",
    "\n",
    "    def study(myArgumentwhichIdidntPass):\n",
    "        print(id(myArgumentwhichIdidntPass))\n",
    "        print(\"okay I will study\")\n",
    "        \n",
    "    def party(self):\n",
    "        print(id(self))\n",
    "        print(self)\n",
    "        print(\"will study tomorrow, let us party\")"
   ]
  },
  {
   "cell_type": "code",
   "execution_count": 29,
   "metadata": {},
   "outputs": [
    {
     "name": "stdout",
     "output_type": "stream",
     "text": [
      "I am a student object\n",
      "The address of self is  2337872525936\n"
     ]
    }
   ],
   "source": [
    "s1 = Student()"
   ]
  },
  {
   "cell_type": "code",
   "execution_count": 32,
   "metadata": {},
   "outputs": [
    {
     "name": "stdout",
     "output_type": "stream",
     "text": [
      "The address of s1 is  2337872525936\n"
     ]
    }
   ],
   "source": [
    "print('The address of s1 is ', id(s1))   # the self address and s1 objects address pointing the same"
   ]
  },
  {
   "cell_type": "code",
   "execution_count": 33,
   "metadata": {},
   "outputs": [
    {
     "name": "stdout",
     "output_type": "stream",
     "text": [
      "I am a student object\n",
      "The address of self is  2337872588832\n"
     ]
    }
   ],
   "source": [
    "s2 = Student()"
   ]
  },
  {
   "cell_type": "code",
   "execution_count": 34,
   "metadata": {},
   "outputs": [
    {
     "name": "stdout",
     "output_type": "stream",
     "text": [
      "The address of s1 is  2337872588832\n"
     ]
    }
   ],
   "source": [
    "print('The address of s1 is ', id(s2))  # now again the s2 and self is pointing to the same address"
   ]
  },
  {
   "cell_type": "code",
   "execution_count": 35,
   "metadata": {},
   "outputs": [
    {
     "name": "stdout",
     "output_type": "stream",
     "text": [
      "2337872588832\n",
      "<__main__.Student object at 0x000002205410B020>\n",
      "will study tomorrow, let us party\n"
     ]
    }
   ],
   "source": [
    "s2.party()   # the s2, self and party(self) are pointing to same address"
   ]
  },
  {
   "cell_type": "code",
   "execution_count": 37,
   "metadata": {},
   "outputs": [
    {
     "name": "stdout",
     "output_type": "stream",
     "text": [
      "2337872588832\n",
      "okay I will study\n"
     ]
    }
   ],
   "source": [
    "# the s2, self, party(self) and myArgumentwhichIdidntPass. all are pointing to same address\n",
    "# here s2 itself is an argument python passing automatically\n",
    "\n",
    "s2.study()  "
   ]
  },
  {
   "cell_type": "markdown",
   "metadata": {},
   "source": [
    "Create a Student Class which takes marks of 2 subject and has a function which can calcualte there average"
   ]
  },
  {
   "cell_type": "code",
   "execution_count": 43,
   "metadata": {},
   "outputs": [],
   "source": [
    "class SchoolStudent:\n",
    "    \n",
    "    def __init__(self):\n",
    "        print(\"creating a school student\")\n",
    "        self.math = 95   # assigning the hard code values to variables\n",
    "        self.science = 92\n",
    "\n",
    "    def __str__(self):\n",
    "        print(\"the score of math is :\" , (self.math))\n",
    "        print(\"the score of science is :\" , (self.science))\n",
    "        return \"\"\n",
    "\n",
    "    def find_average(self):\n",
    "        avg = (self.math + self.science)/2\n",
    "        print(\"average is \" + str(avg))"
   ]
  },
  {
   "cell_type": "code",
   "execution_count": 44,
   "metadata": {},
   "outputs": [
    {
     "name": "stdout",
     "output_type": "stream",
     "text": [
      "creating a school student\n"
     ]
    }
   ],
   "source": [
    "s1 = SchoolStudent()"
   ]
  },
  {
   "cell_type": "code",
   "execution_count": 45,
   "metadata": {},
   "outputs": [
    {
     "name": "stdout",
     "output_type": "stream",
     "text": [
      "average is 93.5\n"
     ]
    }
   ],
   "source": [
    "s1.find_average()"
   ]
  },
  {
   "cell_type": "code",
   "execution_count": 46,
   "metadata": {},
   "outputs": [
    {
     "name": "stdout",
     "output_type": "stream",
     "text": [
      "the score of math is : 95\n",
      "the score of science is : 92\n",
      "\n"
     ]
    }
   ],
   "source": [
    "print(s1)"
   ]
  },
  {
   "cell_type": "code",
   "execution_count": 47,
   "metadata": {},
   "outputs": [],
   "source": [
    "class SchoolStudent2:\n",
    "    \n",
    "    def __init__(self,math=60,science=50):    # assigning the values directly to arguments\n",
    "        print(\"creating a school student\")\n",
    "        self.math = math\n",
    "        self.science = science\n",
    "        \n",
    "    def __str__(self):\n",
    "        print(\"the score of math is\" , self.math)\n",
    "        print(\"the score of science is\" , self.science)\n",
    "        return \"\"\n",
    "\n",
    "    def find_average(self):\n",
    "        avg = (self.math + self.science)/2\n",
    "        print(\"average is \" + str(avg))"
   ]
  },
  {
   "cell_type": "code",
   "execution_count": 48,
   "metadata": {},
   "outputs": [
    {
     "name": "stdout",
     "output_type": "stream",
     "text": [
      "creating a school student\n"
     ]
    }
   ],
   "source": [
    "s2 = SchoolStudent2()"
   ]
  },
  {
   "cell_type": "code",
   "execution_count": 49,
   "metadata": {},
   "outputs": [
    {
     "name": "stdout",
     "output_type": "stream",
     "text": [
      "the score of math is 60\n",
      "the score of science is 50\n",
      "\n"
     ]
    }
   ],
   "source": [
    "print(s2)"
   ]
  },
  {
   "cell_type": "code",
   "execution_count": 50,
   "metadata": {},
   "outputs": [
    {
     "name": "stdout",
     "output_type": "stream",
     "text": [
      "average is 55.0\n"
     ]
    }
   ],
   "source": [
    "s2.find_average()"
   ]
  },
  {
   "cell_type": "code",
   "execution_count": 51,
   "metadata": {},
   "outputs": [
    {
     "name": "stdout",
     "output_type": "stream",
     "text": [
      "creating a school student\n"
     ]
    }
   ],
   "source": [
    "ss2 = SchoolStudent2(98,99)  # passing the values will be overided with hardcode values of arguments"
   ]
  },
  {
   "cell_type": "code",
   "execution_count": 52,
   "metadata": {},
   "outputs": [
    {
     "name": "stdout",
     "output_type": "stream",
     "text": [
      "average is 98.5\n"
     ]
    }
   ],
   "source": [
    "ss2.find_average()"
   ]
  },
  {
   "cell_type": "code",
   "execution_count": null,
   "metadata": {},
   "outputs": [],
   "source": []
  }
 ],
 "metadata": {
  "kernelspec": {
   "display_name": "Python 3",
   "language": "python",
   "name": "python3"
  },
  "language_info": {
   "codemirror_mode": {
    "name": "ipython",
    "version": 3
   },
   "file_extension": ".py",
   "mimetype": "text/x-python",
   "name": "python",
   "nbconvert_exporter": "python",
   "pygments_lexer": "ipython3",
   "version": "3.12.1"
  }
 },
 "nbformat": 4,
 "nbformat_minor": 2
}
