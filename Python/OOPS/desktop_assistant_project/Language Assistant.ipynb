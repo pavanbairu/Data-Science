{
  "nbformat": 4,
  "nbformat_minor": 0,
  "metadata": {
    "colab": {
      "provenance": []
    },
    "kernelspec": {
      "name": "python3",
      "display_name": "Python 3"
    },
    "language_info": {
      "name": "python"
    }
  },
  "cells": [
    {
      "cell_type": "markdown",
      "source": [
        "### AI-Powered Language Assistant\n",
        "\n",
        "This project, leverages OOP principles, specifically encapsulation and inheritance, along with Google's Generative AI to provide functionalities like sentiment analysis, language translation, and language detection."
      ],
      "metadata": {
        "id": "XLOs7mxNLzlu"
      }
    },
    {
      "cell_type": "code",
      "execution_count": 1,
      "metadata": {
        "colab": {
          "base_uri": "https://localhost:8080/"
        },
        "id": "djZVk6Ki65BI",
        "outputId": "8197b4d7-88cf-4907-cf5c-78addd9a4b84"
      },
      "outputs": [
        {
          "output_type": "stream",
          "name": "stdout",
          "text": [
            "Requirement already satisfied: google-generativeai in /usr/local/lib/python3.10/dist-packages (0.5.4)\n",
            "Requirement already satisfied: google-ai-generativelanguage==0.6.4 in /usr/local/lib/python3.10/dist-packages (from google-generativeai) (0.6.4)\n",
            "Requirement already satisfied: google-api-core in /usr/local/lib/python3.10/dist-packages (from google-generativeai) (2.11.1)\n",
            "Requirement already satisfied: google-api-python-client in /usr/local/lib/python3.10/dist-packages (from google-generativeai) (2.84.0)\n",
            "Requirement already satisfied: google-auth>=2.15.0 in /usr/local/lib/python3.10/dist-packages (from google-generativeai) (2.27.0)\n",
            "Requirement already satisfied: protobuf in /usr/local/lib/python3.10/dist-packages (from google-generativeai) (3.20.3)\n",
            "Requirement already satisfied: pydantic in /usr/local/lib/python3.10/dist-packages (from google-generativeai) (2.7.3)\n",
            "Requirement already satisfied: tqdm in /usr/local/lib/python3.10/dist-packages (from google-generativeai) (4.66.4)\n",
            "Requirement already satisfied: typing-extensions in /usr/local/lib/python3.10/dist-packages (from google-generativeai) (4.12.1)\n",
            "Requirement already satisfied: proto-plus<2.0.0dev,>=1.22.3 in /usr/local/lib/python3.10/dist-packages (from google-ai-generativelanguage==0.6.4->google-generativeai) (1.23.0)\n",
            "Requirement already satisfied: cachetools<6.0,>=2.0.0 in /usr/local/lib/python3.10/dist-packages (from google-auth>=2.15.0->google-generativeai) (5.3.3)\n",
            "Requirement already satisfied: pyasn1-modules>=0.2.1 in /usr/local/lib/python3.10/dist-packages (from google-auth>=2.15.0->google-generativeai) (0.4.0)\n",
            "Requirement already satisfied: rsa<5,>=3.1.4 in /usr/local/lib/python3.10/dist-packages (from google-auth>=2.15.0->google-generativeai) (4.9)\n",
            "Requirement already satisfied: googleapis-common-protos<2.0.dev0,>=1.56.2 in /usr/local/lib/python3.10/dist-packages (from google-api-core->google-generativeai) (1.63.1)\n",
            "Requirement already satisfied: requests<3.0.0.dev0,>=2.18.0 in /usr/local/lib/python3.10/dist-packages (from google-api-core->google-generativeai) (2.31.0)\n",
            "Requirement already satisfied: httplib2<1dev,>=0.15.0 in /usr/local/lib/python3.10/dist-packages (from google-api-python-client->google-generativeai) (0.22.0)\n",
            "Requirement already satisfied: google-auth-httplib2>=0.1.0 in /usr/local/lib/python3.10/dist-packages (from google-api-python-client->google-generativeai) (0.1.1)\n",
            "Requirement already satisfied: uritemplate<5,>=3.0.1 in /usr/local/lib/python3.10/dist-packages (from google-api-python-client->google-generativeai) (4.1.1)\n",
            "Requirement already satisfied: annotated-types>=0.4.0 in /usr/local/lib/python3.10/dist-packages (from pydantic->google-generativeai) (0.7.0)\n",
            "Requirement already satisfied: pydantic-core==2.18.4 in /usr/local/lib/python3.10/dist-packages (from pydantic->google-generativeai) (2.18.4)\n",
            "Requirement already satisfied: grpcio<2.0dev,>=1.33.2 in /usr/local/lib/python3.10/dist-packages (from google-api-core->google-generativeai) (1.64.1)\n",
            "Requirement already satisfied: grpcio-status<2.0.dev0,>=1.33.2 in /usr/local/lib/python3.10/dist-packages (from google-api-core->google-generativeai) (1.48.2)\n",
            "Requirement already satisfied: pyparsing!=3.0.0,!=3.0.1,!=3.0.2,!=3.0.3,<4,>=2.4.2 in /usr/local/lib/python3.10/dist-packages (from httplib2<1dev,>=0.15.0->google-api-python-client->google-generativeai) (3.1.2)\n",
            "Requirement already satisfied: pyasn1<0.7.0,>=0.4.6 in /usr/local/lib/python3.10/dist-packages (from pyasn1-modules>=0.2.1->google-auth>=2.15.0->google-generativeai) (0.6.0)\n",
            "Requirement already satisfied: charset-normalizer<4,>=2 in /usr/local/lib/python3.10/dist-packages (from requests<3.0.0.dev0,>=2.18.0->google-api-core->google-generativeai) (3.3.2)\n",
            "Requirement already satisfied: idna<4,>=2.5 in /usr/local/lib/python3.10/dist-packages (from requests<3.0.0.dev0,>=2.18.0->google-api-core->google-generativeai) (3.7)\n",
            "Requirement already satisfied: urllib3<3,>=1.21.1 in /usr/local/lib/python3.10/dist-packages (from requests<3.0.0.dev0,>=2.18.0->google-api-core->google-generativeai) (2.0.7)\n",
            "Requirement already satisfied: certifi>=2017.4.17 in /usr/local/lib/python3.10/dist-packages (from requests<3.0.0.dev0,>=2.18.0->google-api-core->google-generativeai) (2024.6.2)\n"
          ]
        }
      ],
      "source": [
        "!pip install google-generativeai"
      ]
    },
    {
      "cell_type": "code",
      "source": [
        "import google.generativeai as genai"
      ],
      "metadata": {
        "id": "ViwH_wp37AjA"
      },
      "execution_count": 20,
      "outputs": []
    },
    {
      "cell_type": "code",
      "source": [
        "from google.colab import userdata\n",
        "API_TOKEN=userdata.get('GEMINI_API_KEY')"
      ],
      "metadata": {
        "id": "Qhq0wTS1DsFv"
      },
      "execution_count": 21,
      "outputs": []
    },
    {
      "cell_type": "code",
      "source": [
        "\n",
        "user_text1 = \"\"\"\n",
        "Give me the sentiment of this sentence:\n",
        "\"I hate this movie\"\n",
        "\"\"\"\n",
        "\n",
        "user_text2 = \"\"\"\n",
        "Give me hindi transilation of this sentence:\n",
        "\"I hate this movie\"\n",
        "\"\"\"\n",
        "\n",
        "user_text3 = \"\"\"\n",
        "Detect the language of this sentence:\n",
        "\"I hate this movie\"\n",
        "\"\"\""
      ],
      "metadata": {
        "id": "WAn2VbwM7OCX"
      },
      "execution_count": 22,
      "outputs": []
    },
    {
      "cell_type": "code",
      "source": [
        "# Import the necessary module\n",
        "import google.generativeai as genai\n",
        "\n",
        "# Configure the generative AI model with the provided API token\n",
        "genai.configure(api_key=API_TOKEN)\n",
        "\n",
        "# Create an instance of the GenerativeModel class with the specified model name (\"gemini-pro\")\n",
        "model = genai.GenerativeModel(\"gemini-pro\")\n",
        "\n",
        "# Generate content based on the provided user_text3 input\n",
        "response = model.generate_content(user_text3)\n",
        "\n",
        "# Extract the text from the response\n",
        "results = response.text\n",
        "\n",
        "# Print the results of the content generation\n",
        "print(results)\n"
      ],
      "metadata": {
        "colab": {
          "base_uri": "https://localhost:8080/",
          "height": 34
        },
        "id": "3QuJuibP7RXE",
        "outputId": "1bee3310-f08e-497c-a4da-de1cd50a9929"
      },
      "execution_count": 23,
      "outputs": [
        {
          "output_type": "stream",
          "name": "stdout",
          "text": [
            "English\n"
          ]
        }
      ]
    },
    {
      "cell_type": "code",
      "source": [
        "\n",
        "# Base class for configuring and obtaining the generative AI model\n",
        "class NLPModel:\n",
        "\n",
        "  def get_model(self):\n",
        "    # Configure the generative AI with the API key\n",
        "    genai.configure(api_key=API_TOKEN)\n",
        "    # Retrieve and return the generative AI model\n",
        "    model = genai.GenerativeModel(\"gemini-pro\")\n",
        "    return model"
      ],
      "metadata": {
        "id": "KM6WJXYIHhaj"
      },
      "execution_count": 27,
      "outputs": []
    },
    {
      "cell_type": "code",
      "source": [
        "# Derived class for the NLP application\n",
        "class NLPApp(NLPModel):\n",
        "\n",
        "  def __init__(self):\n",
        "    # Initialize the user database and start the first menu\n",
        "    self.__database = {}\n",
        "    self.__first_menu()\n",
        "\n",
        "  def __first_menu(self):\n",
        "    # Display the first menu and handle user input\n",
        "    first_input = input(\"\"\"\n",
        "    Hi! How would you like to proceed?\n",
        "\n",
        "    1. Not a member? Register\n",
        "    2. Already a member? Login\n",
        "    3. Exit\n",
        "    \"\"\")\n",
        "    if first_input == '1':\n",
        "      self.__register()  # Handle registration\n",
        "    elif first_input == '2':\n",
        "      self.__login()  # Handle login\n",
        "    else:\n",
        "      exit()  # Exit the application\n",
        "\n",
        "  def __second_menu(self):\n",
        "    # Display the second menu and handle user input\n",
        "    second_input = input(\"\"\"\n",
        "    Hi! How would you like to proceed?\n",
        "\n",
        "    1. Sentiment Analysis\n",
        "    2. Language Translation\n",
        "    3. Language Detection\n",
        "    \"\"\")\n",
        "    if second_input == '1':\n",
        "      self.__sentiment_analysis()  # Perform sentiment analysis\n",
        "    elif second_input == '2':\n",
        "      self.__language_translation()  # Perform language translation\n",
        "    elif second_input == '3':\n",
        "      self.__language_detection()  # Perform language detection\n",
        "    else:\n",
        "      exit()  # Exit the application\n",
        "\n",
        "  def __register(self):\n",
        "    # Register a new user\n",
        "    name = input(\"Enter your Name: \")\n",
        "    email = input(\"Enter your Email: \")\n",
        "    password = input(\"Enter your Password: \")\n",
        "    if email in self.__database:\n",
        "      print(\"Email already exists\")\n",
        "    else:\n",
        "      self.__database[email] = [name, password]\n",
        "      print(\"Registration successful. Now you can login!\")\n",
        "      self.__first_menu()\n",
        "\n",
        "  def __login(self):\n",
        "    # Login an existing user\n",
        "    email = input(\"Enter your Email: \")\n",
        "    password = input(\"Enter your Password: \")\n",
        "    if email in self.__database:\n",
        "      if self.__database[email][1] == password:\n",
        "        print(\"Login Successful\")\n",
        "        self.__second_menu()\n",
        "      else:\n",
        "        print(\"Wrong password. Try again!\")\n",
        "        self.__login()\n",
        "    else:\n",
        "      print(\"This email is not registered\")\n",
        "      self.__first_menu()\n",
        "\n",
        "  def __sentiment_analysis(self):\n",
        "    # Perform sentiment analysis on the input text\n",
        "    user_text = input(\"Enter your text: \")\n",
        "    model = super().get_model()  # Get the AI model from the base class\n",
        "    response = model.generate_content(f\"Give me the sentiment of this sentence: {user_text}\")\n",
        "    print(response.text)\n",
        "    self.__second_menu()\n",
        "\n",
        "  def __language_translation(self):\n",
        "    # Translate the input text to Hindi\n",
        "    user_text = input(\"Enter your text: \")\n",
        "    model = super().get_model()  # Get the AI model from the base class\n",
        "    response = model.generate_content(f\"Give me the Hindi translation of this sentence: {user_text}\")\n",
        "    print(response.text)\n",
        "    self.__second_menu()\n",
        "\n",
        "  def __language_detection(self):\n",
        "    # Detect the language of the input text\n",
        "    user_text = input(\"Enter your text: \")\n",
        "    model = super().get_model()  # Get the AI model from the base class\n",
        "    response = model.generate_content(f\"Detect the language of this sentence: {user_text}\")\n",
        "    print(response.text)\n",
        "    self.__second_menu()"
      ],
      "metadata": {
        "id": "aJG6736Y7iqu"
      },
      "execution_count": 28,
      "outputs": []
    },
    {
      "cell_type": "code",
      "source": [
        "pavan = NLP_APP()"
      ],
      "metadata": {
        "colab": {
          "base_uri": "https://localhost:8080/",
          "height": 1000
        },
        "id": "Lno81kOwD2Pq",
        "outputId": "70adf35b-2f47-4572-f780-3b6fac27db9c"
      },
      "execution_count": 29,
      "outputs": [
        {
          "name": "stdout",
          "output_type": "stream",
          "text": [
            "\n",
            "    Hi! How would you like to proceed?\n",
            "\n",
            "    1. Not a member? Register\n",
            "    2. Already a member? Login\n",
            "    3. wrong window? Exit\n",
            "    2\n",
            "Enter your Email: pavan@gmail.com\n",
            "Enter your Password: pavan123\n",
            "email is not registered\n",
            "\n",
            "    Hi! How would you like to proceed?\n",
            "\n",
            "    1. Not a member? Register\n",
            "    2. Already a member? Login\n",
            "    3. wrong window? Exit\n",
            "    1\n",
            "Enter your Name: pavan\n",
            "Enter your Email: pavan@gmail.com\n",
            "Enter your Password: pavan123\n",
            "Registration Successful\n",
            "\n",
            "    Hi! How would you like to proceed?\n",
            "\n",
            "    1. Not a member? Register\n",
            "    2. Already a member? Login\n",
            "    3. wrong window? Exit\n",
            "    2\n",
            "Enter your Email: pavan@gmail.com\n",
            "Enter your Password: pavan123\n",
            "login successful\n",
            "\n",
            "    Hi! How would you like to proceed?\n",
            "\n",
            "    1. Sentiment Analysis\n",
            "    2. Language Transilation\n",
            "    3. Language Detection\n",
            "    1\n",
            "Enter your text: The traffic this morning was incredibly frustrating\n",
            "Negative\n",
            "\n",
            "    Hi! How would you like to proceed?\n",
            "\n",
            "    1. Sentiment Analysis\n",
            "    2. Language Transilation\n",
            "    3. Language Detection\n",
            "    2\n",
            "Enter your text: Where is the nearest restaurant?\n",
            "निकटतम रेस्टोरेंट कहाँ है?\n",
            "\n",
            "    Hi! How would you like to proceed?\n",
            "\n",
            "    1. Sentiment Analysis\n",
            "    2. Language Transilation\n",
            "    3. Language Detection\n",
            "    3\n",
            "Enter your text: मुझे पाइथन में प्रोग्रामिंग करना बहुत पसंद है।\n",
            "Hindi\n",
            "\n",
            "    Hi! How would you like to proceed?\n",
            "\n",
            "    1. Sentiment Analysis\n",
            "    2. Language Transilation\n",
            "    3. Language Detection\n",
            "    a\n"
          ]
        }
      ]
    },
    {
      "cell_type": "code",
      "source": [
        "\n"
      ],
      "metadata": {
        "id": "B9T8g0T1D8Ve"
      },
      "execution_count": null,
      "outputs": []
    }
  ]
}