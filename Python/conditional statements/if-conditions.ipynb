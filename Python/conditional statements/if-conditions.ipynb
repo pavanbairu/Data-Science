{
 "cells": [
  {
   "cell_type": "markdown",
   "metadata": {},
   "source": [
    "#### IF-Conditional\n",
    "\n",
    "Evaluates the condition. gives the result"
   ]
  },
  {
   "cell_type": "code",
   "execution_count": 5,
   "metadata": {},
   "outputs": [],
   "source": [
    "hungry = True"
   ]
  },
  {
   "cell_type": "code",
   "execution_count": 6,
   "metadata": {},
   "outputs": [
    {
     "name": "stdout",
     "output_type": "stream",
     "text": [
      "will order something to eat\n"
     ]
    }
   ],
   "source": [
    "if hungry:\n",
    "    print(\"will order something to eat\")"
   ]
  },
  {
   "cell_type": "code",
   "execution_count": 7,
   "metadata": {},
   "outputs": [],
   "source": [
    "# conditions is not satisfied. \n",
    "if not hungry:\n",
    "    print(\"will order something to eat\")"
   ]
  },
  {
   "cell_type": "code",
   "execution_count": 9,
   "metadata": {},
   "outputs": [
    {
     "name": "stdout",
     "output_type": "stream",
     "text": [
      "will order something to eat\n"
     ]
    }
   ],
   "source": [
    "# if the condition is not satisfied and then want to include something if not satisfied\n",
    "\n",
    "# condition satisfied\n",
    "if hungry:\n",
    "    print(\"will order something to eat\")\n",
    "\n",
    "else:\n",
    "    print(\"go for sleep or play\")"
   ]
  },
  {
   "cell_type": "code",
   "execution_count": 11,
   "metadata": {},
   "outputs": [
    {
     "name": "stdout",
     "output_type": "stream",
     "text": [
      "go for sleep or play\n"
     ]
    }
   ],
   "source": [
    "# if the condition is not satisfied and then want to include something if not satisfied\n",
    "\n",
    "# condition not satisfied\n",
    "if not hungry:\n",
    "    print(\"will order something to eat\")\n",
    "\n",
    "else:\n",
    "    print(\"go for sleep or play\")"
   ]
  },
  {
   "cell_type": "code",
   "execution_count": 60,
   "metadata": {},
   "outputs": [
    {
     "name": "stdout",
     "output_type": "stream",
     "text": [
      "eligible to vote\n"
     ]
    }
   ],
   "source": [
    "age = 18\n",
    "\n",
    "if age >= 18:\n",
    "    print(\"eligible to vote\")\n",
    "else:\n",
    "    print(\"not eligible to vote\")"
   ]
  },
  {
   "cell_type": "markdown",
   "metadata": {},
   "source": [
    "##### students marks example"
   ]
  },
  {
   "cell_type": "code",
   "execution_count": 21,
   "metadata": {},
   "outputs": [
    {
     "data": {
      "text/plain": [
       "130"
      ]
     },
     "execution_count": 21,
     "metadata": {},
     "output_type": "execute_result"
    }
   ],
   "source": [
    "marks = int(input(\"enter the marks : \"))\n",
    "marks"
   ]
  },
  {
   "cell_type": "code",
   "execution_count": 23,
   "metadata": {},
   "outputs": [
    {
     "name": "stdout",
     "output_type": "stream",
     "text": [
      "enter the marks between 0 and 100\n"
     ]
    }
   ],
   "source": [
    "if marks < 35 and marks >= 0:\n",
    "    print(\"Failed\")\n",
    "\n",
    "if marks >= 35 and marks < 50:\n",
    "    print(\"passed\")\n",
    "    print(\"your grade is C\")\n",
    "\n",
    "if marks >=50 and marks < 75:\n",
    "    print(\"passed\")\n",
    "    print(\"your grade is B\")\n",
    "\n",
    "if marks >=75 and marks <= 100:\n",
    "    print(\"passed\")\n",
    "    print(\"your grade is A\")\n",
    "\n",
    "if marks < 0 or marks > 100:\n",
    "    print(\"enter the marks between 0 and 100\")\n",
    "\n"
   ]
  },
  {
   "cell_type": "code",
   "execution_count": 26,
   "metadata": {},
   "outputs": [],
   "source": [
    "marks = 45"
   ]
  },
  {
   "cell_type": "code",
   "execution_count": 28,
   "metadata": {},
   "outputs": [
    {
     "name": "stdout",
     "output_type": "stream",
     "text": [
      "passed\n",
      "your grade is C\n",
      "passed\n",
      "your grade is B\n"
     ]
    }
   ],
   "source": [
    "# marks satisfies for two conditions. this should not happen even if code is wrong\n",
    "\n",
    "if marks < 35 and marks >= 0:\n",
    "    print(\"Failed\")\n",
    "\n",
    "# satisfies \n",
    "if marks >= 35 and marks < 50:\n",
    "    print(\"passed\")\n",
    "    print(\"your grade is C\")\n",
    "\n",
    "# satisfies \n",
    "if marks >=40 and marks < 75:  \n",
    "    print(\"passed\")\n",
    "    print(\"your grade is B\")\n",
    "\n",
    "if marks >=75 and marks <= 100:\n",
    "    print(\"passed\")\n",
    "    print(\"your grade is A\")\n",
    "\n",
    "if marks < 0 or marks > 100:\n",
    "    print(\"enter the marks between 0 and 100\")\n",
    "\n"
   ]
  },
  {
   "cell_type": "code",
   "execution_count": 29,
   "metadata": {},
   "outputs": [],
   "source": [
    "marks = 45"
   ]
  },
  {
   "cell_type": "code",
   "execution_count": 30,
   "metadata": {},
   "outputs": [
    {
     "name": "stdout",
     "output_type": "stream",
     "text": [
      "passed\n",
      "your grade is C\n"
     ]
    }
   ],
   "source": [
    "## use elif inorder to execute only one block of code irrespective of code conditions\n",
    "\n",
    "if marks < 35 and marks >= 0:\n",
    "    print(\"Failed\")\n",
    "\n",
    "# satisfies this condition and come out of if block\n",
    "elif marks >= 35 and marks < 50:\n",
    "    print(\"passed\")\n",
    "    print(\"your grade is C\")\n",
    "\n",
    "elif marks >=40 and marks < 75:  \n",
    "    print(\"passed\")\n",
    "    print(\"your grade is B\")\n",
    "\n",
    "elif marks >=75 and marks <= 100:\n",
    "    print(\"passed\")\n",
    "    print(\"your grade is A\")\n",
    "\n",
    "else:\n",
    "    print(\"enter the marks between 0 and 100\")"
   ]
  },
  {
   "cell_type": "markdown",
   "metadata": {},
   "source": [
    "##### ASCII value example"
   ]
  },
  {
   "cell_type": "code",
   "execution_count": 55,
   "metadata": {},
   "outputs": [],
   "source": [
    "ascii_val = ''"
   ]
  },
  {
   "cell_type": "code",
   "execution_count": 56,
   "metadata": {},
   "outputs": [
    {
     "name": "stdout",
     "output_type": "stream",
     "text": [
      "special charcter\n"
     ]
    }
   ],
   "source": [
    "if ascii_val >= 'a' and ascii_val <= 'z':\n",
    "    print(\"small letter\") \n",
    "\n",
    "elif ascii_val >= 'A' and ascii_val <= 'Z':\n",
    "    print(\"capital letter\")\n",
    "\n",
    "elif ascii_val >= '0' and ascii_val <= '9':\n",
    "    print(\"digit\")\n",
    "\n",
    "else:\n",
    "    print(\"special charcter\")"
   ]
  },
  {
   "cell_type": "markdown",
   "metadata": {},
   "source": [
    "##### Discount Offer"
   ]
  },
  {
   "cell_type": "code",
   "execution_count": 69,
   "metadata": {},
   "outputs": [
    {
     "name": "stdout",
     "output_type": "stream",
     "text": [
      "sorry, your not eligible for discount\n",
      "here is your total amount to be paid 400 Rs\n"
     ]
    }
   ],
   "source": [
    "purchase_amount = 400\n",
    "\n",
    "if purchase_amount >= 1000:\n",
    "    print(\"your eligible for 10% discount\")\n",
    "    print(\"here is your total amount to be paid\", purchase_amount - (purchase_amount * 0.1) , \"Rs after 10% discount\")\n",
    "\n",
    "elif purchase_amount >=500 and purchase_amount < 1000:\n",
    "    print(\"your eligible for 5% discount\")\n",
    "    print(\"here is your total amount to be paid\", purchase_amount - (purchase_amount * 0.05) , \"Rs after 5% discount\")\n",
    "\n",
    "else:\n",
    "    print(\"sorry, your not eligible for discount\")\n",
    "    print(\"here is your total amount to be paid\", purchase_amount, \"Rs\")"
   ]
  },
  {
   "cell_type": "code",
   "execution_count": 76,
   "metadata": {},
   "outputs": [
    {
     "name": "stdout",
     "output_type": "stream",
     "text": [
      "Your income tax amount is: $2000.00\n"
     ]
    }
   ],
   "source": [
    "income = 20000\n",
    "\n",
    "if income <= 10000:\n",
    "    tax_rate = 0.0\n",
    "elif income <= 40000:\n",
    "    tax_rate = 0.1\n",
    "elif income <= 80000:\n",
    "    tax_rate = 0.2\n",
    "elif income > 100000:\n",
    "    tax_rate = 0.3\n",
    "else:\n",
    "    tax_rate = 0\n",
    "\n",
    "if tax_rate == 0.0:\n",
    "    tax_amount = 0.0\n",
    "else:\n",
    "    tax_amount = income * tax_rate\n",
    "\n",
    "print(f\"Your income tax amount is: ${tax_amount:.2f}\")\n"
   ]
  },
  {
   "cell_type": "markdown",
   "metadata": {},
   "source": [
    "##### Nested if\n",
    "login"
   ]
  },
  {
   "cell_type": "code",
   "execution_count": 95,
   "metadata": {},
   "outputs": [],
   "source": [
    "def login(username, password):\n",
    "    # Assume the valid username and password\n",
    "    valid_username = \"pavan\"\n",
    "    valid_password = \"pass123\"\n",
    "\n",
    "    # Check if the username is valid\n",
    "    if username == valid_username:\n",
    "        # If the username is valid, check if the password is valid\n",
    "        if password == valid_password:\n",
    "            return \"Login successful! Welcome \" + username\n",
    "        else:\n",
    "            return \"Invalid password! Please try again.\"\n",
    "    else:\n",
    "        return \"Invalid username! Please try again.\"\n"
   ]
  },
  {
   "cell_type": "code",
   "execution_count": 96,
   "metadata": {},
   "outputs": [
    {
     "data": {
      "text/plain": [
       "'Invalid password! Please try again.'"
      ]
     },
     "execution_count": 96,
     "metadata": {},
     "output_type": "execute_result"
    }
   ],
   "source": [
    "login (\"pavan\", \"pavan123\")"
   ]
  },
  {
   "cell_type": "code",
   "execution_count": 97,
   "metadata": {},
   "outputs": [
    {
     "data": {
      "text/plain": [
       "'Login successful! Welcome pavan'"
      ]
     },
     "execution_count": 97,
     "metadata": {},
     "output_type": "execute_result"
    }
   ],
   "source": [
    "login (\"pavan\", \"pass123\")"
   ]
  },
  {
   "cell_type": "markdown",
   "metadata": {},
   "source": [
    "##### driving license"
   ]
  },
  {
   "cell_type": "code",
   "execution_count": 99,
   "metadata": {},
   "outputs": [],
   "source": [
    "def driving_eligibility_check(age, has_license):\n",
    "\n",
    "    # Check eligibility for driving\n",
    "    if age >= 18:\n",
    "        if has_license.lower() == \"yes\":\n",
    "            print(\"You are eligible to drive.\")\n",
    "        else:\n",
    "            print(\"You are eligible to apply for a driver's license.\")\n",
    "    else:\n",
    "        print(\"You are not eligible to drive yet.\")\n"
   ]
  },
  {
   "cell_type": "code",
   "execution_count": 101,
   "metadata": {},
   "outputs": [
    {
     "name": "stdout",
     "output_type": "stream",
     "text": [
      "You are eligible to apply for a driver's license.\n"
     ]
    }
   ],
   "source": [
    "driving_eligibility_check(18, \"No\")"
   ]
  },
  {
   "cell_type": "code",
   "execution_count": 102,
   "metadata": {},
   "outputs": [
    {
     "name": "stdout",
     "output_type": "stream",
     "text": [
      "You are eligible to drive.\n"
     ]
    }
   ],
   "source": [
    "driving_eligibility_check(18, \"Yes\")"
   ]
  },
  {
   "cell_type": "code",
   "execution_count": 103,
   "metadata": {},
   "outputs": [
    {
     "name": "stdout",
     "output_type": "stream",
     "text": [
      "You are not eligible to drive yet.\n"
     ]
    }
   ],
   "source": [
    "driving_eligibility_check(17, \"No\")"
   ]
  },
  {
   "cell_type": "code",
   "execution_count": null,
   "metadata": {},
   "outputs": [],
   "source": []
  }
 ],
 "metadata": {
  "kernelspec": {
   "display_name": "Python 3",
   "language": "python",
   "name": "python3"
  },
  "language_info": {
   "codemirror_mode": {
    "name": "ipython",
    "version": 3
   },
   "file_extension": ".py",
   "mimetype": "text/x-python",
   "name": "python",
   "nbconvert_exporter": "python",
   "pygments_lexer": "ipython3",
   "version": "3.12.1"
  }
 },
 "nbformat": 4,
 "nbformat_minor": 2
}
